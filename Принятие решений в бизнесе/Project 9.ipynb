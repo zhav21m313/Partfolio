{
 "cells": [
  {
   "cell_type": "markdown",
   "id": "f4f49301",
   "metadata": {},
   "source": [
    "# Принятие решения в бизнесе"
   ]
  },
  {
   "cell_type": "markdown",
   "id": "304255d0",
   "metadata": {},
   "source": [
    "В нашем распоряжении имеется список гипотез для увеличения выручки\n",
    "\n",
    "Наша задача - проанализировать гипотезы, запустить A/B-тест и проанализировать результаты\n",
    "\n",
    "**Описание данных:**\n",
    "\n",
    "Структура hypothesis.csv:\n",
    "\n",
    "* Hypothesis — краткое описание гипотезы;\n",
    "* Reach — охват пользователей по 10-балльной шкале;\n",
    "* Impact — влияние на пользователей по 10-балльной шкале;\n",
    "* Confidence — уверенность в гипотезе по 10-балльной шкале;\n",
    "* Efforts — затраты ресурсов на проверку гипотезы по 10-балльной шкале. Чем больше значение Efforts, тем дороже проверка гипотезы.\n",
    "\n",
    "Cтруктура orders.csv:\n",
    "\n",
    "* transactionId — идентификатор заказа;\n",
    "* visitorId — идентификатор пользователя, совершившего заказ;\n",
    "* date — дата, когда был совершён заказ;\n",
    "* revenue — выручка заказа;\n",
    "* group — группа A/B-теста, в которую попал заказ.\n",
    "\n",
    "Cтруктура visitors.csv:\n",
    "\n",
    "* date — дата;\n",
    "* group — группа A/B-теста;\n",
    "* visitors — количество пользователей в указанную дату в указанной группе A/B-теста\n"
   ]
  },
  {
   "cell_type": "code",
   "execution_count": 1,
   "id": "f3c54b96",
   "metadata": {},
   "outputs": [],
   "source": [
    "import pandas as pd\n",
    "import datetime as dt\n",
    "import numpy as np\n",
    "import matplotlib.pyplot as plt\n",
    "import scipy.stats as stats\n",
    "from pandas.plotting import register_matplotlib_converters\n",
    "import warnings"
   ]
  },
  {
   "cell_type": "markdown",
   "id": "4ed9b79f",
   "metadata": {},
   "source": [
    "**Загрузка данных:**"
   ]
  },
  {
   "cell_type": "code",
   "execution_count": 2,
   "id": "39ea1531",
   "metadata": {},
   "outputs": [],
   "source": [
    "try:\n",
    "    df = pd.read_csv('/datasets/hypothesis.csv').copy()\n",
    "except:\n",
    "    df = pd.read_csv('C:/Users/jerno/PycharmProjects/sds2/Data/hypothesis.csv').copy()\n",
    "try:\n",
    "    orders = pd.read_csv('/datasets/orders.csv').copy()\n",
    "except:\n",
    "    orders = pd.read_csv('C:/Users/jerno/PycharmProjects/sds2/Data/orders.csv').copy()\n",
    "try:\n",
    "    visitors = pd.read_csv('/datasets/visitors.csv').copy()\n",
    "except:\n",
    "    visitors = pd.read_csv('C:/Users/jerno/PycharmProjects/sds2/Data/visitors.csv').copy()"
   ]
  },
  {
   "cell_type": "markdown",
   "id": "4e9a25ba",
   "metadata": {},
   "source": [
    "## Часть 1. Приоритизация гипотез"
   ]
  },
  {
   "cell_type": "code",
   "execution_count": 3,
   "id": "16e3df30",
   "metadata": {},
   "outputs": [],
   "source": [
    "df.columns = map(str.lower, df.columns)"
   ]
  },
  {
   "cell_type": "markdown",
   "id": "46acabf4",
   "metadata": {},
   "source": [
    "### Применение фреймворка ICE"
   ]
  },
  {
   "cell_type": "code",
   "execution_count": 4,
   "id": "f786d786",
   "metadata": {},
   "outputs": [
    {
     "data": {
      "text/html": [
       "<div>\n",
       "<style scoped>\n",
       "    .dataframe tbody tr th:only-of-type {\n",
       "        vertical-align: middle;\n",
       "    }\n",
       "\n",
       "    .dataframe tbody tr th {\n",
       "        vertical-align: top;\n",
       "    }\n",
       "\n",
       "    .dataframe thead th {\n",
       "        text-align: right;\n",
       "    }\n",
       "</style>\n",
       "<table border=\"1\" class=\"dataframe\">\n",
       "  <thead>\n",
       "    <tr style=\"text-align: right;\">\n",
       "      <th></th>\n",
       "      <th>hypothesis</th>\n",
       "      <th>ice</th>\n",
       "    </tr>\n",
       "  </thead>\n",
       "  <tbody>\n",
       "    <tr>\n",
       "      <th>8</th>\n",
       "      <td>Запустить акцию, дающую скидку на товар в день...</td>\n",
       "      <td>16.200000</td>\n",
       "    </tr>\n",
       "    <tr>\n",
       "      <th>0</th>\n",
       "      <td>Добавить два новых канала привлечения трафика,...</td>\n",
       "      <td>13.333333</td>\n",
       "    </tr>\n",
       "    <tr>\n",
       "      <th>7</th>\n",
       "      <td>Добавить форму подписки на все основные страни...</td>\n",
       "      <td>11.200000</td>\n",
       "    </tr>\n",
       "    <tr>\n",
       "      <th>6</th>\n",
       "      <td>Показать на главной странице баннеры с актуаль...</td>\n",
       "      <td>8.000000</td>\n",
       "    </tr>\n",
       "    <tr>\n",
       "      <th>2</th>\n",
       "      <td>Добавить блоки рекомендаций товаров на сайт ин...</td>\n",
       "      <td>7.000000</td>\n",
       "    </tr>\n",
       "    <tr>\n",
       "      <th>1</th>\n",
       "      <td>Запустить собственную службу доставки, что сок...</td>\n",
       "      <td>2.000000</td>\n",
       "    </tr>\n",
       "    <tr>\n",
       "      <th>5</th>\n",
       "      <td>Добавить страницу отзывов клиентов о магазине,...</td>\n",
       "      <td>1.333333</td>\n",
       "    </tr>\n",
       "    <tr>\n",
       "      <th>3</th>\n",
       "      <td>Изменить структура категорий, что увеличит кон...</td>\n",
       "      <td>1.125000</td>\n",
       "    </tr>\n",
       "    <tr>\n",
       "      <th>4</th>\n",
       "      <td>Изменить цвет фона главной страницы, чтобы уве...</td>\n",
       "      <td>1.000000</td>\n",
       "    </tr>\n",
       "  </tbody>\n",
       "</table>\n",
       "</div>"
      ],
      "text/plain": [
       "                                          hypothesis        ice\n",
       "8  Запустить акцию, дающую скидку на товар в день...  16.200000\n",
       "0  Добавить два новых канала привлечения трафика,...  13.333333\n",
       "7  Добавить форму подписки на все основные страни...  11.200000\n",
       "6  Показать на главной странице баннеры с актуаль...   8.000000\n",
       "2  Добавить блоки рекомендаций товаров на сайт ин...   7.000000\n",
       "1  Запустить собственную службу доставки, что сок...   2.000000\n",
       "5  Добавить страницу отзывов клиентов о магазине,...   1.333333\n",
       "3  Изменить структура категорий, что увеличит кон...   1.125000\n",
       "4  Изменить цвет фона главной страницы, чтобы уве...   1.000000"
      ]
     },
     "execution_count": 4,
     "metadata": {},
     "output_type": "execute_result"
    }
   ],
   "source": [
    "df['ice']= (df['impact']*df['confidence'])/df['efforts']\n",
    "df[['hypothesis','ice']].sort_values(by='ice',ascending=False)"
   ]
  },
  {
   "cell_type": "markdown",
   "id": "b82c412a",
   "metadata": {},
   "source": [
    "### Применение фреймворка RICE"
   ]
  },
  {
   "cell_type": "code",
   "execution_count": 5,
   "id": "f5d8486c",
   "metadata": {},
   "outputs": [
    {
     "data": {
      "text/html": [
       "<div>\n",
       "<style scoped>\n",
       "    .dataframe tbody tr th:only-of-type {\n",
       "        vertical-align: middle;\n",
       "    }\n",
       "\n",
       "    .dataframe tbody tr th {\n",
       "        vertical-align: top;\n",
       "    }\n",
       "\n",
       "    .dataframe thead th {\n",
       "        text-align: right;\n",
       "    }\n",
       "</style>\n",
       "<table border=\"1\" class=\"dataframe\">\n",
       "  <thead>\n",
       "    <tr style=\"text-align: right;\">\n",
       "      <th></th>\n",
       "      <th>hypothesis</th>\n",
       "      <th>rice</th>\n",
       "    </tr>\n",
       "  </thead>\n",
       "  <tbody>\n",
       "    <tr>\n",
       "      <th>7</th>\n",
       "      <td>Добавить форму подписки на все основные страни...</td>\n",
       "      <td>112.0</td>\n",
       "    </tr>\n",
       "    <tr>\n",
       "      <th>2</th>\n",
       "      <td>Добавить блоки рекомендаций товаров на сайт ин...</td>\n",
       "      <td>56.0</td>\n",
       "    </tr>\n",
       "    <tr>\n",
       "      <th>0</th>\n",
       "      <td>Добавить два новых канала привлечения трафика,...</td>\n",
       "      <td>40.0</td>\n",
       "    </tr>\n",
       "    <tr>\n",
       "      <th>6</th>\n",
       "      <td>Показать на главной странице баннеры с актуаль...</td>\n",
       "      <td>40.0</td>\n",
       "    </tr>\n",
       "    <tr>\n",
       "      <th>8</th>\n",
       "      <td>Запустить акцию, дающую скидку на товар в день...</td>\n",
       "      <td>16.2</td>\n",
       "    </tr>\n",
       "    <tr>\n",
       "      <th>3</th>\n",
       "      <td>Изменить структура категорий, что увеличит кон...</td>\n",
       "      <td>9.0</td>\n",
       "    </tr>\n",
       "    <tr>\n",
       "      <th>1</th>\n",
       "      <td>Запустить собственную службу доставки, что сок...</td>\n",
       "      <td>4.0</td>\n",
       "    </tr>\n",
       "    <tr>\n",
       "      <th>5</th>\n",
       "      <td>Добавить страницу отзывов клиентов о магазине,...</td>\n",
       "      <td>4.0</td>\n",
       "    </tr>\n",
       "    <tr>\n",
       "      <th>4</th>\n",
       "      <td>Изменить цвет фона главной страницы, чтобы уве...</td>\n",
       "      <td>3.0</td>\n",
       "    </tr>\n",
       "  </tbody>\n",
       "</table>\n",
       "</div>"
      ],
      "text/plain": [
       "                                          hypothesis   rice\n",
       "7  Добавить форму подписки на все основные страни...  112.0\n",
       "2  Добавить блоки рекомендаций товаров на сайт ин...   56.0\n",
       "0  Добавить два новых канала привлечения трафика,...   40.0\n",
       "6  Показать на главной странице баннеры с актуаль...   40.0\n",
       "8  Запустить акцию, дающую скидку на товар в день...   16.2\n",
       "3  Изменить структура категорий, что увеличит кон...    9.0\n",
       "1  Запустить собственную службу доставки, что сок...    4.0\n",
       "5  Добавить страницу отзывов клиентов о магазине,...    4.0\n",
       "4  Изменить цвет фона главной страницы, чтобы уве...    3.0"
      ]
     },
     "execution_count": 5,
     "metadata": {},
     "output_type": "execute_result"
    }
   ],
   "source": [
    "df['rice']=(df['reach']*df['impact']*df['confidence'])/df['efforts']\n",
    "df[['hypothesis','rice']].sort_values(by='rice',ascending=False)"
   ]
  },
  {
   "cell_type": "markdown",
   "id": "e75f2147",
   "metadata": {},
   "source": [
    "**Вывод:**\n",
    "* заметим, что при вычислении RICE, относительно ICE, числитель ещё умножается на \"reach\". Это нам показывает, что значение RICE может быть в несколько раз больше значения ICE\n",
    "* значение \"reach\" влияет на приоритезацию гипотез"
   ]
  },
  {
   "cell_type": "markdown",
   "id": "3fe093b9",
   "metadata": {},
   "source": [
    "# Часть 2. Анализ A/B-теста"
   ]
  },
  {
   "cell_type": "code",
   "execution_count": 6,
   "id": "97c2a747",
   "metadata": {},
   "outputs": [],
   "source": [
    "orders['date']= pd.to_datetime(orders['date'], format='%Y/%m/%d')\n",
    "visitors['date'] = pd.to_datetime(visitors['date'], format='%Y/%m/%d')"
   ]
  },
  {
   "cell_type": "markdown",
   "id": "f24d1a76",
   "metadata": {},
   "source": [
    "<div class=\"alert alert-info\">\n",
    "\n",
    "Исследование качества данных  \n",
    "\n",
    "</div>"
   ]
  },
  {
   "cell_type": "markdown",
   "id": "f41971b9",
   "metadata": {},
   "source": [
    "## Исследование качества данных"
   ]
  },
  {
   "cell_type": "markdown",
   "id": "116ca84e",
   "metadata": {},
   "source": [
    "### Подсчёт групп в AB-тесте"
   ]
  },
  {
   "cell_type": "markdown",
   "id": "7757e378",
   "metadata": {},
   "source": [
    "**В AB тесте учавствуют две группы**"
   ]
  },
  {
   "cell_type": "markdown",
   "id": "bd15f2c5",
   "metadata": {},
   "source": [
    "### Подсчёт пользователей в каждой группе"
   ]
  },
  {
   "cell_type": "markdown",
   "id": "1ee5f098",
   "metadata": {},
   "source": [
    "**До удаления дубликатов:**"
   ]
  },
  {
   "cell_type": "code",
   "execution_count": 7,
   "id": "711073ab",
   "metadata": {},
   "outputs": [
    {
     "data": {
      "text/plain": [
       "B    640\n",
       "A    557\n",
       "Name: group, dtype: int64"
      ]
     },
     "execution_count": 7,
     "metadata": {},
     "output_type": "execute_result"
    }
   ],
   "source": [
    "orders['group'].value_counts()"
   ]
  },
  {
   "cell_type": "code",
   "execution_count": 8,
   "id": "72224464",
   "metadata": {},
   "outputs": [
    {
     "data": {
      "text/plain": [
       "B    31\n",
       "A    31\n",
       "Name: group, dtype: int64"
      ]
     },
     "execution_count": 8,
     "metadata": {},
     "output_type": "execute_result"
    }
   ],
   "source": [
    "visitors['group'].value_counts()"
   ]
  },
  {
   "cell_type": "markdown",
   "id": "db21a671",
   "metadata": {},
   "source": [
    "### Минимальная и максимальная даты исследования"
   ]
  },
  {
   "cell_type": "code",
   "execution_count": 9,
   "id": "3ece7c23",
   "metadata": {},
   "outputs": [
    {
     "data": {
      "text/plain": [
       "Timestamp('2019-08-01 00:00:00')"
      ]
     },
     "execution_count": 9,
     "metadata": {},
     "output_type": "execute_result"
    }
   ],
   "source": [
    "orders['date'].min()"
   ]
  },
  {
   "cell_type": "code",
   "execution_count": 10,
   "id": "98055728",
   "metadata": {},
   "outputs": [
    {
     "data": {
      "text/plain": [
       "Timestamp('2019-08-31 00:00:00')"
      ]
     },
     "execution_count": 10,
     "metadata": {},
     "output_type": "execute_result"
    }
   ],
   "source": [
    "orders['date'].max()"
   ]
  },
  {
   "cell_type": "markdown",
   "id": "85a354ba",
   "metadata": {},
   "source": [
    "### Проверка на попадание пользователей в обе группы"
   ]
  },
  {
   "cell_type": "code",
   "execution_count": 11,
   "id": "00fe316d",
   "metadata": {},
   "outputs": [
    {
     "data": {
      "text/plain": [
       "group    58\n",
       "dtype: int64"
      ]
     },
     "execution_count": 11,
     "metadata": {},
     "output_type": "execute_result"
    }
   ],
   "source": [
    "orders.groupby('visitorId').agg({'group' : 'nunique'}).query('group>1').count()"
   ]
  },
  {
   "cell_type": "markdown",
   "id": "fd4ac9dc",
   "metadata": {},
   "source": [
    "**Как видим, имеются пользователи, которые попадают в обе группы. Удалим данные дубликаты**"
   ]
  },
  {
   "cell_type": "code",
   "execution_count": 12,
   "id": "c2c7e37a",
   "metadata": {},
   "outputs": [],
   "source": [
    "double=orders.groupby('visitorId').agg({'group' : 'nunique'}).reset_index().query('group>1')['visitorId'].unique()"
   ]
  },
  {
   "cell_type": "code",
   "execution_count": 13,
   "id": "805acca8",
   "metadata": {},
   "outputs": [
    {
     "data": {
      "text/plain": [
       "B    548\n",
       "A    468\n",
       "Name: group, dtype: int64"
      ]
     },
     "execution_count": 13,
     "metadata": {},
     "output_type": "execute_result"
    }
   ],
   "source": [
    "orders = orders.query('visitorId not in @double')\n",
    "orders['group'].value_counts()"
   ]
  },
  {
   "cell_type": "markdown",
   "id": "10157347",
   "metadata": {},
   "source": [
    "### Проверка данных на наличие пропусков и дубликатов"
   ]
  },
  {
   "cell_type": "code",
   "execution_count": 14,
   "id": "d64fb990",
   "metadata": {},
   "outputs": [
    {
     "name": "stdout",
     "output_type": "stream",
     "text": [
      "<class 'pandas.core.frame.DataFrame'>\n",
      "Int64Index: 1016 entries, 0 to 1196\n",
      "Data columns (total 5 columns):\n",
      " #   Column         Non-Null Count  Dtype         \n",
      "---  ------         --------------  -----         \n",
      " 0   transactionId  1016 non-null   int64         \n",
      " 1   visitorId      1016 non-null   int64         \n",
      " 2   date           1016 non-null   datetime64[ns]\n",
      " 3   revenue        1016 non-null   int64         \n",
      " 4   group          1016 non-null   object        \n",
      "dtypes: datetime64[ns](1), int64(3), object(1)\n",
      "memory usage: 47.6+ KB\n"
     ]
    }
   ],
   "source": [
    "orders.info()"
   ]
  },
  {
   "cell_type": "code",
   "execution_count": 15,
   "id": "4aeefbac",
   "metadata": {},
   "outputs": [
    {
     "name": "stdout",
     "output_type": "stream",
     "text": [
      "<class 'pandas.core.frame.DataFrame'>\n",
      "RangeIndex: 62 entries, 0 to 61\n",
      "Data columns (total 3 columns):\n",
      " #   Column    Non-Null Count  Dtype         \n",
      "---  ------    --------------  -----         \n",
      " 0   date      62 non-null     datetime64[ns]\n",
      " 1   group     62 non-null     object        \n",
      " 2   visitors  62 non-null     int64         \n",
      "dtypes: datetime64[ns](1), int64(1), object(1)\n",
      "memory usage: 1.6+ KB\n"
     ]
    }
   ],
   "source": [
    "visitors.info()"
   ]
  },
  {
   "cell_type": "code",
   "execution_count": 16,
   "id": "cee70cfc",
   "metadata": {},
   "outputs": [
    {
     "data": {
      "text/plain": [
       "954"
      ]
     },
     "execution_count": 16,
     "metadata": {},
     "output_type": "execute_result"
    }
   ],
   "source": [
    "orders[['date','group']].duplicated().sum()"
   ]
  },
  {
   "cell_type": "markdown",
   "id": "073e2e5f",
   "metadata": {},
   "source": [
    "**Пропуски отсутствуют, но имеются дубликаты. В дальнейшем мы их удалим.**"
   ]
  },
  {
   "cell_type": "markdown",
   "id": "381d30ed",
   "metadata": {},
   "source": [
    "## Построение графика кумулятивной выручки по группам"
   ]
  },
  {
   "cell_type": "code",
   "execution_count": 17,
   "id": "e67f611e",
   "metadata": {},
   "outputs": [
    {
     "data": {
      "text/html": [
       "<div>\n",
       "<style scoped>\n",
       "    .dataframe tbody tr th:only-of-type {\n",
       "        vertical-align: middle;\n",
       "    }\n",
       "\n",
       "    .dataframe tbody tr th {\n",
       "        vertical-align: top;\n",
       "    }\n",
       "\n",
       "    .dataframe thead th {\n",
       "        text-align: right;\n",
       "    }\n",
       "</style>\n",
       "<table border=\"1\" class=\"dataframe\">\n",
       "  <thead>\n",
       "    <tr style=\"text-align: right;\">\n",
       "      <th></th>\n",
       "      <th>date</th>\n",
       "      <th>group</th>\n",
       "      <th>orders</th>\n",
       "      <th>buyers</th>\n",
       "      <th>revenue</th>\n",
       "      <th>visitors</th>\n",
       "    </tr>\n",
       "  </thead>\n",
       "  <tbody>\n",
       "    <tr>\n",
       "      <th>0</th>\n",
       "      <td>2019-08-01</td>\n",
       "      <td>A</td>\n",
       "      <td>23</td>\n",
       "      <td>19</td>\n",
       "      <td>142779</td>\n",
       "      <td>719</td>\n",
       "    </tr>\n",
       "    <tr>\n",
       "      <th>1</th>\n",
       "      <td>2019-08-01</td>\n",
       "      <td>B</td>\n",
       "      <td>17</td>\n",
       "      <td>17</td>\n",
       "      <td>59758</td>\n",
       "      <td>713</td>\n",
       "    </tr>\n",
       "    <tr>\n",
       "      <th>2</th>\n",
       "      <td>2019-08-02</td>\n",
       "      <td>A</td>\n",
       "      <td>42</td>\n",
       "      <td>36</td>\n",
       "      <td>234381</td>\n",
       "      <td>1338</td>\n",
       "    </tr>\n",
       "    <tr>\n",
       "      <th>3</th>\n",
       "      <td>2019-08-02</td>\n",
       "      <td>B</td>\n",
       "      <td>40</td>\n",
       "      <td>39</td>\n",
       "      <td>221801</td>\n",
       "      <td>1294</td>\n",
       "    </tr>\n",
       "    <tr>\n",
       "      <th>4</th>\n",
       "      <td>2019-08-03</td>\n",
       "      <td>A</td>\n",
       "      <td>66</td>\n",
       "      <td>60</td>\n",
       "      <td>346854</td>\n",
       "      <td>1845</td>\n",
       "    </tr>\n",
       "  </tbody>\n",
       "</table>\n",
       "</div>"
      ],
      "text/plain": [
       "        date group  orders  buyers  revenue  visitors\n",
       "0 2019-08-01     A      23      19   142779       719\n",
       "1 2019-08-01     B      17      17    59758       713\n",
       "2 2019-08-02     A      42      36   234381      1338\n",
       "3 2019-08-02     B      40      39   221801      1294\n",
       "4 2019-08-03     A      66      60   346854      1845"
      ]
     },
     "execution_count": 17,
     "metadata": {},
     "output_type": "execute_result"
    }
   ],
   "source": [
    "# создаем массив уникальных пар значений дат и групп теста\n",
    "datesGroups = orders[['date','group']].drop_duplicates() \n",
    "ordersAggregated = datesGroups.apply(lambda x: orders[np.logical_and(orders['date'] <= x['date'], orders['group'] == x['group'])]\\\n",
    ".agg({'date' : 'max', 'group' : 'max', 'transactionId' : 'nunique', 'visitorId' : 'nunique', 'revenue' : 'sum'}), axis=1).sort_values(by=['date','group'])\n",
    "visitorsAggregated = datesGroups.apply(lambda x: visitors[np.logical_and(visitors['date'] <= x['date'], visitors['group'] == x['group'])].agg({'date' : 'max', 'group' : 'max', 'visitors' : 'sum'}), axis=1).sort_values(by=['date','group'])\n",
    "# создаем массив уникальных пар значений дат и групп теста\n",
    "datesGroups = orders[['date','group']].drop_duplicates()\n",
    "\n",
    "# получаем агрегированные кумулятивные по дням данные о заказах \n",
    "ordersAggregated = datesGroups.apply(lambda x: orders[np.logical_and(orders['date'] <= x['date'], orders['group'] == x['group'])].agg({'date' : 'max', 'group' : 'max', 'transactionId' : 'nunique', 'visitorId' : 'nunique', 'revenue' : 'sum'}), axis=1).sort_values(by=['date','group'])\n",
    "\n",
    "# получаем агрегированные кумулятивные по дням данные о посетителях интернет-магазина \n",
    "visitorsAggregated = datesGroups.apply(lambda x: visitors[np.logical_and(visitors['date'] <= x['date'], visitors['group'] == x['group'])].agg({'date' : 'max', 'group' : 'max', 'visitors' : 'sum'}), axis=1).sort_values(by=['date','group'])\n",
    "\n",
    "# объединяем кумулятивные данные в одной таблице и присваиваем ее столбцам понятные названия\n",
    "cumulativeData = ordersAggregated.merge(visitorsAggregated, left_on=['date', 'group'], right_on=['date', 'group'])\n",
    "cumulativeData.columns = ['date', 'group', 'orders', 'buyers', 'revenue', 'visitors']\n",
    "\n",
    "cumulativeData.head(5)"
   ]
  },
  {
   "cell_type": "code",
   "execution_count": 18,
   "id": "3452e3e6",
   "metadata": {},
   "outputs": [
    {
     "data": {
      "image/png": "[encoded data removed]",
      "text/plain": [
       "<Figure size 720x360 with 1 Axes>"
      ]
     },
     "metadata": {
      "needs_background": "light"
     },
     "output_type": "display_data"
    }
   ],
   "source": [
    "# датафрейм с кумулятивным количеством заказов и кумулятивной выручкой по дням в группе А\n",
    "cumulativeRevenueA = cumulativeData[cumulativeData['group']=='A'][['date','revenue', 'orders']]\n",
    "\n",
    "# датафрейм с кумулятивным количеством заказов и кумулятивной выручкой по дням в группе B\n",
    "cumulativeRevenueB = cumulativeData[cumulativeData['group']=='B'][['date','revenue', 'orders']]\n",
    "\n",
    "\n",
    "# Строим график выручки группы А\n",
    "plt.figure(figsize=(10,5))\n",
    "plt.plot(cumulativeRevenueA['date'], cumulativeRevenueA['revenue'], label='A')\n",
    "# Строим график выручки группы B\n",
    "plt.plot(cumulativeRevenueB['date'], cumulativeRevenueB['revenue'], label='B')\n",
    "plt.title('График кумулятивной выручки по группам')\n",
    "plt.grid(True)\n",
    "plt.xticks(rotation=45)\n",
    "plt.xlabel('Дата')\n",
    "plt.ylabel('Выручка')\n",
    "plt.show()"
   ]
  },
  {
   "cell_type": "markdown",
   "id": "99ef7b3d",
   "metadata": {},
   "source": [
    "**Вывод:**\n",
    "* как видим в начале выручка равномерно увеличивалась, однако в некоторых точнах произошли скачки, которые привели к тому, что выручка группы B примерно в 2 раза возрасла\n",
    "* это может сигнализировать о всплесках числа заказов, либо о появлении очень дорогих заказов в выборке."
   ]
  },
  {
   "cell_type": "markdown",
   "id": "ce714646",
   "metadata": {},
   "source": [
    "## Построение графика кумулятивного среднего чека по группам."
   ]
  },
  {
   "cell_type": "code",
   "execution_count": 19,
   "id": "84b760f1",
   "metadata": {},
   "outputs": [
    {
     "data": {
      "image/png": "[encoded data removed]",
      "text/plain": [
       "<Figure size 720x360 with 1 Axes>"
      ]
     },
     "metadata": {
      "needs_background": "light"
     },
     "output_type": "display_data"
    }
   ],
   "source": [
    "plt.figure(figsize=(10,5))\n",
    "plt.plot(cumulativeRevenueA['date'], cumulativeRevenueA['revenue']/cumulativeRevenueA['orders'], label='A')\n",
    "plt.plot(cumulativeRevenueB['date'], cumulativeRevenueB['revenue']/cumulativeRevenueB['orders'], label='B')\n",
    "plt.title('График кумулятивного чека  по группам')\n",
    "plt.grid(True)\n",
    "plt.xticks(rotation=45)\n",
    "plt.xlabel('Дата')\n",
    "plt.ylabel('Средний чек')\n",
    "plt.legend() \n",
    "plt.show()"
   ]
  },
  {
   "cell_type": "markdown",
   "id": "b4db2c05",
   "metadata": {},
   "source": [
    "**Вывод:**\n",
    "* обе группы изначально претерпевают скачки: группа А в худшую сторону, а В - в лучшую\n",
    "* в  2019-08-13 выручка групп становится одинаковой\n",
    "* после 2019-08-13 выручка группы В претерпевает резкий рост , посде 2019-08-13 выручка группы А имеет равномерный характер"
   ]
  },
  {
   "cell_type": "markdown",
   "id": "486b983c",
   "metadata": {},
   "source": [
    "## Построение графика относительного изменения кумулятивного среднего чека группы B к группе A"
   ]
  },
  {
   "cell_type": "code",
   "execution_count": 20,
   "id": "e08ed0a0",
   "metadata": {},
   "outputs": [
    {
     "data": {
      "image/png": "[encoded data removed]",
      "text/plain": [
       "<Figure size 720x360 with 1 Axes>"
      ]
     },
     "metadata": {
      "needs_background": "light"
     },
     "output_type": "display_data"
    }
   ],
   "source": [
    "# собираем данные в одном датафрейме\n",
    "mergedCumulativeRevenue = cumulativeRevenueA.merge(cumulativeRevenueB, left_on='date', right_on='date', how='left', suffixes=['A', 'B'])\n",
    "\n",
    "plt.figure(figsize=(10,5))\n",
    "# cтроим отношение средних чеков\n",
    "plt.plot(mergedCumulativeRevenue['date'], (mergedCumulativeRevenue['revenueB']/mergedCumulativeRevenue['ordersB'])/(mergedCumulativeRevenue['revenueA']/mergedCumulativeRevenue['ordersA'])-1)\n",
    "plt.grid(True)\n",
    "# добавляем ось X\n",
    "plt.axhline(y=0, color='black', linestyle='--') \n",
    "plt.xticks(rotation=45)\n",
    "plt.title('Относительное изменение кумулятивного среднего чека')\n",
    "plt.xlabel('Дата')\n",
    "plt.ylabel('Средний чек')\n",
    "plt.show()"
   ]
  },
  {
   "cell_type": "markdown",
   "id": "aee53cd4",
   "metadata": {},
   "source": [
    "**Вывод:**\n",
    "* В нескольких точках график различия между сегментами резко «скачет»\n",
    "* Можно сделать предположение, что где-то уж точно спрятались крупные заказы и выбросы"
   ]
  },
  {
   "cell_type": "markdown",
   "id": "ff154c6c",
   "metadata": {},
   "source": [
    "## Построение графика кумулятивного среднего количества заказов на посетителя по группам"
   ]
  },
  {
   "cell_type": "code",
   "execution_count": 21,
   "id": "eba844c5",
   "metadata": {},
   "outputs": [
    {
     "data": {
      "image/png": "[encoded data removed]",
      "text/plain": [
       "<Figure size 720x360 with 1 Axes>"
      ]
     },
     "metadata": {
      "needs_background": "light"
     },
     "output_type": "display_data"
    }
   ],
   "source": [
    "cumulativeData['conversion'] = cumulativeData['orders']/cumulativeData['visitors']\n",
    "cumulativeDataA = cumulativeData[cumulativeData['group']=='A']\n",
    "cumulativeDataB = cumulativeData[cumulativeData['group']=='B']\n",
    "plt.figure(figsize=(10,5))\n",
    "plt.plot(cumulativeDataA['date'], cumulativeDataA['conversion'], label='A')\n",
    "plt.plot(cumulativeDataB['date'], cumulativeDataB['conversion'], label='B')\n",
    "plt.grid(True)\n",
    "plt.xticks(rotation=45)\n",
    "plt.xlabel('Дата')\n",
    "plt.ylabel('Средний количество заказов')\n",
    "plt.legend()\n",
    "plt.title('Кумулятивное среднее количество заказов на пользователя')\n",
    "plt.show()\n"
   ]
  },
  {
   "cell_type": "markdown",
   "id": "fc6b631c",
   "metadata": {},
   "source": [
    "**Вывод:**\n",
    "* средний чек претерпевает резкие скачки в начальных датах( среднее количество заказов увеличилось)\n",
    "* как видим, после скачка у обеих групп среднее количество уменьшилось; у группы B в определённый момент наблюдается резкое увеличение среднего чека, после чего среднее количество \"устаканивается\" и принимает равномерный характер\n",
    "* группа А после своего падения \"устаканивается\" и принимает равномерный характер"
   ]
  },
  {
   "cell_type": "markdown",
   "id": "bf1af9b1",
   "metadata": {},
   "source": [
    "## Построение графика относительного изменения кумулятивного среднего количества заказов на посетителя группы B к группе A"
   ]
  },
  {
   "cell_type": "code",
   "execution_count": 22,
   "id": "45eec182",
   "metadata": {},
   "outputs": [
    {
     "data": {
      "image/png": "[encoded data removed]",
      "text/plain": [
       "<Figure size 720x360 with 1 Axes>"
      ]
     },
     "metadata": {
      "needs_background": "light"
     },
     "output_type": "display_data"
    }
   ],
   "source": [
    "register_matplotlib_converters()\n",
    "\n",
    "\n",
    "datesGroups = orders[['date', 'group']].drop_duplicates()\n",
    "\n",
    "ordersAggregated = datesGroups.apply(\n",
    "    lambda x: orders[\n",
    "        np.logical_and(\n",
    "            orders['date'] <= x['date'], orders['group'] == x['group']\n",
    "        )\n",
    "    ].agg(\n",
    "        {\n",
    "            'date': 'max',\n",
    "            'group': 'max',\n",
    "            'transactionId': 'nunique',\n",
    "            'visitorId': 'nunique',\n",
    "            'revenue': 'sum',\n",
    "        }\n",
    "    ),\n",
    "    axis=1,\n",
    ").sort_values(by=['date', 'group'])\n",
    "\n",
    "visitorsAggregated = datesGroups.apply(\n",
    "    lambda x: visitors[\n",
    "        np.logical_and(\n",
    "            visitors['date'] <= x['date'], visitors['group'] == x['group']\n",
    "        )\n",
    "    ].agg({'date': 'max', 'group': 'max', 'visitors': 'sum'}),\n",
    "    axis=1,\n",
    ").sort_values(by=['date', 'group'])\n",
    "\n",
    "cumulativeData = ordersAggregated.merge(\n",
    "    visitorsAggregated, left_on=['date', 'group'], right_on=['date', 'group']\n",
    ")\n",
    "cumulativeData.columns = [\n",
    "    'date',\n",
    "    'group',\n",
    "    'orders',\n",
    "    'buyers',\n",
    "    'revenue',\n",
    "    'visitors',\n",
    "]\n",
    "\n",
    "cumulativeData['conversion'] = (\n",
    "    cumulativeData['orders'] / cumulativeData['visitors']\n",
    ")\n",
    "\n",
    "cumulativeDataA = cumulativeData[cumulativeData['group'] == 'A']\n",
    "cumulativeDataB = cumulativeData[cumulativeData['group'] == 'B']\n",
    "\n",
    "\n",
    "\n",
    "\n",
    "mergedCumulativeConversions = cumulativeDataA[['date','conversion']].merge(cumulativeDataB[['date','conversion']], left_on='date', right_on='date', how='left', suffixes=['A', 'B'])\n",
    "plt.figure(figsize=(10,5))\n",
    "plt.plot(mergedCumulativeConversions['date'], mergedCumulativeConversions['conversionB']/mergedCumulativeConversions['conversionA']-1)\n",
    "plt.grid(True)\n",
    "plt.axhline(y=0, color='black', linestyle='--')\n",
    "plt.axhline(y=0.2, color='grey', linestyle='--')\n",
    "plt.axis([\"2019-08-01\", '2019-08-31', -0.5, 0.5])\n",
    "plt.xticks(rotation=45)\n",
    "plt.title('Относительное изменение кумулятивного среднего количества заказов на посетителя')\n",
    "plt.xlabel('Дата')\n",
    "plt.ylabel('Средний количество заказов')\n",
    "plt.show()"
   ]
  },
  {
   "cell_type": "markdown",
   "id": "bd98bff2",
   "metadata": {},
   "source": [
    "**Вывод:**\n",
    "* как видим,кумулятивное среднее для группы В изначально проигрывает группу А\n",
    "* вскоре значение для В вырывается вперёд; позже конверсия группы А вырывается вперёд"
   ]
  },
  {
   "cell_type": "markdown",
   "id": "e4e526dd",
   "metadata": {},
   "source": [
    "## Построение точечного графика количества заказов по пользователям"
   ]
  },
  {
   "cell_type": "code",
   "execution_count": 23,
   "id": "60825029",
   "metadata": {},
   "outputs": [
    {
     "data": {
      "image/png": "[encoded data removed]",
      "text/plain": [
       "<Figure size 432x288 with 1 Axes>"
      ]
     },
     "metadata": {
      "needs_background": "light"
     },
     "output_type": "display_data"
    }
   ],
   "source": [
    "orders_by_users = orders.groupby('visitorId', as_index = False).agg({'transactionId':'nunique'}).sort_values(by='transactionId', ascending = False)\n",
    "orders_by_users.columns = ['visitorId', 'orders']\n",
    "\n",
    "x_values=pd.Series(range(0,len(orders_by_users)))\n",
    "plt.scatter(x_values,orders_by_users['orders'])\n",
    "plt.title('Количество заказов по пользователям')\n",
    "plt.grid(True)\n",
    "plt.show()                                                    \n",
    "                                                                   "
   ]
  },
  {
   "cell_type": "code",
   "execution_count": 24,
   "id": "3822a403",
   "metadata": {},
   "outputs": [
    {
     "data": {
      "text/html": [
       "<div>\n",
       "<style scoped>\n",
       "    .dataframe tbody tr th:only-of-type {\n",
       "        vertical-align: middle;\n",
       "    }\n",
       "\n",
       "    .dataframe tbody tr th {\n",
       "        vertical-align: top;\n",
       "    }\n",
       "\n",
       "    .dataframe thead th {\n",
       "        text-align: right;\n",
       "    }\n",
       "</style>\n",
       "<table border=\"1\" class=\"dataframe\">\n",
       "  <thead>\n",
       "    <tr style=\"text-align: right;\">\n",
       "      <th></th>\n",
       "      <th>orders</th>\n",
       "    </tr>\n",
       "  </thead>\n",
       "  <tbody>\n",
       "    <tr>\n",
       "      <th>1</th>\n",
       "      <td>937</td>\n",
       "    </tr>\n",
       "    <tr>\n",
       "      <th>2</th>\n",
       "      <td>29</td>\n",
       "    </tr>\n",
       "    <tr>\n",
       "      <th>3</th>\n",
       "      <td>7</td>\n",
       "    </tr>\n",
       "  </tbody>\n",
       "</table>\n",
       "</div>"
      ],
      "text/plain": [
       "   orders\n",
       "1     937\n",
       "2      29\n",
       "3       7"
      ]
     },
     "execution_count": 24,
     "metadata": {},
     "output_type": "execute_result"
    }
   ],
   "source": [
    "orders_by_users['orders'].value_counts().to_frame()"
   ]
  },
  {
   "cell_type": "markdown",
   "id": "893e0396",
   "metadata": {},
   "source": [
    "**Вывод:**\n",
    "* 937 пользователей сделали по одному заказу\n",
    "* 29 пользователей сделали по два заказа\n",
    "* 7 пользователей сделали по 7 заказов"
   ]
  },
  {
   "cell_type": "markdown",
   "id": "501bd3a8",
   "metadata": {},
   "source": [
    "## Подсчёт 95-й и 99-й перцентилей количества заказов на пользователя"
   ]
  },
  {
   "cell_type": "code",
   "execution_count": 25,
   "id": "27b410fc",
   "metadata": {},
   "outputs": [
    {
     "data": {
      "text/html": [
       "<div>\n",
       "<style scoped>\n",
       "    .dataframe tbody tr th:only-of-type {\n",
       "        vertical-align: middle;\n",
       "    }\n",
       "\n",
       "    .dataframe tbody tr th {\n",
       "        vertical-align: top;\n",
       "    }\n",
       "\n",
       "    .dataframe thead th {\n",
       "        text-align: right;\n",
       "    }\n",
       "</style>\n",
       "<table border=\"1\" class=\"dataframe\">\n",
       "  <thead>\n",
       "    <tr style=\"text-align: right;\">\n",
       "      <th></th>\n",
       "      <th>visitorId</th>\n",
       "      <th>orders</th>\n",
       "    </tr>\n",
       "  </thead>\n",
       "  <tbody>\n",
       "    <tr>\n",
       "      <th>908</th>\n",
       "      <td>3967698036</td>\n",
       "      <td>3</td>\n",
       "    </tr>\n",
       "    <tr>\n",
       "      <th>55</th>\n",
       "      <td>249864742</td>\n",
       "      <td>3</td>\n",
       "    </tr>\n",
       "    <tr>\n",
       "      <th>478</th>\n",
       "      <td>2108163459</td>\n",
       "      <td>3</td>\n",
       "    </tr>\n",
       "    <tr>\n",
       "      <th>687</th>\n",
       "      <td>2988190573</td>\n",
       "      <td>3</td>\n",
       "    </tr>\n",
       "    <tr>\n",
       "      <th>890</th>\n",
       "      <td>3908431265</td>\n",
       "      <td>3</td>\n",
       "    </tr>\n",
       "  </tbody>\n",
       "</table>\n",
       "</div>"
      ],
      "text/plain": [
       "      visitorId  orders\n",
       "908  3967698036       3\n",
       "55    249864742       3\n",
       "478  2108163459       3\n",
       "687  2988190573       3\n",
       "890  3908431265       3"
      ]
     },
     "execution_count": 25,
     "metadata": {},
     "output_type": "execute_result"
    }
   ],
   "source": [
    "orders_by_users.head()"
   ]
  },
  {
   "cell_type": "code",
   "execution_count": 26,
   "id": "09b0c01f",
   "metadata": {},
   "outputs": [
    {
     "data": {
      "text/plain": [
       "array([1., 2.])"
      ]
     },
     "execution_count": 26,
     "metadata": {},
     "output_type": "execute_result"
    }
   ],
   "source": [
    "np.percentile(orders_by_users['orders'],[95, 99])"
   ]
  },
  {
   "cell_type": "markdown",
   "id": "5205dd42",
   "metadata": {},
   "source": [
    "**Вывод:**\n",
    "* меньше или равняется 5% пользователей с количеством заказов 2 \n",
    "* меньше или равняется 1% пользователей с количеством заказа 1 "
   ]
  },
  {
   "cell_type": "markdown",
   "id": "bbb97ddc",
   "metadata": {},
   "source": [
    "## Построение точечного графика стоимостей заказов"
   ]
  },
  {
   "cell_type": "code",
   "execution_count": 27,
   "id": "00b17d06",
   "metadata": {},
   "outputs": [
    {
     "data": {
      "image/png": "[encoded data removed]",
      "text/plain": [
       "<Figure size 432x288 with 1 Axes>"
      ]
     },
     "metadata": {
      "needs_background": "light"
     },
     "output_type": "display_data"
    }
   ],
   "source": [
    "x_values = pd.Series(range(0,len(orders['revenue'])))\n",
    "plt.scatter(x_values, orders['revenue'],alpha=0.3) \n",
    "plt.grid(True)\n",
    "plt.show()"
   ]
  },
  {
   "cell_type": "code",
   "execution_count": 28,
   "id": "0dc71547",
   "metadata": {},
   "outputs": [
    {
     "data": {
      "text/html": [
       "<div>\n",
       "<style scoped>\n",
       "    .dataframe tbody tr th:only-of-type {\n",
       "        vertical-align: middle;\n",
       "    }\n",
       "\n",
       "    .dataframe tbody tr th {\n",
       "        vertical-align: top;\n",
       "    }\n",
       "\n",
       "    .dataframe thead th {\n",
       "        text-align: right;\n",
       "    }\n",
       "</style>\n",
       "<table border=\"1\" class=\"dataframe\">\n",
       "  <thead>\n",
       "    <tr style=\"text-align: right;\">\n",
       "      <th></th>\n",
       "      <th>revenue</th>\n",
       "    </tr>\n",
       "  </thead>\n",
       "  <tbody>\n",
       "    <tr>\n",
       "      <th>425</th>\n",
       "      <td>1294500</td>\n",
       "    </tr>\n",
       "    <tr>\n",
       "      <th>1196</th>\n",
       "      <td>202740</td>\n",
       "    </tr>\n",
       "    <tr>\n",
       "      <th>1136</th>\n",
       "      <td>92550</td>\n",
       "    </tr>\n",
       "    <tr>\n",
       "      <th>744</th>\n",
       "      <td>86620</td>\n",
       "    </tr>\n",
       "    <tr>\n",
       "      <th>743</th>\n",
       "      <td>67990</td>\n",
       "    </tr>\n",
       "    <tr>\n",
       "      <th>...</th>\n",
       "      <td>...</td>\n",
       "    </tr>\n",
       "    <tr>\n",
       "      <th>404</th>\n",
       "      <td>70</td>\n",
       "    </tr>\n",
       "    <tr>\n",
       "      <th>933</th>\n",
       "      <td>60</td>\n",
       "    </tr>\n",
       "    <tr>\n",
       "      <th>584</th>\n",
       "      <td>50</td>\n",
       "    </tr>\n",
       "    <tr>\n",
       "      <th>756</th>\n",
       "      <td>50</td>\n",
       "    </tr>\n",
       "    <tr>\n",
       "      <th>459</th>\n",
       "      <td>50</td>\n",
       "    </tr>\n",
       "  </tbody>\n",
       "</table>\n",
       "<p>1016 rows × 1 columns</p>\n",
       "</div>"
      ],
      "text/plain": [
       "      revenue\n",
       "425   1294500\n",
       "1196   202740\n",
       "1136    92550\n",
       "744     86620\n",
       "743     67990\n",
       "...       ...\n",
       "404        70\n",
       "933        60\n",
       "584        50\n",
       "756        50\n",
       "459        50\n",
       "\n",
       "[1016 rows x 1 columns]"
      ]
     },
     "execution_count": 28,
     "metadata": {},
     "output_type": "execute_result"
    }
   ],
   "source": [
    "orders['revenue'].sort_values(ascending=False).to_frame()"
   ]
  },
  {
   "cell_type": "markdown",
   "id": "5280af5c",
   "metadata": {},
   "source": [
    "**Вывод:**\n",
    "* имеются два дорогих заказа: на 1294500 и на 202740\n",
    "* основные значения стоимости заказов лежат в интервале (50;92550)"
   ]
  },
  {
   "cell_type": "markdown",
   "id": "a20fc7e7",
   "metadata": {},
   "source": [
    "## Подсчёт 95-й и 99-й перцентилей стоимости заказов "
   ]
  },
  {
   "cell_type": "code",
   "execution_count": 29,
   "id": "54969c7f",
   "metadata": {},
   "outputs": [
    {
     "data": {
      "text/plain": [
       "array([26785., 53904.])"
      ]
     },
     "execution_count": 29,
     "metadata": {},
     "output_type": "execute_result"
    }
   ],
   "source": [
    "orders['revenue']\n",
    "np.percentile(orders['revenue'],[95, 99])"
   ]
  },
  {
   "cell_type": "markdown",
   "id": "33697794",
   "metadata": {},
   "source": [
    "**Вывод:**\n",
    "* меньше или равняется 5% заказов дороже 26785\n",
    "* меньше или равняется 1% заказов дороже 53904"
   ]
  },
  {
   "cell_type": "markdown",
   "id": "7372a2af",
   "metadata": {},
   "source": [
    "<div class=\"alert alert-info\">\n",
    "\n",
    "Определение границ выбросов\n",
    "\n",
    "</div>"
   ]
  },
  {
   "cell_type": "markdown",
   "id": "4353e5bb",
   "metadata": {},
   "source": [
    "* Найденные в прошлых пунктах 95-й и 99-й перцентили средних чеков равны 26785 и 53904 рублям. А 95-й и 99-й перцентили количества заказов на одного пользователя равны 1 и 2 заказа на пользователя\n",
    "* Примем за аномальных пользователей тех, кто совершил от 1 заказов или совершил заказ дороже 27000 рублей"
   ]
  },
  {
   "cell_type": "markdown",
   "id": "4dbabf0b",
   "metadata": {},
   "source": [
    "## Подсчёт статистической значимости различий в среднем количестве заказов на посетителя по «сырым» данным"
   ]
  },
  {
   "cell_type": "code",
   "execution_count": 30,
   "id": "7d1824b3",
   "metadata": {},
   "outputs": [
    {
     "name": "stdout",
     "output_type": "stream",
     "text": [
      "        date  ordersPerDateA  revenuePerDateA  ordersPerDateB  \\\n",
      "0 2019-08-01              23           142779              17   \n",
      "1 2019-08-02              19            91602              23   \n",
      "2 2019-08-03              24           112473              14   \n",
      "3 2019-08-04              11            41176              14   \n",
      "4 2019-08-05              22            86383              21   \n",
      "\n",
      "   revenuePerDateB  ordersCummulativeA  revenueCummulativeA  \\\n",
      "0            59758                  23               142779   \n",
      "1           162043                  42               234381   \n",
      "2            67049                  66               346854   \n",
      "3            96890                  77               388030   \n",
      "4            89908                  99               474413   \n",
      "\n",
      "   ordersCummulativeB  revenueCummulativeB  visitorsPerDateA  \\\n",
      "0                  17                59758               719   \n",
      "1                  40               221801               619   \n",
      "2                  54               288850               507   \n",
      "3                  68               385740               717   \n",
      "4                  89               475648               756   \n",
      "\n",
      "   visitorsPerDateB  visitorsCummulativeA  visitorsCummulativeB  \n",
      "0               713                   719                   713  \n",
      "1               581                  1338                  1294  \n",
      "2               509                  1845                  1803  \n",
      "3               770                  2562                  2573  \n",
      "4               707                  3318                  3280  \n"
     ]
    }
   ],
   "source": [
    "visitorsADaily = visitors[visitors['group'] == 'A'][['date', 'visitors']]\n",
    "visitorsADaily.columns = ['date', 'visitorsPerDateA']\n",
    "\n",
    "visitorsACummulative = visitorsADaily.apply(\n",
    "    lambda x: visitorsADaily[visitorsADaily['date'] <= x['date']].agg(\n",
    "        {'date': 'max', 'visitorsPerDateA': 'sum'}\n",
    "    ),\n",
    "    axis=1,\n",
    ")\n",
    "visitorsACummulative.columns = ['date', 'visitorsCummulativeA']\n",
    "\n",
    "visitorsBDaily = visitors[visitors['group'] == 'B'][['date', 'visitors']]\n",
    "visitorsBDaily.columns = ['date', 'visitorsPerDateB']\n",
    "\n",
    "visitorsBCummulative = visitorsBDaily.apply(\n",
    "    lambda x: visitorsBDaily[visitorsBDaily['date'] <= x['date']].agg(\n",
    "        {'date': 'max', 'visitorsPerDateB': 'sum'}\n",
    "    ),\n",
    "    axis=1,\n",
    ")\n",
    "visitorsBCummulative.columns = ['date', 'visitorsCummulativeB']\n",
    "\n",
    "ordersADaily = (\n",
    "    orders[orders['group'] == 'A'][['date', 'transactionId', 'visitorId', 'revenue']]\n",
    "    .groupby('date', as_index=False)\n",
    "    .agg({'transactionId': pd.Series.nunique, 'revenue': 'sum'})\n",
    ")\n",
    "ordersADaily.columns = ['date', 'ordersPerDateA', 'revenuePerDateA']\n",
    "\n",
    "ordersACummulative = ordersADaily.apply(\n",
    "    lambda x: ordersADaily[ordersADaily['date'] <= x['date']].agg(\n",
    "        {'date': 'max', 'ordersPerDateA': 'sum', 'revenuePerDateA': 'sum'}\n",
    "    ),\n",
    "    axis=1,\n",
    ").sort_values(by=['date'])\n",
    "ordersACummulative.columns = [\n",
    "    'date',\n",
    "    'ordersCummulativeA',\n",
    "    'revenueCummulativeA',\n",
    "]\n",
    "\n",
    "ordersBDaily = (\n",
    "    orders[orders['group'] == 'B'][['date', 'transactionId', 'visitorId', 'revenue']]\n",
    "    .groupby('date', as_index=False)\n",
    "    .agg({'transactionId': pd.Series.nunique, 'revenue': 'sum'})\n",
    ")\n",
    "ordersBDaily.columns = ['date', 'ordersPerDateB', 'revenuePerDateB']\n",
    "\n",
    "ordersBCummulative = ordersBDaily.apply(\n",
    "    lambda x: ordersBDaily[ordersBDaily['date'] <= x['date']].agg(\n",
    "        {'date': 'max', 'ordersPerDateB': 'sum', 'revenuePerDateB': 'sum'}\n",
    "    ),\n",
    "    axis=1,\n",
    ").sort_values(by=['date'])\n",
    "ordersBCummulative.columns = [\n",
    "    'date',\n",
    "    'ordersCummulativeB',\n",
    "    'revenueCummulativeB',\n",
    "]\n",
    "\n",
    "data = (\n",
    "    ordersADaily.merge(\n",
    "        ordersBDaily, left_on='date', right_on='date', how='left'\n",
    "    )\n",
    "    .merge(ordersACummulative, left_on='date', right_on='date', how='left')\n",
    "    .merge(ordersBCummulative, left_on='date', right_on='date', how='left')\n",
    "    .merge(visitorsADaily, left_on='date', right_on='date', how='left')\n",
    "    .merge(visitorsBDaily, left_on='date', right_on='date', how='left')\n",
    "    .merge(visitorsACummulative, left_on='date', right_on='date', how='left')\n",
    "    .merge(visitorsBCummulative, left_on='date', right_on='date', how='left')\n",
    ")\n",
    "\n",
    "print(data.head(5)) "
   ]
  },
  {
   "cell_type": "code",
   "execution_count": 31,
   "id": "49146a56",
   "metadata": {},
   "outputs": [],
   "source": [
    "ordersByUsersA = (\n",
    "    orders[orders['group'] == 'A']\n",
    "    .groupby('visitorId', as_index=False)\n",
    "    .agg({'transactionId': pd.Series.nunique})\n",
    ")\n",
    "ordersByUsersA.columns = ['userId', 'orders']\n",
    "\n",
    "ordersByUsersB = (\n",
    "    orders[orders['group'] == 'B']\n",
    "    .groupby('visitorId', as_index=False)\n",
    "    .agg({'transactionId': pd.Series.nunique})\n",
    ")\n",
    "ordersByUsersB.columns = ['userId', 'orders'] "
   ]
  },
  {
   "cell_type": "code",
   "execution_count": 32,
   "id": "090b7580",
   "metadata": {},
   "outputs": [],
   "source": [
    "pd.Series(0, index=np.arange(data['visitorsPerDateA'].sum() - len(ordersByUsersA['orders'])), name='orders')\n",
    "[ordersByUsersA['orders'],pd.Series(0, index=np.arange(data['visitorsPerDateA'].sum() - len(ordersByUsersA['orders'])), name='orders')]\n",
    "sampleA = pd.concat([ordersByUsersA['orders'],pd.Series(0, index=np.arange(data['visitorsPerDateA'].sum() - len(ordersByUsersA['orders'])), name='orders')],axis=0)\n",
    "sampleB = pd.concat([ordersByUsersB['orders'],pd.Series(0, index=np.arange(data['visitorsPerDateB'].sum() - len(ordersByUsersB['orders'])), name='orders')],axis=0)"
   ]
  },
  {
   "cell_type": "code",
   "execution_count": 33,
   "id": "40c94f3a",
   "metadata": {},
   "outputs": [],
   "source": [
    "ordersByUsersA = (\n",
    "    orders[orders['group'] == 'A']\n",
    "    .groupby('visitorId', as_index=False)\n",
    "    .agg({'transactionId': pd.Series.nunique})\n",
    ")\n",
    "ordersByUsersA.columns = ['visitorId', 'orders']\n",
    "\n",
    "ordersByUsersB = (\n",
    "    orders[orders['group'] == 'B']\n",
    "    .groupby('visitorId', as_index=False)\n",
    "    .agg({'transactionId': pd.Series.nunique})\n",
    ")\n",
    "ordersByUsersB.columns = ['visitorId', 'orders']\n",
    "\n",
    "sampleA = pd.concat(\n",
    "    [\n",
    "        ordersByUsersA['orders'],\n",
    "        pd.Series(\n",
    "            0,\n",
    "            index=np.arange(\n",
    "                data['visitorsPerDateA'].sum() - len(ordersByUsersA['orders'])\n",
    "            ),\n",
    "            name='orders',\n",
    "        ),\n",
    "    ],\n",
    "    axis=0,\n",
    ")\n",
    "\n",
    "sampleB = pd.concat(\n",
    "    [\n",
    "        ordersByUsersB['orders'],\n",
    "        pd.Series(\n",
    "            0,\n",
    "            index=np.arange(\n",
    "                data['visitorsPerDateB'].sum() - len(ordersByUsersB['orders'])\n",
    "            ),\n",
    "            name='orders',\n",
    "        ),\n",
    "    ],\n",
    "    axis=0,\n",
    ")\n",
    " "
   ]
  },
  {
   "cell_type": "markdown",
   "id": "7db6d4ac",
   "metadata": {},
   "source": [
    "**Постановка гипотез**\n",
    "\n",
    "* H_0: Cтатистически значимых различий в среднем количестве заказов между группами по \"сырым\" данным нет\n",
    "* H_a: Имеются статистически значимые различия в среднем количестве заказов между группами по \"сырым\" данным "
   ]
  },
  {
   "cell_type": "code",
   "execution_count": 34,
   "id": "f9277fa3",
   "metadata": {},
   "outputs": [
    {
     "name": "stdout",
     "output_type": "stream",
     "text": [
      "0.011\n",
      "0.160\n"
     ]
    }
   ],
   "source": [
    "print(\"{0:.3f}\".format(stats.mannwhitneyu(sampleA, sampleB)[1]))\n",
    "\n",
    "print(\"{0:.3f}\".format(sampleB.mean() / sampleA.mean() - 1))"
   ]
  },
  {
   "cell_type": "markdown",
   "id": "2d8fd209",
   "metadata": {},
   "source": [
    "**Вывод:**\n",
    "* H_0 не отвергаем\n",
    "* по «сырым» данным имеются различия в среднем числе заказов групп A и B \n",
    "* так как первое число — p-value = 0.011 < 0.05, то нулевую гипотезу о том, что статистически значимых различий в среднем числе заказов между группами нет,  отвергаем.  Относительный проигрыш группы B равен 16% — второе число в выводе."
   ]
  },
  {
   "cell_type": "markdown",
   "id": "7ab2227d",
   "metadata": {},
   "source": [
    "## Подсчёт статистической значимости различий в среднем чеке заказа между группами по «сырым» данным"
   ]
  },
  {
   "cell_type": "markdown",
   "id": "023035c8",
   "metadata": {},
   "source": [
    "**Постановка гипотез**\n",
    "\n",
    "* H_0: Cтатистически значимых различий в среднем чеке заказов между группами по \"сырым\" данным нет\n",
    "* H_a: Имеются статистически значимые различия в среднем чеке заказов между группами по \"сырым\" данным "
   ]
  },
  {
   "cell_type": "code",
   "execution_count": 35,
   "id": "14e7c997",
   "metadata": {},
   "outputs": [
    {
     "name": "stdout",
     "output_type": "stream",
     "text": [
      "0.829\n",
      "0.287\n"
     ]
    }
   ],
   "source": [
    "print('{0:.3f}'.format(stats.mannwhitneyu(orders[orders['group']=='A']['revenue'], orders[orders['group']=='B']['revenue'])[1]))\n",
    "print('{0:.3f}'.format(orders[orders['group']=='B']['revenue'].mean()/orders[orders['group']=='A']['revenue'].mean()-1)) "
   ]
  },
  {
   "cell_type": "markdown",
   "id": "496309c5",
   "metadata": {},
   "source": [
    "**Вывод:**\n",
    "* H_0 отвергаем\n",
    "* по «сырым» данным имеются различия в среднем чеке заказов групп A и B \n",
    "* так как первое число — p-value = 0.829 > 0.05, то нулевую гипотезу отвергаем\n",
    "* средний чек группы B значительно ниже среднего чека группы A"
   ]
  },
  {
   "cell_type": "markdown",
   "id": "815bcccb",
   "metadata": {},
   "source": [
    "## Подсчёт статистической значимости различий в среднем количестве заказов на посетителя между группами по «очищенным» данным."
   ]
  },
  {
   "cell_type": "markdown",
   "id": "a411fb91",
   "metadata": {},
   "source": [
    "* Найденные в прошлых пунктах 95-й и 99-й перцентили средних чеков равны 28000 и 58233 рублям. А 95-й и 99-й перцентили количества заказов на одного пользователя равны 2 и 4 заказа на пользователя\n",
    "* Примем за аномальных пользователей тех, кто совершил от 2 заказов или совершил заказ дороже 28000 рублей"
   ]
  },
  {
   "cell_type": "code",
   "execution_count": 36,
   "id": "d920efcf",
   "metadata": {},
   "outputs": [
    {
     "name": "stdout",
     "output_type": "stream",
     "text": [
      "568     113298937\n",
      "1099    148427295\n",
      "928     204675465\n",
      "33      249864742\n",
      "684     358944393\n",
      "Name: visitorId, dtype: int64\n",
      "86\n"
     ]
    }
   ],
   "source": [
    "usersWithManyOrders = pd.concat(\n",
    "    [\n",
    "        ordersByUsersA[ordersByUsersA['orders'] > 1]['visitorId'],\n",
    "        ordersByUsersB[ordersByUsersB['orders'] > 1]['visitorId'],\n",
    "    ],\n",
    "    axis=0,\n",
    ")\n",
    "usersWithExpensiveOrders = orders[orders['revenue'] > 27000]['visitorId']\n",
    "abnormalUsers = (\n",
    "    pd.concat([usersWithManyOrders, usersWithExpensiveOrders], axis=0)\n",
    "    .drop_duplicates()\n",
    "    .sort_values()\n",
    ")\n",
    "print(abnormalUsers.head(5))\n",
    "print(abnormalUsers.shape[0]) "
   ]
  },
  {
   "cell_type": "markdown",
   "id": "de3eda47",
   "metadata": {},
   "source": [
    "**Постановка гипотез**\n",
    "\n",
    "* H_0: Cтатистически значимых различий в среднем числе заказов между группами по \"сырым\" данным нет\n",
    "* H_a: Имеются статистически значимые различия в среднем числе заказов между группами по \"сырым\" данным"
   ]
  },
  {
   "cell_type": "code",
   "execution_count": 37,
   "id": "7f05c0e6",
   "metadata": {},
   "outputs": [
    {
     "ename": "NameError",
     "evalue": "name 'sampleAFiltered' is not defined",
     "output_type": "error",
     "traceback": [
      "\u001b[0;31m---------------------------------------------------------------------------\u001b[0m",
      "\u001b[0;31mNameError\u001b[0m                                 Traceback (most recent call last)",
      "\u001b[0;32m/tmp/ipykernel_31/3094079564.py\u001b[0m in \u001b[0;36m<module>\u001b[0;34m\u001b[0m\n\u001b[0;32m----> 1\u001b[0;31m \u001b[0mprint\u001b[0m\u001b[0;34m(\u001b[0m\u001b[0;34m'{0:.3f}'\u001b[0m\u001b[0;34m.\u001b[0m\u001b[0mformat\u001b[0m\u001b[0;34m(\u001b[0m\u001b[0mstats\u001b[0m\u001b[0;34m.\u001b[0m\u001b[0mmannwhitneyu\u001b[0m\u001b[0;34m(\u001b[0m\u001b[0msampleAFiltered\u001b[0m\u001b[0;34m,\u001b[0m \u001b[0msampleBFiltered\u001b[0m\u001b[0;34m)\u001b[0m\u001b[0;34m[\u001b[0m\u001b[0;36m1\u001b[0m\u001b[0;34m]\u001b[0m\u001b[0;34m)\u001b[0m\u001b[0;34m)\u001b[0m\u001b[0;34m\u001b[0m\u001b[0;34m\u001b[0m\u001b[0m\n\u001b[0m\u001b[1;32m      2\u001b[0m \u001b[0mprint\u001b[0m\u001b[0;34m(\u001b[0m\u001b[0;34m'{0:.3f}'\u001b[0m\u001b[0;34m.\u001b[0m\u001b[0mformat\u001b[0m\u001b[0;34m(\u001b[0m\u001b[0msampleBFiltered\u001b[0m\u001b[0;34m.\u001b[0m\u001b[0mmean\u001b[0m\u001b[0;34m(\u001b[0m\u001b[0;34m)\u001b[0m\u001b[0;34m/\u001b[0m\u001b[0msampleAFiltered\u001b[0m\u001b[0;34m.\u001b[0m\u001b[0mmean\u001b[0m\u001b[0;34m(\u001b[0m\u001b[0;34m)\u001b[0m\u001b[0;34m-\u001b[0m\u001b[0;36m1\u001b[0m\u001b[0;34m)\u001b[0m\u001b[0;34m)\u001b[0m\u001b[0;34m\u001b[0m\u001b[0;34m\u001b[0m\u001b[0m\n",
      "\u001b[0;31mNameError\u001b[0m: name 'sampleAFiltered' is not defined"
     ]
    }
   ],
   "source": [
    "print('{0:.3f}'.format(stats.mannwhitneyu(sampleAFiltered, sampleBFiltered)[1]))\n",
    "print('{0:.3f}'.format(sampleBFiltered.mean()/sampleAFiltered.mean()-1))"
   ]
  },
  {
   "cell_type": "markdown",
   "id": "1fc87d04",
   "metadata": {},
   "source": [
    "**Вывод:**\n",
    "* было для А : 0.017 ; для В:0.138\n",
    "* стало для А : 0.009 ; для B:0.189\n",
    "* как видим, результаты по среднему количеству заказов практически не изменились\n",
    "* H_0 не отвергаем\n",
    "* p-value=0.009 < 0.05 , то нулевую гипотезу не отвергаем"
   ]
  },
  {
   "cell_type": "markdown",
   "id": "e54c0ef4",
   "metadata": {},
   "source": [
    "##  Подсчёт статистической значимости различий в среднем чеке заказа между группами по «очищенным» данным."
   ]
  },
  {
   "cell_type": "markdown",
   "id": "d6c51f8f",
   "metadata": {},
   "source": [
    "**Постановка гипотез**\n",
    "\n",
    "* H_0: Cтатистически значимых различий в среднем чеке заказов между группами по \"очищенным\" данным нет\n",
    "* H_a: Имеются статистически значимые различия в среднем числе заказов между группами по \"очищенным\" данным"
   ]
  },
  {
   "cell_type": "code",
   "execution_count": null,
   "id": "47aa7dcc",
   "metadata": {},
   "outputs": [],
   "source": [
    "print(\n",
    "    '{0:.3f}'.format(\n",
    "        stats.mannwhitneyu(\n",
    "            orders[\n",
    "                np.logical_and(\n",
    "                    orders['group'] == 'A',\n",
    "                    np.logical_not(orders['visitorId'].isin(abnormalUsers)),\n",
    "                )\n",
    "            ]['revenue'],\n",
    "            orders[\n",
    "                np.logical_and(\n",
    "                    orders['group'] == 'B',\n",
    "                    np.logical_not(orders['visitorId'].isin(abnormalUsers)),\n",
    "                )\n",
    "            ]['revenue'],\n",
    "        )[1]\n",
    "    )\n",
    ")\n",
    "\n",
    "print(\n",
    "    \"{0:.3f}\".format(\n",
    "        orders[\n",
    "            np.logical_and(\n",
    "                orders['group'] == 'B',\n",
    "                np.logical_not(orders['visitorId'].isin(abnormalUsers)),\n",
    "            )\n",
    "        ]['revenue'].mean()\n",
    "        / orders[\n",
    "            np.logical_and(\n",
    "                orders['group'] == 'A',\n",
    "                np.logical_not(orders['visitorId'].isin(abnormalUsers)),\n",
    "            )\n",
    "        ]['revenue'].mean()\n",
    "        - 1\n",
    "    )\n",
    ")"
   ]
  },
  {
   "cell_type": "markdown",
   "id": "05740997",
   "metadata": {},
   "source": [
    "**Вывод:**\n",
    "* было для А : 0.729 ; для В: 0.259\n",
    "* стало для А : 0.727 ; для B: -0.034\n",
    "* как видим, p-value для А практически не изменилось , а для В - уменьшилось на 0,293\n",
    "* H_0 отвергаем, принимаем альтернативную гипотезу H_a\n",
    "* p-value=0.727>0.05, отвергаем нулевую гипотезу\n"
   ]
  },
  {
   "cell_type": "markdown",
   "id": "c1558dc7",
   "metadata": {},
   "source": [
    "# Принятие решений по результатам теста"
   ]
  },
  {
   "cell_type": "markdown",
   "id": "886c2dc2",
   "metadata": {},
   "source": [
    "**Общий вывод:**\n",
    "\n",
    "* Основываясь на значениях графика кумулятивного среднего чека по группам и графика относительного изменения кумулятивного среднего чека группы B к группе A, можно прийти к выводу, что группа B стабильно лучше группы A по конверсии\n",
    "\n",
    "* Остановить тест, зафиксировать победу группы В\n"
   ]
  }
 ],
 "metadata": {
  "ExecuteTimeLog": [
   {
    "duration": 1159,
    "start_time": "2023-04-09T20:05:22.431Z"
   },
   {
    "duration": 240,
    "start_time": "2023-04-09T20:05:23.592Z"
   },
   {
    "duration": 3,
    "start_time": "2023-04-09T20:05:23.833Z"
   },
   {
    "duration": 16,
    "start_time": "2023-04-09T20:05:23.838Z"
   },
   {
    "duration": 10,
    "start_time": "2023-04-09T20:05:23.855Z"
   },
   {
    "duration": 8,
    "start_time": "2023-04-09T20:05:23.866Z"
   },
   {
    "duration": 8,
    "start_time": "2023-04-09T20:05:23.875Z"
   },
   {
    "duration": 12,
    "start_time": "2023-04-09T20:05:23.884Z"
   },
   {
    "duration": 5,
    "start_time": "2023-04-09T20:05:23.897Z"
   },
   {
    "duration": 7,
    "start_time": "2023-04-09T20:05:23.904Z"
   },
   {
    "duration": 10,
    "start_time": "2023-04-09T20:05:23.912Z"
   },
   {
    "duration": 7,
    "start_time": "2023-04-09T20:05:23.923Z"
   },
   {
    "duration": 8,
    "start_time": "2023-04-09T20:05:23.931Z"
   },
   {
    "duration": 11,
    "start_time": "2023-04-09T20:05:23.940Z"
   },
   {
    "duration": 24,
    "start_time": "2023-04-09T20:05:23.952Z"
   },
   {
    "duration": 6,
    "start_time": "2023-04-09T20:05:23.978Z"
   },
   {
    "duration": 498,
    "start_time": "2023-04-09T20:05:23.986Z"
   },
   {
    "duration": 235,
    "start_time": "2023-04-09T20:05:24.485Z"
   },
   {
    "duration": 188,
    "start_time": "2023-04-09T20:05:24.721Z"
   },
   {
    "duration": 290,
    "start_time": "2023-04-09T20:05:24.910Z"
   },
   {
    "duration": 198,
    "start_time": "2023-04-09T20:05:25.202Z"
   },
   {
    "duration": 597,
    "start_time": "2023-04-09T20:05:25.402Z"
   },
   {
    "duration": 185,
    "start_time": "2023-04-09T20:05:26.001Z"
   },
   {
    "duration": 9,
    "start_time": "2023-04-09T20:05:26.188Z"
   },
   {
    "duration": 20,
    "start_time": "2023-04-09T20:05:26.199Z"
   },
   {
    "duration": 17,
    "start_time": "2023-04-09T20:05:26.221Z"
   },
   {
    "duration": 138,
    "start_time": "2023-04-09T20:05:26.240Z"
   },
   {
    "duration": 8,
    "start_time": "2023-04-09T20:05:26.381Z"
   },
   {
    "duration": 6,
    "start_time": "2023-04-09T20:05:26.390Z"
   },
   {
    "duration": 275,
    "start_time": "2023-04-09T20:05:26.397Z"
   },
   {
    "duration": 134,
    "start_time": "2023-04-09T20:05:26.674Z"
   },
   {
    "duration": 6,
    "start_time": "2023-04-09T20:05:26.810Z"
   },
   {
    "duration": 131,
    "start_time": "2023-04-09T20:05:26.818Z"
   },
   {
    "duration": 27,
    "start_time": "2023-04-09T20:05:26.951Z"
   },
   {
    "duration": 10,
    "start_time": "2023-04-09T20:05:26.980Z"
   },
   {
    "duration": 33,
    "start_time": "2023-04-09T20:05:26.992Z"
   },
   {
    "duration": 112,
    "start_time": "2023-04-09T20:05:27.027Z"
   },
   {
    "duration": 0,
    "start_time": "2023-04-09T20:05:27.141Z"
   },
   {
    "duration": 17,
    "start_time": "2023-04-09T20:09:37.820Z"
   },
   {
    "duration": 2,
    "start_time": "2023-04-09T20:09:48.901Z"
   },
   {
    "duration": 1369,
    "start_time": "2023-06-17T18:45:18.394Z"
   },
   {
    "duration": 250,
    "start_time": "2023-06-17T18:45:19.766Z"
   },
   {
    "duration": 4,
    "start_time": "2023-06-17T18:45:20.018Z"
   },
   {
    "duration": 23,
    "start_time": "2023-06-17T18:45:20.024Z"
   },
   {
    "duration": 12,
    "start_time": "2023-06-17T18:45:20.050Z"
   },
   {
    "duration": 20,
    "start_time": "2023-06-17T18:45:20.064Z"
   },
   {
    "duration": 16,
    "start_time": "2023-06-17T18:45:20.086Z"
   },
   {
    "duration": 13,
    "start_time": "2023-06-17T18:45:20.104Z"
   },
   {
    "duration": 187,
    "start_time": "2023-06-17T18:45:20.118Z"
   },
   {
    "duration": 32,
    "start_time": "2023-06-17T18:45:20.308Z"
   },
   {
    "duration": 21,
    "start_time": "2023-06-17T18:45:20.342Z"
   },
   {
    "duration": 22,
    "start_time": "2023-06-17T18:45:20.365Z"
   },
   {
    "duration": 56,
    "start_time": "2023-06-17T18:45:20.389Z"
   },
   {
    "duration": 37,
    "start_time": "2023-06-17T18:45:20.447Z"
   },
   {
    "duration": 39,
    "start_time": "2023-06-17T18:45:20.485Z"
   },
   {
    "duration": 27,
    "start_time": "2023-06-17T18:45:20.526Z"
   },
   {
    "duration": 555,
    "start_time": "2023-06-17T18:45:20.554Z"
   },
   {
    "duration": 304,
    "start_time": "2023-06-17T18:45:21.110Z"
   },
   {
    "duration": 236,
    "start_time": "2023-06-17T18:45:21.416Z"
   },
   {
    "duration": 352,
    "start_time": "2023-06-17T18:45:21.654Z"
   },
   {
    "duration": 236,
    "start_time": "2023-06-17T18:45:22.008Z"
   },
   {
    "duration": 625,
    "start_time": "2023-06-17T18:45:22.246Z"
   },
   {
    "duration": 156,
    "start_time": "2023-06-17T18:45:22.872Z"
   },
   {
    "duration": 8,
    "start_time": "2023-06-17T18:45:23.030Z"
   },
   {
    "duration": 17,
    "start_time": "2023-06-17T18:45:23.039Z"
   },
   {
    "duration": 15,
    "start_time": "2023-06-17T18:45:23.057Z"
   },
   {
    "duration": 138,
    "start_time": "2023-06-17T18:45:23.073Z"
   },
   {
    "duration": 14,
    "start_time": "2023-06-17T18:45:23.215Z"
   },
   {
    "duration": 23,
    "start_time": "2023-06-17T18:45:23.232Z"
   },
   {
    "duration": 340,
    "start_time": "2023-06-17T18:45:23.258Z"
   },
   {
    "duration": 164,
    "start_time": "2023-06-17T18:45:23.600Z"
   },
   {
    "duration": 8,
    "start_time": "2023-06-17T18:45:23.766Z"
   },
   {
    "duration": 148,
    "start_time": "2023-06-17T18:45:23.775Z"
   },
   {
    "duration": 33,
    "start_time": "2023-06-17T18:45:23.924Z"
   },
   {
    "duration": 13,
    "start_time": "2023-06-17T18:45:23.959Z"
   },
   {
    "duration": 21,
    "start_time": "2023-06-17T18:45:23.974Z"
   },
   {
    "duration": 109,
    "start_time": "2023-06-17T18:45:23.997Z"
   },
   {
    "duration": 0,
    "start_time": "2023-06-17T18:45:24.108Z"
   }
  ],
  "kernelspec": {
   "display_name": "Python 3 (ipykernel)",
   "language": "python",
   "name": "python3"
  },
  "language_info": {
   "codemirror_mode": {
    "name": "ipython",
    "version": 3
   },
   "file_extension": ".py",
   "mimetype": "text/x-python",
   "name": "python",
   "nbconvert_exporter": "python",
   "pygments_lexer": "ipython3",
   "version": "3.9.7"
  },
  "toc": {
   "base_numbering": 1,
   "nav_menu": {},
   "number_sections": true,
   "sideBar": true,
   "skip_h1_title": false,
   "title_cell": "Table of Contents",
   "title_sidebar": "Contents",
   "toc_cell": false,
   "toc_position": {
    "height": "calc(100% - 180px)",
    "left": "10px",
    "top": "150px",
    "width": "415.667px"
   },
   "toc_section_display": true,
   "toc_window_display": false
  }
 },
 "nbformat": 4,
 "nbformat_minor": 5
}
