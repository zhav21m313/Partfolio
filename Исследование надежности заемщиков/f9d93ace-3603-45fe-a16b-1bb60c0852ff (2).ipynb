{
 "cells": [
  {
   "cell_type": "markdown",
   "id": "c81daeeb",
   "metadata": {
    "deletable": false,
    "editable": false,
    "id": "c81daeeb"
   },
   "source": [
    "# Исследование надежности заемщиков"
   ]
  },
  {
   "cell_type": "markdown",
   "id": "-G3EJWzf62s6",
   "metadata": {
    "deletable": false,
    "editable": false,
    "id": "-G3EJWzf62s6"
   },
   "source": [
    "Это первая часть проекта, она будет проверена автоматически. Вторую часть проверит ревьюер. "
   ]
  },
  {
   "cell_type": "markdown",
   "id": "744d7639",
   "metadata": {
    "deletable": false,
    "editable": false,
    "id": "744d7639"
   },
   "source": [
    "## Откройте таблицу и изучите общую информацию о данных"
   ]
  },
  {
   "cell_type": "markdown",
   "id": "e7a14c31",
   "metadata": {
    "deletable": false,
    "editable": false,
    "id": "e7a14c31",
    "tags": [
     "start_task"
    ]
   },
   "source": [
    "**Задание 1. Импортируйте библиотеку pandas. Считайте данные из csv-файла в датафрейм и сохраните в переменную `data`. Путь к файлу:**\n",
    "\n",
    "`/datasets/data.csv`"
   ]
  },
  {
   "cell_type": "code",
   "execution_count": 276,
   "id": "7bcf75c9",
   "metadata": {
    "id": "7bcf75c9"
   },
   "outputs": [],
   "source": [
    "# импортируйте библиотеку pandas\n",
    "import pandas as pd"
   ]
  },
  {
   "cell_type": "code",
   "execution_count": 277,
   "id": "4d240ee2",
   "metadata": {
    "id": "4d240ee2"
   },
   "outputs": [],
   "source": [
    "# прочитайте csv-файл\n",
    "data=pd.read_csv('/datasets/data.csv')"
   ]
  },
  {
   "cell_type": "markdown",
   "id": "b8038fe3",
   "metadata": {
    "deletable": false,
    "editable": false,
    "id": "b8038fe3",
    "tags": [
     "start_task"
    ]
   },
   "source": [
    "**Задание 2. Выведите первые 20 строчек датафрейма `data` на экран.**"
   ]
  },
  {
   "cell_type": "code",
   "execution_count": 278,
   "id": "2a7cab99",
   "metadata": {
    "id": "2a7cab99"
   },
   "outputs": [
    {
     "data": {
      "text/html": [
       "<div>\n",
       "<style scoped>\n",
       "    .dataframe tbody tr th:only-of-type {\n",
       "        vertical-align: middle;\n",
       "    }\n",
       "\n",
       "    .dataframe tbody tr th {\n",
       "        vertical-align: top;\n",
       "    }\n",
       "\n",
       "    .dataframe thead th {\n",
       "        text-align: right;\n",
       "    }\n",
       "</style>\n",
       "<table border=\"1\" class=\"dataframe\">\n",
       "  <thead>\n",
       "    <tr style=\"text-align: right;\">\n",
       "      <th></th>\n",
       "      <th>children</th>\n",
       "      <th>days_employed</th>\n",
       "      <th>dob_years</th>\n",
       "      <th>education</th>\n",
       "      <th>education_id</th>\n",
       "      <th>family_status</th>\n",
       "      <th>family_status_id</th>\n",
       "      <th>gender</th>\n",
       "      <th>income_type</th>\n",
       "      <th>debt</th>\n",
       "      <th>total_income</th>\n",
       "      <th>purpose</th>\n",
       "    </tr>\n",
       "  </thead>\n",
       "  <tbody>\n",
       "    <tr>\n",
       "      <th>0</th>\n",
       "      <td>1</td>\n",
       "      <td>-8437.673028</td>\n",
       "      <td>42</td>\n",
       "      <td>высшее</td>\n",
       "      <td>0</td>\n",
       "      <td>женат / замужем</td>\n",
       "      <td>0</td>\n",
       "      <td>F</td>\n",
       "      <td>сотрудник</td>\n",
       "      <td>0</td>\n",
       "      <td>253875.639453</td>\n",
       "      <td>покупка жилья</td>\n",
       "    </tr>\n",
       "    <tr>\n",
       "      <th>1</th>\n",
       "      <td>1</td>\n",
       "      <td>-4024.803754</td>\n",
       "      <td>36</td>\n",
       "      <td>среднее</td>\n",
       "      <td>1</td>\n",
       "      <td>женат / замужем</td>\n",
       "      <td>0</td>\n",
       "      <td>F</td>\n",
       "      <td>сотрудник</td>\n",
       "      <td>0</td>\n",
       "      <td>112080.014102</td>\n",
       "      <td>приобретение автомобиля</td>\n",
       "    </tr>\n",
       "    <tr>\n",
       "      <th>2</th>\n",
       "      <td>0</td>\n",
       "      <td>-5623.422610</td>\n",
       "      <td>33</td>\n",
       "      <td>Среднее</td>\n",
       "      <td>1</td>\n",
       "      <td>женат / замужем</td>\n",
       "      <td>0</td>\n",
       "      <td>M</td>\n",
       "      <td>сотрудник</td>\n",
       "      <td>0</td>\n",
       "      <td>145885.952297</td>\n",
       "      <td>покупка жилья</td>\n",
       "    </tr>\n",
       "    <tr>\n",
       "      <th>3</th>\n",
       "      <td>3</td>\n",
       "      <td>-4124.747207</td>\n",
       "      <td>32</td>\n",
       "      <td>среднее</td>\n",
       "      <td>1</td>\n",
       "      <td>женат / замужем</td>\n",
       "      <td>0</td>\n",
       "      <td>M</td>\n",
       "      <td>сотрудник</td>\n",
       "      <td>0</td>\n",
       "      <td>267628.550329</td>\n",
       "      <td>дополнительное образование</td>\n",
       "    </tr>\n",
       "    <tr>\n",
       "      <th>4</th>\n",
       "      <td>0</td>\n",
       "      <td>340266.072047</td>\n",
       "      <td>53</td>\n",
       "      <td>среднее</td>\n",
       "      <td>1</td>\n",
       "      <td>гражданский брак</td>\n",
       "      <td>1</td>\n",
       "      <td>F</td>\n",
       "      <td>пенсионер</td>\n",
       "      <td>0</td>\n",
       "      <td>158616.077870</td>\n",
       "      <td>сыграть свадьбу</td>\n",
       "    </tr>\n",
       "    <tr>\n",
       "      <th>5</th>\n",
       "      <td>0</td>\n",
       "      <td>-926.185831</td>\n",
       "      <td>27</td>\n",
       "      <td>высшее</td>\n",
       "      <td>0</td>\n",
       "      <td>гражданский брак</td>\n",
       "      <td>1</td>\n",
       "      <td>M</td>\n",
       "      <td>компаньон</td>\n",
       "      <td>0</td>\n",
       "      <td>255763.565419</td>\n",
       "      <td>покупка жилья</td>\n",
       "    </tr>\n",
       "    <tr>\n",
       "      <th>6</th>\n",
       "      <td>0</td>\n",
       "      <td>-2879.202052</td>\n",
       "      <td>43</td>\n",
       "      <td>высшее</td>\n",
       "      <td>0</td>\n",
       "      <td>женат / замужем</td>\n",
       "      <td>0</td>\n",
       "      <td>F</td>\n",
       "      <td>компаньон</td>\n",
       "      <td>0</td>\n",
       "      <td>240525.971920</td>\n",
       "      <td>операции с жильем</td>\n",
       "    </tr>\n",
       "    <tr>\n",
       "      <th>7</th>\n",
       "      <td>0</td>\n",
       "      <td>-152.779569</td>\n",
       "      <td>50</td>\n",
       "      <td>СРЕДНЕЕ</td>\n",
       "      <td>1</td>\n",
       "      <td>женат / замужем</td>\n",
       "      <td>0</td>\n",
       "      <td>M</td>\n",
       "      <td>сотрудник</td>\n",
       "      <td>0</td>\n",
       "      <td>135823.934197</td>\n",
       "      <td>образование</td>\n",
       "    </tr>\n",
       "    <tr>\n",
       "      <th>8</th>\n",
       "      <td>2</td>\n",
       "      <td>-6929.865299</td>\n",
       "      <td>35</td>\n",
       "      <td>ВЫСШЕЕ</td>\n",
       "      <td>0</td>\n",
       "      <td>гражданский брак</td>\n",
       "      <td>1</td>\n",
       "      <td>F</td>\n",
       "      <td>сотрудник</td>\n",
       "      <td>0</td>\n",
       "      <td>95856.832424</td>\n",
       "      <td>на проведение свадьбы</td>\n",
       "    </tr>\n",
       "    <tr>\n",
       "      <th>9</th>\n",
       "      <td>0</td>\n",
       "      <td>-2188.756445</td>\n",
       "      <td>41</td>\n",
       "      <td>среднее</td>\n",
       "      <td>1</td>\n",
       "      <td>женат / замужем</td>\n",
       "      <td>0</td>\n",
       "      <td>M</td>\n",
       "      <td>сотрудник</td>\n",
       "      <td>0</td>\n",
       "      <td>144425.938277</td>\n",
       "      <td>покупка жилья для семьи</td>\n",
       "    </tr>\n",
       "    <tr>\n",
       "      <th>10</th>\n",
       "      <td>2</td>\n",
       "      <td>-4171.483647</td>\n",
       "      <td>36</td>\n",
       "      <td>высшее</td>\n",
       "      <td>0</td>\n",
       "      <td>женат / замужем</td>\n",
       "      <td>0</td>\n",
       "      <td>M</td>\n",
       "      <td>компаньон</td>\n",
       "      <td>0</td>\n",
       "      <td>113943.491460</td>\n",
       "      <td>покупка недвижимости</td>\n",
       "    </tr>\n",
       "    <tr>\n",
       "      <th>11</th>\n",
       "      <td>0</td>\n",
       "      <td>-792.701887</td>\n",
       "      <td>40</td>\n",
       "      <td>среднее</td>\n",
       "      <td>1</td>\n",
       "      <td>женат / замужем</td>\n",
       "      <td>0</td>\n",
       "      <td>F</td>\n",
       "      <td>сотрудник</td>\n",
       "      <td>0</td>\n",
       "      <td>77069.234271</td>\n",
       "      <td>покупка коммерческой недвижимости</td>\n",
       "    </tr>\n",
       "    <tr>\n",
       "      <th>12</th>\n",
       "      <td>0</td>\n",
       "      <td>NaN</td>\n",
       "      <td>65</td>\n",
       "      <td>среднее</td>\n",
       "      <td>1</td>\n",
       "      <td>гражданский брак</td>\n",
       "      <td>1</td>\n",
       "      <td>M</td>\n",
       "      <td>пенсионер</td>\n",
       "      <td>0</td>\n",
       "      <td>NaN</td>\n",
       "      <td>сыграть свадьбу</td>\n",
       "    </tr>\n",
       "    <tr>\n",
       "      <th>13</th>\n",
       "      <td>0</td>\n",
       "      <td>-1846.641941</td>\n",
       "      <td>54</td>\n",
       "      <td>неоконченное высшее</td>\n",
       "      <td>2</td>\n",
       "      <td>женат / замужем</td>\n",
       "      <td>0</td>\n",
       "      <td>F</td>\n",
       "      <td>сотрудник</td>\n",
       "      <td>0</td>\n",
       "      <td>130458.228857</td>\n",
       "      <td>приобретение автомобиля</td>\n",
       "    </tr>\n",
       "    <tr>\n",
       "      <th>14</th>\n",
       "      <td>0</td>\n",
       "      <td>-1844.956182</td>\n",
       "      <td>56</td>\n",
       "      <td>высшее</td>\n",
       "      <td>0</td>\n",
       "      <td>гражданский брак</td>\n",
       "      <td>1</td>\n",
       "      <td>F</td>\n",
       "      <td>компаньон</td>\n",
       "      <td>1</td>\n",
       "      <td>165127.911772</td>\n",
       "      <td>покупка жилой недвижимости</td>\n",
       "    </tr>\n",
       "    <tr>\n",
       "      <th>15</th>\n",
       "      <td>1</td>\n",
       "      <td>-972.364419</td>\n",
       "      <td>26</td>\n",
       "      <td>среднее</td>\n",
       "      <td>1</td>\n",
       "      <td>женат / замужем</td>\n",
       "      <td>0</td>\n",
       "      <td>F</td>\n",
       "      <td>сотрудник</td>\n",
       "      <td>0</td>\n",
       "      <td>116820.904450</td>\n",
       "      <td>строительство собственной недвижимости</td>\n",
       "    </tr>\n",
       "    <tr>\n",
       "      <th>16</th>\n",
       "      <td>0</td>\n",
       "      <td>-1719.934226</td>\n",
       "      <td>35</td>\n",
       "      <td>среднее</td>\n",
       "      <td>1</td>\n",
       "      <td>женат / замужем</td>\n",
       "      <td>0</td>\n",
       "      <td>F</td>\n",
       "      <td>сотрудник</td>\n",
       "      <td>0</td>\n",
       "      <td>289202.704229</td>\n",
       "      <td>недвижимость</td>\n",
       "    </tr>\n",
       "    <tr>\n",
       "      <th>17</th>\n",
       "      <td>0</td>\n",
       "      <td>-2369.999720</td>\n",
       "      <td>33</td>\n",
       "      <td>высшее</td>\n",
       "      <td>0</td>\n",
       "      <td>гражданский брак</td>\n",
       "      <td>1</td>\n",
       "      <td>M</td>\n",
       "      <td>сотрудник</td>\n",
       "      <td>0</td>\n",
       "      <td>90410.586745</td>\n",
       "      <td>строительство недвижимости</td>\n",
       "    </tr>\n",
       "    <tr>\n",
       "      <th>18</th>\n",
       "      <td>0</td>\n",
       "      <td>400281.136913</td>\n",
       "      <td>53</td>\n",
       "      <td>среднее</td>\n",
       "      <td>1</td>\n",
       "      <td>вдовец / вдова</td>\n",
       "      <td>2</td>\n",
       "      <td>F</td>\n",
       "      <td>пенсионер</td>\n",
       "      <td>0</td>\n",
       "      <td>56823.777243</td>\n",
       "      <td>на покупку подержанного автомобиля</td>\n",
       "    </tr>\n",
       "    <tr>\n",
       "      <th>19</th>\n",
       "      <td>0</td>\n",
       "      <td>-10038.818549</td>\n",
       "      <td>48</td>\n",
       "      <td>СРЕДНЕЕ</td>\n",
       "      <td>1</td>\n",
       "      <td>в разводе</td>\n",
       "      <td>3</td>\n",
       "      <td>F</td>\n",
       "      <td>сотрудник</td>\n",
       "      <td>0</td>\n",
       "      <td>242831.107982</td>\n",
       "      <td>на покупку своего автомобиля</td>\n",
       "    </tr>\n",
       "  </tbody>\n",
       "</table>\n",
       "</div>"
      ],
      "text/plain": [
       "    children  days_employed  dob_years            education  education_id  \\\n",
       "0          1   -8437.673028         42               высшее             0   \n",
       "1          1   -4024.803754         36              среднее             1   \n",
       "2          0   -5623.422610         33              Среднее             1   \n",
       "3          3   -4124.747207         32              среднее             1   \n",
       "4          0  340266.072047         53              среднее             1   \n",
       "5          0    -926.185831         27               высшее             0   \n",
       "6          0   -2879.202052         43               высшее             0   \n",
       "7          0    -152.779569         50              СРЕДНЕЕ             1   \n",
       "8          2   -6929.865299         35               ВЫСШЕЕ             0   \n",
       "9          0   -2188.756445         41              среднее             1   \n",
       "10         2   -4171.483647         36               высшее             0   \n",
       "11         0    -792.701887         40              среднее             1   \n",
       "12         0            NaN         65              среднее             1   \n",
       "13         0   -1846.641941         54  неоконченное высшее             2   \n",
       "14         0   -1844.956182         56               высшее             0   \n",
       "15         1    -972.364419         26              среднее             1   \n",
       "16         0   -1719.934226         35              среднее             1   \n",
       "17         0   -2369.999720         33               высшее             0   \n",
       "18         0  400281.136913         53              среднее             1   \n",
       "19         0  -10038.818549         48              СРЕДНЕЕ             1   \n",
       "\n",
       "       family_status  family_status_id gender income_type  debt  \\\n",
       "0    женат / замужем                 0      F   сотрудник     0   \n",
       "1    женат / замужем                 0      F   сотрудник     0   \n",
       "2    женат / замужем                 0      M   сотрудник     0   \n",
       "3    женат / замужем                 0      M   сотрудник     0   \n",
       "4   гражданский брак                 1      F   пенсионер     0   \n",
       "5   гражданский брак                 1      M   компаньон     0   \n",
       "6    женат / замужем                 0      F   компаньон     0   \n",
       "7    женат / замужем                 0      M   сотрудник     0   \n",
       "8   гражданский брак                 1      F   сотрудник     0   \n",
       "9    женат / замужем                 0      M   сотрудник     0   \n",
       "10   женат / замужем                 0      M   компаньон     0   \n",
       "11   женат / замужем                 0      F   сотрудник     0   \n",
       "12  гражданский брак                 1      M   пенсионер     0   \n",
       "13   женат / замужем                 0      F   сотрудник     0   \n",
       "14  гражданский брак                 1      F   компаньон     1   \n",
       "15   женат / замужем                 0      F   сотрудник     0   \n",
       "16   женат / замужем                 0      F   сотрудник     0   \n",
       "17  гражданский брак                 1      M   сотрудник     0   \n",
       "18    вдовец / вдова                 2      F   пенсионер     0   \n",
       "19         в разводе                 3      F   сотрудник     0   \n",
       "\n",
       "     total_income                                 purpose  \n",
       "0   253875.639453                           покупка жилья  \n",
       "1   112080.014102                 приобретение автомобиля  \n",
       "2   145885.952297                           покупка жилья  \n",
       "3   267628.550329              дополнительное образование  \n",
       "4   158616.077870                         сыграть свадьбу  \n",
       "5   255763.565419                           покупка жилья  \n",
       "6   240525.971920                       операции с жильем  \n",
       "7   135823.934197                             образование  \n",
       "8    95856.832424                   на проведение свадьбы  \n",
       "9   144425.938277                 покупка жилья для семьи  \n",
       "10  113943.491460                    покупка недвижимости  \n",
       "11   77069.234271       покупка коммерческой недвижимости  \n",
       "12            NaN                         сыграть свадьбу  \n",
       "13  130458.228857                 приобретение автомобиля  \n",
       "14  165127.911772              покупка жилой недвижимости  \n",
       "15  116820.904450  строительство собственной недвижимости  \n",
       "16  289202.704229                            недвижимость  \n",
       "17   90410.586745              строительство недвижимости  \n",
       "18   56823.777243      на покупку подержанного автомобиля  \n",
       "19  242831.107982            на покупку своего автомобиля  "
      ]
     },
     "execution_count": 278,
     "metadata": {},
     "output_type": "execute_result"
    }
   ],
   "source": [
    "# ваш код здесь\n",
    "data.head(20)"
   ]
  },
  {
   "cell_type": "markdown",
   "id": "1c12e233",
   "metadata": {
    "deletable": false,
    "editable": false,
    "id": "1c12e233",
    "tags": [
     "start_task"
    ]
   },
   "source": [
    "**Задание 3. Выведите основную информацию о датафрейме с помощью метода `info()`.**"
   ]
  },
  {
   "cell_type": "code",
   "execution_count": 279,
   "id": "2b757bca",
   "metadata": {
    "id": "2b757bca"
   },
   "outputs": [
    {
     "name": "stdout",
     "output_type": "stream",
     "text": [
      "<class 'pandas.core.frame.DataFrame'>\n",
      "RangeIndex: 21525 entries, 0 to 21524\n",
      "Data columns (total 12 columns):\n",
      " #   Column            Non-Null Count  Dtype  \n",
      "---  ------            --------------  -----  \n",
      " 0   children          21525 non-null  int64  \n",
      " 1   days_employed     19351 non-null  float64\n",
      " 2   dob_years         21525 non-null  int64  \n",
      " 3   education         21525 non-null  object \n",
      " 4   education_id      21525 non-null  int64  \n",
      " 5   family_status     21525 non-null  object \n",
      " 6   family_status_id  21525 non-null  int64  \n",
      " 7   gender            21525 non-null  object \n",
      " 8   income_type       21525 non-null  object \n",
      " 9   debt              21525 non-null  int64  \n",
      " 10  total_income      19351 non-null  float64\n",
      " 11  purpose           21525 non-null  object \n",
      "dtypes: float64(2), int64(5), object(5)\n",
      "memory usage: 2.0+ MB\n"
     ]
    }
   ],
   "source": [
    "# ваш код здесь\n",
    "data.info()"
   ]
  },
  {
   "cell_type": "markdown",
   "id": "333ec665",
   "metadata": {
    "deletable": false,
    "editable": false,
    "id": "333ec665"
   },
   "source": [
    "## Предобработка данных"
   ]
  },
  {
   "cell_type": "markdown",
   "id": "02d92d53",
   "metadata": {
    "deletable": false,
    "editable": false,
    "id": "02d92d53"
   },
   "source": [
    "### Удаление пропусков"
   ]
  },
  {
   "cell_type": "markdown",
   "id": "cd84967c",
   "metadata": {
    "deletable": false,
    "editable": false,
    "id": "cd84967c",
    "tags": [
     "start_task"
    ]
   },
   "source": [
    "**Задание 4. Выведите количество пропущенных значений для каждого столбца. Используйте комбинацию двух методов.**"
   ]
  },
  {
   "cell_type": "code",
   "execution_count": 280,
   "id": "7f9b2309",
   "metadata": {
    "id": "7f9b2309"
   },
   "outputs": [
    {
     "data": {
      "text/plain": [
       "children               0\n",
       "days_employed       2174\n",
       "dob_years              0\n",
       "education              0\n",
       "education_id           0\n",
       "family_status          0\n",
       "family_status_id       0\n",
       "gender                 0\n",
       "income_type            0\n",
       "debt                   0\n",
       "total_income        2174\n",
       "purpose                0\n",
       "dtype: int64"
      ]
     },
     "execution_count": 280,
     "metadata": {},
     "output_type": "execute_result"
    }
   ],
   "source": [
    "# ваш код здесь\n",
    "data.isna().sum()"
   ]
  },
  {
   "cell_type": "markdown",
   "id": "db86e27b",
   "metadata": {
    "deletable": false,
    "editable": false,
    "id": "db86e27b",
    "tags": [
     "start_task"
    ]
   },
   "source": [
    "**Задание 5. В двух столбцах есть пропущенные значения. Один из них — `days_employed`. Пропуски в этом столбце вы обработаете на следующем этапе. Другой столбец с пропущенными значениями — `total_income` — хранит данные о доходах. На сумму дохода сильнее всего влияет тип занятости, поэтому заполнить пропуски в этом столбце нужно медианным значением по каждому типу из столбца `income_type`. Например, у человека с типом занятости `сотрудник` пропуск в столбце `total_income` должен быть заполнен медианным доходом среди всех записей с тем же типом.**"
   ]
  },
  {
   "cell_type": "code",
   "execution_count": 281,
   "id": "42006a93",
   "metadata": {
    "id": "42006a93"
   },
   "outputs": [
    {
     "name": "stdout",
     "output_type": "stream",
     "text": [
      "None\n"
     ]
    },
    {
     "data": {
      "text/html": [
       "<div>\n",
       "<style scoped>\n",
       "    .dataframe tbody tr th:only-of-type {\n",
       "        vertical-align: middle;\n",
       "    }\n",
       "\n",
       "    .dataframe tbody tr th {\n",
       "        vertical-align: top;\n",
       "    }\n",
       "\n",
       "    .dataframe thead th {\n",
       "        text-align: right;\n",
       "    }\n",
       "</style>\n",
       "<table border=\"1\" class=\"dataframe\">\n",
       "  <thead>\n",
       "    <tr style=\"text-align: right;\">\n",
       "      <th></th>\n",
       "      <th>children</th>\n",
       "      <th>days_employed</th>\n",
       "      <th>dob_years</th>\n",
       "      <th>education</th>\n",
       "      <th>education_id</th>\n",
       "      <th>family_status</th>\n",
       "      <th>family_status_id</th>\n",
       "      <th>gender</th>\n",
       "      <th>income_type</th>\n",
       "      <th>debt</th>\n",
       "      <th>total_income</th>\n",
       "      <th>purpose</th>\n",
       "    </tr>\n",
       "  </thead>\n",
       "  <tbody>\n",
       "    <tr>\n",
       "      <th>0</th>\n",
       "      <td>1</td>\n",
       "      <td>-8437.673028</td>\n",
       "      <td>42</td>\n",
       "      <td>высшее</td>\n",
       "      <td>0</td>\n",
       "      <td>женат / замужем</td>\n",
       "      <td>0</td>\n",
       "      <td>F</td>\n",
       "      <td>сотрудник</td>\n",
       "      <td>0</td>\n",
       "      <td>253875.639453</td>\n",
       "      <td>покупка жилья</td>\n",
       "    </tr>\n",
       "    <tr>\n",
       "      <th>1</th>\n",
       "      <td>1</td>\n",
       "      <td>-4024.803754</td>\n",
       "      <td>36</td>\n",
       "      <td>среднее</td>\n",
       "      <td>1</td>\n",
       "      <td>женат / замужем</td>\n",
       "      <td>0</td>\n",
       "      <td>F</td>\n",
       "      <td>сотрудник</td>\n",
       "      <td>0</td>\n",
       "      <td>112080.014102</td>\n",
       "      <td>приобретение автомобиля</td>\n",
       "    </tr>\n",
       "    <tr>\n",
       "      <th>2</th>\n",
       "      <td>0</td>\n",
       "      <td>-5623.422610</td>\n",
       "      <td>33</td>\n",
       "      <td>Среднее</td>\n",
       "      <td>1</td>\n",
       "      <td>женат / замужем</td>\n",
       "      <td>0</td>\n",
       "      <td>M</td>\n",
       "      <td>сотрудник</td>\n",
       "      <td>0</td>\n",
       "      <td>145885.952297</td>\n",
       "      <td>покупка жилья</td>\n",
       "    </tr>\n",
       "    <tr>\n",
       "      <th>3</th>\n",
       "      <td>3</td>\n",
       "      <td>-4124.747207</td>\n",
       "      <td>32</td>\n",
       "      <td>среднее</td>\n",
       "      <td>1</td>\n",
       "      <td>женат / замужем</td>\n",
       "      <td>0</td>\n",
       "      <td>M</td>\n",
       "      <td>сотрудник</td>\n",
       "      <td>0</td>\n",
       "      <td>267628.550329</td>\n",
       "      <td>дополнительное образование</td>\n",
       "    </tr>\n",
       "    <tr>\n",
       "      <th>4</th>\n",
       "      <td>0</td>\n",
       "      <td>340266.072047</td>\n",
       "      <td>53</td>\n",
       "      <td>среднее</td>\n",
       "      <td>1</td>\n",
       "      <td>гражданский брак</td>\n",
       "      <td>1</td>\n",
       "      <td>F</td>\n",
       "      <td>пенсионер</td>\n",
       "      <td>0</td>\n",
       "      <td>158616.077870</td>\n",
       "      <td>сыграть свадьбу</td>\n",
       "    </tr>\n",
       "  </tbody>\n",
       "</table>\n",
       "</div>"
      ],
      "text/plain": [
       "   children  days_employed  dob_years education  education_id  \\\n",
       "0         1   -8437.673028         42    высшее             0   \n",
       "1         1   -4024.803754         36   среднее             1   \n",
       "2         0   -5623.422610         33   Среднее             1   \n",
       "3         3   -4124.747207         32   среднее             1   \n",
       "4         0  340266.072047         53   среднее             1   \n",
       "\n",
       "      family_status  family_status_id gender income_type  debt   total_income  \\\n",
       "0   женат / замужем                 0      F   сотрудник     0  253875.639453   \n",
       "1   женат / замужем                 0      F   сотрудник     0  112080.014102   \n",
       "2   женат / замужем                 0      M   сотрудник     0  145885.952297   \n",
       "3   женат / замужем                 0      M   сотрудник     0  267628.550329   \n",
       "4  гражданский брак                 1      F   пенсионер     0  158616.077870   \n",
       "\n",
       "                      purpose  \n",
       "0               покупка жилья  \n",
       "1     приобретение автомобиля  \n",
       "2               покупка жилья  \n",
       "3  дополнительное образование  \n",
       "4             сыграть свадьбу  "
      ]
     },
     "execution_count": 281,
     "metadata": {},
     "output_type": "execute_result"
    }
   ],
   "source": [
    "# ваш код здесь\n",
    "median_income = data.groupby('income_type')['total_income'].transform('median') \n",
    "print(data['total_income'].fillna(median_income, inplace=True)) \n",
    "data.head()\n",
    "\n",
    "\n"
   ]
  },
  {
   "cell_type": "markdown",
   "id": "89da5ece",
   "metadata": {
    "deletable": false,
    "editable": false,
    "id": "89da5ece"
   },
   "source": [
    "### Обработка аномальных значений"
   ]
  },
  {
   "cell_type": "markdown",
   "id": "57964554",
   "metadata": {
    "deletable": false,
    "editable": false,
    "id": "57964554",
    "tags": [
     "start_task"
    ]
   },
   "source": [
    "**Задание 6. В данных могут встречаться артефакты (аномалии) — значения, которые не отражают действительность и появились по какой-то ошибке. Таким артефактом будет отрицательное количество дней трудового стажа в столбце `days_employed`. Для реальных данных это нормально. Обработайте значения в этом столбце: замените все отрицательные значения положительными с помощью метода `abs()`.**"
   ]
  },
  {
   "cell_type": "code",
   "execution_count": 282,
   "id": "f6f055bf",
   "metadata": {
    "id": "f6f055bf"
   },
   "outputs": [
    {
     "data": {
      "text/html": [
       "<div>\n",
       "<style scoped>\n",
       "    .dataframe tbody tr th:only-of-type {\n",
       "        vertical-align: middle;\n",
       "    }\n",
       "\n",
       "    .dataframe tbody tr th {\n",
       "        vertical-align: top;\n",
       "    }\n",
       "\n",
       "    .dataframe thead th {\n",
       "        text-align: right;\n",
       "    }\n",
       "</style>\n",
       "<table border=\"1\" class=\"dataframe\">\n",
       "  <thead>\n",
       "    <tr style=\"text-align: right;\">\n",
       "      <th></th>\n",
       "      <th>children</th>\n",
       "      <th>days_employed</th>\n",
       "      <th>dob_years</th>\n",
       "      <th>education</th>\n",
       "      <th>education_id</th>\n",
       "      <th>family_status</th>\n",
       "      <th>family_status_id</th>\n",
       "      <th>gender</th>\n",
       "      <th>income_type</th>\n",
       "      <th>debt</th>\n",
       "      <th>total_income</th>\n",
       "      <th>purpose</th>\n",
       "    </tr>\n",
       "  </thead>\n",
       "  <tbody>\n",
       "    <tr>\n",
       "      <th>0</th>\n",
       "      <td>1</td>\n",
       "      <td>8437.673028</td>\n",
       "      <td>42</td>\n",
       "      <td>высшее</td>\n",
       "      <td>0</td>\n",
       "      <td>женат / замужем</td>\n",
       "      <td>0</td>\n",
       "      <td>F</td>\n",
       "      <td>сотрудник</td>\n",
       "      <td>0</td>\n",
       "      <td>253875.639453</td>\n",
       "      <td>покупка жилья</td>\n",
       "    </tr>\n",
       "    <tr>\n",
       "      <th>1</th>\n",
       "      <td>1</td>\n",
       "      <td>4024.803754</td>\n",
       "      <td>36</td>\n",
       "      <td>среднее</td>\n",
       "      <td>1</td>\n",
       "      <td>женат / замужем</td>\n",
       "      <td>0</td>\n",
       "      <td>F</td>\n",
       "      <td>сотрудник</td>\n",
       "      <td>0</td>\n",
       "      <td>112080.014102</td>\n",
       "      <td>приобретение автомобиля</td>\n",
       "    </tr>\n",
       "    <tr>\n",
       "      <th>2</th>\n",
       "      <td>0</td>\n",
       "      <td>5623.422610</td>\n",
       "      <td>33</td>\n",
       "      <td>Среднее</td>\n",
       "      <td>1</td>\n",
       "      <td>женат / замужем</td>\n",
       "      <td>0</td>\n",
       "      <td>M</td>\n",
       "      <td>сотрудник</td>\n",
       "      <td>0</td>\n",
       "      <td>145885.952297</td>\n",
       "      <td>покупка жилья</td>\n",
       "    </tr>\n",
       "    <tr>\n",
       "      <th>3</th>\n",
       "      <td>3</td>\n",
       "      <td>4124.747207</td>\n",
       "      <td>32</td>\n",
       "      <td>среднее</td>\n",
       "      <td>1</td>\n",
       "      <td>женат / замужем</td>\n",
       "      <td>0</td>\n",
       "      <td>M</td>\n",
       "      <td>сотрудник</td>\n",
       "      <td>0</td>\n",
       "      <td>267628.550329</td>\n",
       "      <td>дополнительное образование</td>\n",
       "    </tr>\n",
       "    <tr>\n",
       "      <th>4</th>\n",
       "      <td>0</td>\n",
       "      <td>340266.072047</td>\n",
       "      <td>53</td>\n",
       "      <td>среднее</td>\n",
       "      <td>1</td>\n",
       "      <td>гражданский брак</td>\n",
       "      <td>1</td>\n",
       "      <td>F</td>\n",
       "      <td>пенсионер</td>\n",
       "      <td>0</td>\n",
       "      <td>158616.077870</td>\n",
       "      <td>сыграть свадьбу</td>\n",
       "    </tr>\n",
       "    <tr>\n",
       "      <th>5</th>\n",
       "      <td>0</td>\n",
       "      <td>926.185831</td>\n",
       "      <td>27</td>\n",
       "      <td>высшее</td>\n",
       "      <td>0</td>\n",
       "      <td>гражданский брак</td>\n",
       "      <td>1</td>\n",
       "      <td>M</td>\n",
       "      <td>компаньон</td>\n",
       "      <td>0</td>\n",
       "      <td>255763.565419</td>\n",
       "      <td>покупка жилья</td>\n",
       "    </tr>\n",
       "  </tbody>\n",
       "</table>\n",
       "</div>"
      ],
      "text/plain": [
       "   children  days_employed  dob_years education  education_id  \\\n",
       "0         1    8437.673028         42    высшее             0   \n",
       "1         1    4024.803754         36   среднее             1   \n",
       "2         0    5623.422610         33   Среднее             1   \n",
       "3         3    4124.747207         32   среднее             1   \n",
       "4         0  340266.072047         53   среднее             1   \n",
       "5         0     926.185831         27    высшее             0   \n",
       "\n",
       "      family_status  family_status_id gender income_type  debt   total_income  \\\n",
       "0   женат / замужем                 0      F   сотрудник     0  253875.639453   \n",
       "1   женат / замужем                 0      F   сотрудник     0  112080.014102   \n",
       "2   женат / замужем                 0      M   сотрудник     0  145885.952297   \n",
       "3   женат / замужем                 0      M   сотрудник     0  267628.550329   \n",
       "4  гражданский брак                 1      F   пенсионер     0  158616.077870   \n",
       "5  гражданский брак                 1      M   компаньон     0  255763.565419   \n",
       "\n",
       "                      purpose  \n",
       "0               покупка жилья  \n",
       "1     приобретение автомобиля  \n",
       "2               покупка жилья  \n",
       "3  дополнительное образование  \n",
       "4             сыграть свадьбу  \n",
       "5               покупка жилья  "
      ]
     },
     "execution_count": 282,
     "metadata": {},
     "output_type": "execute_result"
    }
   ],
   "source": [
    "# ваш код здесь\n",
    "data['days_employed']=data['days_employed'].abs()\n",
    "data.head(6)"
   ]
  },
  {
   "cell_type": "markdown",
   "id": "6107dd2f",
   "metadata": {
    "deletable": false,
    "editable": false,
    "id": "6107dd2f",
    "tags": [
     "start_task"
    ]
   },
   "source": [
    "**Задание 7. Для каждого типа занятости выведите медианное значение трудового стажа `days_employed` в днях.**"
   ]
  },
  {
   "cell_type": "code",
   "execution_count": 283,
   "id": "85a5faf6",
   "metadata": {
    "id": "85a5faf6"
   },
   "outputs": [
    {
     "data": {
      "text/plain": [
       "income_type\n",
       "безработный        366413.652744\n",
       "в декрете            3296.759962\n",
       "госслужащий          2689.368353\n",
       "компаньон            1547.382223\n",
       "пенсионер          365213.306266\n",
       "предприниматель       520.848083\n",
       "сотрудник            1574.202821\n",
       "студент               578.751554\n",
       "Name: days_employed, dtype: float64"
      ]
     },
     "execution_count": 283,
     "metadata": {},
     "output_type": "execute_result"
    }
   ],
   "source": [
    "# ваш код здесь\n",
    "data.groupby('income_type')['days_employed'].median()\n"
   ]
  },
  {
   "cell_type": "markdown",
   "id": "38d1a030",
   "metadata": {
    "deletable": false,
    "editable": false,
    "id": "38d1a030"
   },
   "source": [
    "У двух типов (безработные и пенсионеры) получатся аномально большие значения. Исправить такие значения сложно, поэтому оставьте их как есть. Тем более этот столбец не понадобится вам для исследования."
   ]
  },
  {
   "cell_type": "markdown",
   "id": "d8a9f147",
   "metadata": {
    "deletable": false,
    "editable": false,
    "id": "d8a9f147",
    "tags": [
     "start_task"
    ]
   },
   "source": [
    "**Задание 8. Выведите перечень уникальных значений столбца `children`.**"
   ]
  },
  {
   "cell_type": "code",
   "execution_count": 284,
   "id": "ef5056eb",
   "metadata": {
    "id": "ef5056eb"
   },
   "outputs": [
    {
     "data": {
      "text/plain": [
       "array([ 1,  0,  3,  2, -1,  4, 20,  5])"
      ]
     },
     "execution_count": 284,
     "metadata": {},
     "output_type": "execute_result"
    }
   ],
   "source": [
    "# ваш код здесь\n",
    "data['children'].unique()"
   ]
  },
  {
   "cell_type": "markdown",
   "id": "40b9ebf2",
   "metadata": {
    "deletable": false,
    "editable": false,
    "id": "40b9ebf2",
    "tags": [
     "start_task"
    ]
   },
   "source": [
    "**Задание 9. В столбце `children` есть два аномальных значения. Удалите строки, в которых встречаются такие аномальные значения из датафрейма `data`.**"
   ]
  },
  {
   "cell_type": "code",
   "execution_count": 285,
   "id": "3ff9801d",
   "metadata": {
    "id": "3ff9801d"
   },
   "outputs": [],
   "source": [
    "# ваш код здесь\n",
    "data = data[~data['children'].isin((-1,20))]\n",
    "\n",
    "\n"
   ]
  },
  {
   "cell_type": "markdown",
   "id": "bbc4d0ce",
   "metadata": {
    "deletable": false,
    "editable": false,
    "id": "bbc4d0ce",
    "tags": [
     "start_task"
    ]
   },
   "source": [
    "**Задание 10. Ещё раз выведите перечень уникальных значений столбца `children`, чтобы убедиться, что артефакты удалены.**"
   ]
  },
  {
   "cell_type": "code",
   "execution_count": 286,
   "id": "ad4fa8b7",
   "metadata": {
    "id": "ad4fa8b7"
   },
   "outputs": [
    {
     "data": {
      "text/plain": [
       "array([1, 0, 3, 2, 4, 5])"
      ]
     },
     "execution_count": 286,
     "metadata": {},
     "output_type": "execute_result"
    }
   ],
   "source": [
    "# ваш код здесь\n",
    "data['children'].unique()"
   ]
  },
  {
   "cell_type": "markdown",
   "id": "75440b63",
   "metadata": {
    "deletable": false,
    "editable": false,
    "id": "75440b63"
   },
   "source": [
    "### Удаление пропусков (продолжение)"
   ]
  },
  {
   "cell_type": "markdown",
   "id": "f4ea573f",
   "metadata": {
    "deletable": false,
    "editable": false,
    "id": "f4ea573f",
    "tags": [
     "start_task"
    ]
   },
   "source": [
    "**Задание 11. Заполните пропуски в столбце `days_employed` медианными значениями по каждому типу занятости `income_type`.**"
   ]
  },
  {
   "cell_type": "code",
   "execution_count": 287,
   "id": "af6b1a7e",
   "metadata": {
    "id": "af6b1a7e"
   },
   "outputs": [],
   "source": [
    "# ваш код здесь\n",
    "data['days_employed'].fillna((data.groupby('income_type')[('days_employed')].transform('median')), inplace = True)"
   ]
  },
  {
   "cell_type": "markdown",
   "id": "2753f40d",
   "metadata": {
    "deletable": false,
    "editable": false,
    "id": "2753f40d",
    "tags": [
     "start_task"
    ]
   },
   "source": [
    "**Задание 12. Убедитесь, что все пропуски заполнены. Проверьте себя и ещё раз выведите количество пропущенных значений для каждого столбца с помощью двух методов.**"
   ]
  },
  {
   "cell_type": "code",
   "execution_count": 288,
   "id": "55f78bc2",
   "metadata": {
    "id": "55f78bc2"
   },
   "outputs": [
    {
     "data": {
      "text/plain": [
       "children            0\n",
       "days_employed       0\n",
       "dob_years           0\n",
       "education           0\n",
       "education_id        0\n",
       "family_status       0\n",
       "family_status_id    0\n",
       "gender              0\n",
       "income_type         0\n",
       "debt                0\n",
       "total_income        0\n",
       "purpose             0\n",
       "dtype: int64"
      ]
     },
     "execution_count": 288,
     "metadata": {},
     "output_type": "execute_result"
    }
   ],
   "source": [
    "# ваш код здесь\n",
    "data.isna().sum()"
   ]
  },
  {
   "cell_type": "markdown",
   "id": "ddc81e43",
   "metadata": {
    "deletable": false,
    "editable": false,
    "id": "ddc81e43"
   },
   "source": [
    "### Изменение типов данных"
   ]
  },
  {
   "cell_type": "markdown",
   "id": "42d19d24",
   "metadata": {
    "deletable": false,
    "editable": false,
    "id": "42d19d24",
    "tags": [
     "start_task"
    ]
   },
   "source": [
    "**Задание 13. Замените вещественный тип данных в столбце `total_income` на целочисленный с помощью метода `astype()`.**"
   ]
  },
  {
   "cell_type": "code",
   "execution_count": 289,
   "id": "920b65ad",
   "metadata": {
    "id": "920b65ad"
   },
   "outputs": [
    {
     "data": {
      "text/html": [
       "<div>\n",
       "<style scoped>\n",
       "    .dataframe tbody tr th:only-of-type {\n",
       "        vertical-align: middle;\n",
       "    }\n",
       "\n",
       "    .dataframe tbody tr th {\n",
       "        vertical-align: top;\n",
       "    }\n",
       "\n",
       "    .dataframe thead th {\n",
       "        text-align: right;\n",
       "    }\n",
       "</style>\n",
       "<table border=\"1\" class=\"dataframe\">\n",
       "  <thead>\n",
       "    <tr style=\"text-align: right;\">\n",
       "      <th></th>\n",
       "      <th>children</th>\n",
       "      <th>days_employed</th>\n",
       "      <th>dob_years</th>\n",
       "      <th>education</th>\n",
       "      <th>education_id</th>\n",
       "      <th>family_status</th>\n",
       "      <th>family_status_id</th>\n",
       "      <th>gender</th>\n",
       "      <th>income_type</th>\n",
       "      <th>debt</th>\n",
       "      <th>total_income</th>\n",
       "      <th>purpose</th>\n",
       "    </tr>\n",
       "  </thead>\n",
       "  <tbody>\n",
       "    <tr>\n",
       "      <th>0</th>\n",
       "      <td>1</td>\n",
       "      <td>8437.673028</td>\n",
       "      <td>42</td>\n",
       "      <td>высшее</td>\n",
       "      <td>0</td>\n",
       "      <td>женат / замужем</td>\n",
       "      <td>0</td>\n",
       "      <td>F</td>\n",
       "      <td>сотрудник</td>\n",
       "      <td>0</td>\n",
       "      <td>253875</td>\n",
       "      <td>покупка жилья</td>\n",
       "    </tr>\n",
       "    <tr>\n",
       "      <th>1</th>\n",
       "      <td>1</td>\n",
       "      <td>4024.803754</td>\n",
       "      <td>36</td>\n",
       "      <td>среднее</td>\n",
       "      <td>1</td>\n",
       "      <td>женат / замужем</td>\n",
       "      <td>0</td>\n",
       "      <td>F</td>\n",
       "      <td>сотрудник</td>\n",
       "      <td>0</td>\n",
       "      <td>112080</td>\n",
       "      <td>приобретение автомобиля</td>\n",
       "    </tr>\n",
       "    <tr>\n",
       "      <th>2</th>\n",
       "      <td>0</td>\n",
       "      <td>5623.422610</td>\n",
       "      <td>33</td>\n",
       "      <td>Среднее</td>\n",
       "      <td>1</td>\n",
       "      <td>женат / замужем</td>\n",
       "      <td>0</td>\n",
       "      <td>M</td>\n",
       "      <td>сотрудник</td>\n",
       "      <td>0</td>\n",
       "      <td>145885</td>\n",
       "      <td>покупка жилья</td>\n",
       "    </tr>\n",
       "    <tr>\n",
       "      <th>3</th>\n",
       "      <td>3</td>\n",
       "      <td>4124.747207</td>\n",
       "      <td>32</td>\n",
       "      <td>среднее</td>\n",
       "      <td>1</td>\n",
       "      <td>женат / замужем</td>\n",
       "      <td>0</td>\n",
       "      <td>M</td>\n",
       "      <td>сотрудник</td>\n",
       "      <td>0</td>\n",
       "      <td>267628</td>\n",
       "      <td>дополнительное образование</td>\n",
       "    </tr>\n",
       "    <tr>\n",
       "      <th>4</th>\n",
       "      <td>0</td>\n",
       "      <td>340266.072047</td>\n",
       "      <td>53</td>\n",
       "      <td>среднее</td>\n",
       "      <td>1</td>\n",
       "      <td>гражданский брак</td>\n",
       "      <td>1</td>\n",
       "      <td>F</td>\n",
       "      <td>пенсионер</td>\n",
       "      <td>0</td>\n",
       "      <td>158616</td>\n",
       "      <td>сыграть свадьбу</td>\n",
       "    </tr>\n",
       "    <tr>\n",
       "      <th>5</th>\n",
       "      <td>0</td>\n",
       "      <td>926.185831</td>\n",
       "      <td>27</td>\n",
       "      <td>высшее</td>\n",
       "      <td>0</td>\n",
       "      <td>гражданский брак</td>\n",
       "      <td>1</td>\n",
       "      <td>M</td>\n",
       "      <td>компаньон</td>\n",
       "      <td>0</td>\n",
       "      <td>255763</td>\n",
       "      <td>покупка жилья</td>\n",
       "    </tr>\n",
       "    <tr>\n",
       "      <th>6</th>\n",
       "      <td>0</td>\n",
       "      <td>2879.202052</td>\n",
       "      <td>43</td>\n",
       "      <td>высшее</td>\n",
       "      <td>0</td>\n",
       "      <td>женат / замужем</td>\n",
       "      <td>0</td>\n",
       "      <td>F</td>\n",
       "      <td>компаньон</td>\n",
       "      <td>0</td>\n",
       "      <td>240525</td>\n",
       "      <td>операции с жильем</td>\n",
       "    </tr>\n",
       "    <tr>\n",
       "      <th>7</th>\n",
       "      <td>0</td>\n",
       "      <td>152.779569</td>\n",
       "      <td>50</td>\n",
       "      <td>СРЕДНЕЕ</td>\n",
       "      <td>1</td>\n",
       "      <td>женат / замужем</td>\n",
       "      <td>0</td>\n",
       "      <td>M</td>\n",
       "      <td>сотрудник</td>\n",
       "      <td>0</td>\n",
       "      <td>135823</td>\n",
       "      <td>образование</td>\n",
       "    </tr>\n",
       "  </tbody>\n",
       "</table>\n",
       "</div>"
      ],
      "text/plain": [
       "   children  days_employed  dob_years education  education_id  \\\n",
       "0         1    8437.673028         42    высшее             0   \n",
       "1         1    4024.803754         36   среднее             1   \n",
       "2         0    5623.422610         33   Среднее             1   \n",
       "3         3    4124.747207         32   среднее             1   \n",
       "4         0  340266.072047         53   среднее             1   \n",
       "5         0     926.185831         27    высшее             0   \n",
       "6         0    2879.202052         43    высшее             0   \n",
       "7         0     152.779569         50   СРЕДНЕЕ             1   \n",
       "\n",
       "      family_status  family_status_id gender income_type  debt  total_income  \\\n",
       "0   женат / замужем                 0      F   сотрудник     0        253875   \n",
       "1   женат / замужем                 0      F   сотрудник     0        112080   \n",
       "2   женат / замужем                 0      M   сотрудник     0        145885   \n",
       "3   женат / замужем                 0      M   сотрудник     0        267628   \n",
       "4  гражданский брак                 1      F   пенсионер     0        158616   \n",
       "5  гражданский брак                 1      M   компаньон     0        255763   \n",
       "6   женат / замужем                 0      F   компаньон     0        240525   \n",
       "7   женат / замужем                 0      M   сотрудник     0        135823   \n",
       "\n",
       "                      purpose  \n",
       "0               покупка жилья  \n",
       "1     приобретение автомобиля  \n",
       "2               покупка жилья  \n",
       "3  дополнительное образование  \n",
       "4             сыграть свадьбу  \n",
       "5               покупка жилья  \n",
       "6           операции с жильем  \n",
       "7                 образование  "
      ]
     },
     "execution_count": 289,
     "metadata": {},
     "output_type": "execute_result"
    }
   ],
   "source": [
    "# ваш код здесь\n",
    "data['total_income']=data['total_income'].astype(int)\n",
    "data.head(8)"
   ]
  },
  {
   "cell_type": "markdown",
   "id": "80c420ba",
   "metadata": {
    "deletable": false,
    "editable": false,
    "id": "80c420ba"
   },
   "source": [
    "### Обработка дубликатов"
   ]
  },
  {
   "cell_type": "markdown",
   "id": "dc587695",
   "metadata": {
    "deletable": false,
    "editable": false,
    "id": "dc587695",
    "tags": [
     "start_task"
    ]
   },
   "source": [
    "**Задание 14. Обработайте неявные дубликаты в столбце `education`. В этом столбце есть одни и те же значения, но записанные по-разному: с использованием заглавных и строчных букв. Приведите их к нижнему регистру.**"
   ]
  },
  {
   "cell_type": "code",
   "execution_count": 290,
   "id": "a9f8e2bf",
   "metadata": {
    "id": "a9f8e2bf"
   },
   "outputs": [],
   "source": [
    "# ваш код здесь\n",
    "data['education']=data['education'].str.lower()\n"
   ]
  },
  {
   "cell_type": "markdown",
   "id": "9771a76c",
   "metadata": {
    "deletable": false,
    "editable": false,
    "id": "9771a76c",
    "tags": [
     "start_task"
    ]
   },
   "source": [
    "**Задание 15. Выведите на экран количество строк-дубликатов в данных. Если такие строки присутствуют, удалите их. Сбрасывать индексы после удаления строк дубликатов с помощью `reset_index(drop=True)` здесь не требуется.**"
   ]
  },
  {
   "cell_type": "code",
   "execution_count": 291,
   "id": "3ee445e4",
   "metadata": {
    "id": "3ee445e4"
   },
   "outputs": [
    {
     "data": {
      "text/plain": [
       "71"
      ]
     },
     "execution_count": 291,
     "metadata": {},
     "output_type": "execute_result"
    }
   ],
   "source": [
    "# посчитайте дубликаты\n",
    "data.duplicated().sum()"
   ]
  },
  {
   "cell_type": "code",
   "execution_count": 292,
   "id": "8575fe05",
   "metadata": {
    "id": "8575fe05"
   },
   "outputs": [],
   "source": [
    "# удалите дубликаты\n",
    "data = data.drop_duplicates()\n"
   ]
  },
  {
   "cell_type": "markdown",
   "id": "9904cf55",
   "metadata": {
    "deletable": false,
    "editable": false,
    "id": "9904cf55"
   },
   "source": [
    "### Категоризация данных"
   ]
  },
  {
   "cell_type": "markdown",
   "id": "72fcc8a2",
   "metadata": {
    "deletable": false,
    "editable": false,
    "id": "72fcc8a2",
    "tags": [
     "start_task"
    ]
   },
   "source": [
    "**Задание 16. На основании диапазонов, указанных ниже, создайте в датафрейме `data` столбец `total_income_category` с категориями:**\n",
    "\n",
    "- 0–30000 — `'E'`;\n",
    "- 30001–50000 — `'D'`;\n",
    "- 50001–200000 — `'C'`;\n",
    "- 200001–1000000 — `'B'`;\n",
    "- 1000001 и выше — `'A'`.\n",
    "\n",
    "\n",
    "**Например, кредитополучателю с доходом 25000 нужно назначить категорию `'E'`, а клиенту, получающему 235000, — `'B'`. Используйте собственную функцию с именем `categorize_income()` и метод `apply()`.**"
   ]
  },
  {
   "cell_type": "code",
   "execution_count": 293,
   "id": "e1771346",
   "metadata": {
    "id": "e1771346"
   },
   "outputs": [],
   "source": [
    "# создайте функцию categorize_income()\n",
    "def categorize_income(row): \n",
    "    total_income = row['total_income']\n",
    "    if ((total_income>=0)&(total_income<=30000)):\n",
    "        return 'E'\n",
    "    if ((total_income>=30001)&(total_income<=50000)): \n",
    "        return 'D'\n",
    "    if ((total_income>=50001)&(total_income<=200000)): \n",
    "        return 'C'\n",
    "    if ((total_income>=200001)&(total_income<=1000000)):\n",
    "        return 'B'\n",
    "    return 'A'\n",
    "\n",
    " \n",
    "\n",
    "\n",
    "# data['income'] -- столбец с зарплатами"
   ]
  },
  {
   "cell_type": "code",
   "execution_count": 294,
   "id": "d5f3586d",
   "metadata": {
    "id": "d5f3586d"
   },
   "outputs": [],
   "source": [
    "# примените функцию методом apply()\n",
    "data['total_income_category'] = data.apply(categorize_income, axis=1)"
   ]
  },
  {
   "cell_type": "markdown",
   "id": "dde49b5c",
   "metadata": {
    "deletable": false,
    "editable": false,
    "id": "dde49b5c",
    "tags": [
     "start_task"
    ]
   },
   "source": [
    "**Задание 17. Выведите на экран перечень уникальных целей взятия кредита из столбца `purpose`.**"
   ]
  },
  {
   "cell_type": "code",
   "execution_count": 295,
   "id": "f67ce9b3",
   "metadata": {
    "id": "f67ce9b3"
   },
   "outputs": [
    {
     "data": {
      "text/plain": [
       "array(['покупка жилья', 'приобретение автомобиля',\n",
       "       'дополнительное образование', 'сыграть свадьбу',\n",
       "       'операции с жильем', 'образование', 'на проведение свадьбы',\n",
       "       'покупка жилья для семьи', 'покупка недвижимости',\n",
       "       'покупка коммерческой недвижимости', 'покупка жилой недвижимости',\n",
       "       'строительство собственной недвижимости', 'недвижимость',\n",
       "       'строительство недвижимости', 'на покупку подержанного автомобиля',\n",
       "       'на покупку своего автомобиля',\n",
       "       'операции с коммерческой недвижимостью',\n",
       "       'строительство жилой недвижимости', 'жилье',\n",
       "       'операции со своей недвижимостью', 'автомобили',\n",
       "       'заняться образованием', 'сделка с подержанным автомобилем',\n",
       "       'получение образования', 'автомобиль', 'свадьба',\n",
       "       'получение дополнительного образования', 'покупка своего жилья',\n",
       "       'операции с недвижимостью', 'получение высшего образования',\n",
       "       'свой автомобиль', 'сделка с автомобилем',\n",
       "       'профильное образование', 'высшее образование',\n",
       "       'покупка жилья для сдачи', 'на покупку автомобиля', 'ремонт жилью',\n",
       "       'заняться высшим образованием'], dtype=object)"
      ]
     },
     "execution_count": 295,
     "metadata": {},
     "output_type": "execute_result"
    }
   ],
   "source": [
    "# ваш код здесь\n",
    "data['purpose'].unique()"
   ]
  },
  {
   "cell_type": "markdown",
   "id": "85d0aef0",
   "metadata": {
    "deletable": false,
    "editable": false,
    "id": "85d0aef0",
    "tags": [
     "start_task"
    ]
   },
   "source": [
    "**Задание 18. Создайте функцию, которая на основании данных из столбца `purpose` сформирует новый столбец `purpose_category`, в который войдут следующие категории:**\n",
    "\n",
    "- `'операции с автомобилем'`,\n",
    "- `'операции с недвижимостью'`,\n",
    "- `'проведение свадьбы'`,\n",
    "- `'получение образования'`.\n",
    "\n",
    "**Например, если в столбце `purpose` находится подстрока `'на покупку автомобиля'`, то в столбце `purpose_category` должна появиться строка `'операции с автомобилем'`.**\n",
    "\n",
    "**Используйте собственную функцию с именем `categorize_purpose()` и метод `apply()`. Изучите данные в столбце `purpose` и определите, какие подстроки помогут вам правильно определить категорию.**"
   ]
  },
  {
   "cell_type": "code",
   "execution_count": 296,
   "id": "e149fab4",
   "metadata": {
    "id": "e149fab4"
   },
   "outputs": [],
   "source": [
    "# создайте функцию categorize_purpose()\n",
    "def categorize_purpose(row):\n",
    "    if 'свадьб' in row['purpose']:\n",
    "        return 'проведение свадьбы'\n",
    "    if 'недви' in row['purpose']:\n",
    "        return 'операции с недвижимостью'\n",
    "    if 'жиль' in row['purpose']:\n",
    "        return 'операции с недвижимостью'\n",
    "    if 'авто' in row['purpose']:\n",
    "        return 'операции с автомобилем'\n",
    "    if 'образован' in row['purpose']:\n",
    "        return 'получение образования'"
   ]
  },
  {
   "cell_type": "code",
   "execution_count": 299,
   "id": "bf36e69b",
   "metadata": {
    "id": "bf36e69b"
   },
   "outputs": [
    {
     "data": {
      "text/html": [
       "<div>\n",
       "<style scoped>\n",
       "    .dataframe tbody tr th:only-of-type {\n",
       "        vertical-align: middle;\n",
       "    }\n",
       "\n",
       "    .dataframe tbody tr th {\n",
       "        vertical-align: top;\n",
       "    }\n",
       "\n",
       "    .dataframe thead th {\n",
       "        text-align: right;\n",
       "    }\n",
       "</style>\n",
       "<table border=\"1\" class=\"dataframe\">\n",
       "  <thead>\n",
       "    <tr style=\"text-align: right;\">\n",
       "      <th></th>\n",
       "      <th>children</th>\n",
       "      <th>days_employed</th>\n",
       "      <th>dob_years</th>\n",
       "      <th>education</th>\n",
       "      <th>education_id</th>\n",
       "      <th>family_status</th>\n",
       "      <th>family_status_id</th>\n",
       "      <th>gender</th>\n",
       "      <th>income_type</th>\n",
       "      <th>debt</th>\n",
       "      <th>total_income</th>\n",
       "      <th>purpose</th>\n",
       "      <th>total_income_category</th>\n",
       "      <th>purpose_category</th>\n",
       "    </tr>\n",
       "  </thead>\n",
       "  <tbody>\n",
       "    <tr>\n",
       "      <th>0</th>\n",
       "      <td>1</td>\n",
       "      <td>8437.673028</td>\n",
       "      <td>42</td>\n",
       "      <td>высшее</td>\n",
       "      <td>0</td>\n",
       "      <td>женат / замужем</td>\n",
       "      <td>0</td>\n",
       "      <td>F</td>\n",
       "      <td>сотрудник</td>\n",
       "      <td>0</td>\n",
       "      <td>253875</td>\n",
       "      <td>покупка жилья</td>\n",
       "      <td>B</td>\n",
       "      <td>операции с недвижимостью</td>\n",
       "    </tr>\n",
       "    <tr>\n",
       "      <th>1</th>\n",
       "      <td>1</td>\n",
       "      <td>4024.803754</td>\n",
       "      <td>36</td>\n",
       "      <td>среднее</td>\n",
       "      <td>1</td>\n",
       "      <td>женат / замужем</td>\n",
       "      <td>0</td>\n",
       "      <td>F</td>\n",
       "      <td>сотрудник</td>\n",
       "      <td>0</td>\n",
       "      <td>112080</td>\n",
       "      <td>приобретение автомобиля</td>\n",
       "      <td>C</td>\n",
       "      <td>операции с недвижимостью</td>\n",
       "    </tr>\n",
       "    <tr>\n",
       "      <th>2</th>\n",
       "      <td>0</td>\n",
       "      <td>5623.422610</td>\n",
       "      <td>33</td>\n",
       "      <td>среднее</td>\n",
       "      <td>1</td>\n",
       "      <td>женат / замужем</td>\n",
       "      <td>0</td>\n",
       "      <td>M</td>\n",
       "      <td>сотрудник</td>\n",
       "      <td>0</td>\n",
       "      <td>145885</td>\n",
       "      <td>покупка жилья</td>\n",
       "      <td>C</td>\n",
       "      <td>операции с недвижимостью</td>\n",
       "    </tr>\n",
       "    <tr>\n",
       "      <th>3</th>\n",
       "      <td>3</td>\n",
       "      <td>4124.747207</td>\n",
       "      <td>32</td>\n",
       "      <td>среднее</td>\n",
       "      <td>1</td>\n",
       "      <td>женат / замужем</td>\n",
       "      <td>0</td>\n",
       "      <td>M</td>\n",
       "      <td>сотрудник</td>\n",
       "      <td>0</td>\n",
       "      <td>267628</td>\n",
       "      <td>дополнительное образование</td>\n",
       "      <td>B</td>\n",
       "      <td>операции с недвижимостью</td>\n",
       "    </tr>\n",
       "    <tr>\n",
       "      <th>4</th>\n",
       "      <td>0</td>\n",
       "      <td>340266.072047</td>\n",
       "      <td>53</td>\n",
       "      <td>среднее</td>\n",
       "      <td>1</td>\n",
       "      <td>гражданский брак</td>\n",
       "      <td>1</td>\n",
       "      <td>F</td>\n",
       "      <td>пенсионер</td>\n",
       "      <td>0</td>\n",
       "      <td>158616</td>\n",
       "      <td>сыграть свадьбу</td>\n",
       "      <td>C</td>\n",
       "      <td>проведение свадьбы</td>\n",
       "    </tr>\n",
       "  </tbody>\n",
       "</table>\n",
       "</div>"
      ],
      "text/plain": [
       "   children  days_employed  dob_years education  education_id  \\\n",
       "0         1    8437.673028         42    высшее             0   \n",
       "1         1    4024.803754         36   среднее             1   \n",
       "2         0    5623.422610         33   среднее             1   \n",
       "3         3    4124.747207         32   среднее             1   \n",
       "4         0  340266.072047         53   среднее             1   \n",
       "\n",
       "      family_status  family_status_id gender income_type  debt  total_income  \\\n",
       "0   женат / замужем                 0      F   сотрудник     0        253875   \n",
       "1   женат / замужем                 0      F   сотрудник     0        112080   \n",
       "2   женат / замужем                 0      M   сотрудник     0        145885   \n",
       "3   женат / замужем                 0      M   сотрудник     0        267628   \n",
       "4  гражданский брак                 1      F   пенсионер     0        158616   \n",
       "\n",
       "                      purpose total_income_category          purpose_category  \n",
       "0               покупка жилья                     B  операции с недвижимостью  \n",
       "1     приобретение автомобиля                     C  операции с недвижимостью  \n",
       "2               покупка жилья                     C  операции с недвижимостью  \n",
       "3  дополнительное образование                     B  операции с недвижимостью  \n",
       "4             сыграть свадьбу                     C        проведение свадьбы  "
      ]
     },
     "execution_count": 299,
     "metadata": {},
     "output_type": "execute_result"
    }
   ],
   "source": [
    "# примените функцию методом apply\n",
    "data['purpose_category']=data.apply(categorize_purpose, axis=1)\n",
    "data.head()"
   ]
  }
 ],
 "metadata": {
  "ExecuteTimeLog": [
   {
    "duration": 437,
    "start_time": "2022-12-16T22:50:28.423Z"
   },
   {
    "duration": 330,
    "start_time": "2022-12-16T22:50:30.761Z"
   },
   {
    "duration": 23,
    "start_time": "2022-12-16T22:50:52.762Z"
   },
   {
    "duration": 16,
    "start_time": "2022-12-16T22:51:53.722Z"
   },
   {
    "duration": 33,
    "start_time": "2022-12-16T22:52:39.603Z"
   },
   {
    "duration": 52,
    "start_time": "2022-12-16T22:52:52.585Z"
   },
   {
    "duration": 41,
    "start_time": "2022-12-16T22:54:39.996Z"
   },
   {
    "duration": 41,
    "start_time": "2022-12-16T22:54:46.656Z"
   },
   {
    "duration": 11,
    "start_time": "2022-12-16T22:55:32.993Z"
   },
   {
    "duration": 4,
    "start_time": "2022-12-16T22:57:30.918Z"
   },
   {
    "duration": 17,
    "start_time": "2022-12-16T22:57:49.313Z"
   },
   {
    "duration": 4,
    "start_time": "2022-12-16T22:58:30.796Z"
   },
   {
    "duration": 65,
    "start_time": "2022-12-16T22:59:23.144Z"
   },
   {
    "duration": 7,
    "start_time": "2022-12-16T23:01:37.650Z"
   },
   {
    "duration": 8,
    "start_time": "2022-12-16T23:02:00.544Z"
   },
   {
    "duration": 8,
    "start_time": "2022-12-16T23:04:27.900Z"
   },
   {
    "duration": 3,
    "start_time": "2022-12-16T23:04:35.743Z"
   },
   {
    "duration": 73,
    "start_time": "2022-12-16T23:04:35.757Z"
   },
   {
    "duration": 16,
    "start_time": "2022-12-16T23:04:35.832Z"
   },
   {
    "duration": 19,
    "start_time": "2022-12-16T23:04:35.850Z"
   },
   {
    "duration": 10,
    "start_time": "2022-12-16T23:04:35.871Z"
   },
   {
    "duration": 26,
    "start_time": "2022-12-16T23:04:35.882Z"
   },
   {
    "duration": 16,
    "start_time": "2022-12-16T23:04:35.910Z"
   },
   {
    "duration": 10,
    "start_time": "2022-12-16T23:04:35.928Z"
   },
   {
    "duration": 18,
    "start_time": "2022-12-16T23:04:35.940Z"
   },
   {
    "duration": 12,
    "start_time": "2022-12-16T23:04:35.959Z"
   },
   {
    "duration": 18,
    "start_time": "2022-12-16T23:04:35.974Z"
   },
   {
    "duration": 26,
    "start_time": "2022-12-16T23:04:35.994Z"
   },
   {
    "duration": 18,
    "start_time": "2022-12-16T23:04:36.022Z"
   },
   {
    "duration": 14,
    "start_time": "2022-12-16T23:04:36.042Z"
   },
   {
    "duration": 25,
    "start_time": "2022-12-16T23:04:36.058Z"
   },
   {
    "duration": 17,
    "start_time": "2022-12-16T23:04:36.085Z"
   },
   {
    "duration": 14,
    "start_time": "2022-12-16T23:04:36.104Z"
   },
   {
    "duration": 8,
    "start_time": "2022-12-16T23:04:36.120Z"
   },
   {
    "duration": 9,
    "start_time": "2022-12-16T23:04:36.130Z"
   },
   {
    "duration": 9,
    "start_time": "2022-12-16T23:04:36.140Z"
   },
   {
    "duration": 11,
    "start_time": "2022-12-16T23:04:36.151Z"
   },
   {
    "duration": 10,
    "start_time": "2022-12-16T23:04:36.163Z"
   },
   {
    "duration": 17,
    "start_time": "2022-12-16T23:04:56.426Z"
   },
   {
    "duration": 16,
    "start_time": "2022-12-16T23:05:13.459Z"
   },
   {
    "duration": 25,
    "start_time": "2022-12-16T23:05:19.173Z"
   },
   {
    "duration": 12,
    "start_time": "2022-12-16T23:05:29.754Z"
   },
   {
    "duration": 4,
    "start_time": "2022-12-16T23:06:07.223Z"
   },
   {
    "duration": 9,
    "start_time": "2022-12-16T23:06:27.828Z"
   },
   {
    "duration": 8,
    "start_time": "2022-12-16T23:06:51.100Z"
   },
   {
    "duration": 2,
    "start_time": "2022-12-16T23:06:56.785Z"
   },
   {
    "duration": 73,
    "start_time": "2022-12-16T23:06:56.800Z"
   },
   {
    "duration": 15,
    "start_time": "2022-12-16T23:06:56.875Z"
   },
   {
    "duration": 18,
    "start_time": "2022-12-16T23:06:56.891Z"
   },
   {
    "duration": 29,
    "start_time": "2022-12-16T23:06:56.910Z"
   },
   {
    "duration": 9,
    "start_time": "2022-12-16T23:06:56.941Z"
   },
   {
    "duration": 2,
    "start_time": "2022-12-16T23:06:56.952Z"
   },
   {
    "duration": 17,
    "start_time": "2022-12-16T23:06:56.956Z"
   },
   {
    "duration": 11,
    "start_time": "2022-12-16T23:06:56.974Z"
   },
   {
    "duration": 18,
    "start_time": "2022-12-16T23:06:56.986Z"
   },
   {
    "duration": 14,
    "start_time": "2022-12-16T23:06:57.005Z"
   },
   {
    "duration": 14,
    "start_time": "2022-12-16T23:06:57.021Z"
   },
   {
    "duration": 22,
    "start_time": "2022-12-16T23:06:57.037Z"
   },
   {
    "duration": 10,
    "start_time": "2022-12-16T23:06:57.061Z"
   },
   {
    "duration": 6,
    "start_time": "2022-12-16T23:06:57.074Z"
   },
   {
    "duration": 5,
    "start_time": "2022-12-16T23:06:57.081Z"
   },
   {
    "duration": 6,
    "start_time": "2022-12-16T23:06:57.088Z"
   },
   {
    "duration": 5,
    "start_time": "2022-12-16T23:06:57.095Z"
   },
   {
    "duration": 12,
    "start_time": "2022-12-16T23:06:57.101Z"
   },
   {
    "duration": 12,
    "start_time": "2022-12-16T23:06:57.115Z"
   },
   {
    "duration": 22,
    "start_time": "2022-12-16T23:06:57.129Z"
   },
   {
    "duration": 5,
    "start_time": "2022-12-16T23:06:57.153Z"
   },
   {
    "duration": 8,
    "start_time": "2022-12-16T23:12:01.409Z"
   },
   {
    "duration": 2,
    "start_time": "2022-12-16T23:12:08.375Z"
   },
   {
    "duration": 80,
    "start_time": "2022-12-16T23:12:08.379Z"
   },
   {
    "duration": 15,
    "start_time": "2022-12-16T23:12:08.461Z"
   },
   {
    "duration": 18,
    "start_time": "2022-12-16T23:12:08.477Z"
   },
   {
    "duration": 10,
    "start_time": "2022-12-16T23:12:08.497Z"
   },
   {
    "duration": 41,
    "start_time": "2022-12-16T23:12:08.509Z"
   },
   {
    "duration": 3,
    "start_time": "2022-12-16T23:12:08.551Z"
   },
   {
    "duration": 11,
    "start_time": "2022-12-16T23:12:08.556Z"
   },
   {
    "duration": 30,
    "start_time": "2022-12-16T23:12:08.569Z"
   },
   {
    "duration": 9,
    "start_time": "2022-12-16T23:12:08.600Z"
   },
   {
    "duration": 23,
    "start_time": "2022-12-16T23:12:08.611Z"
   },
   {
    "duration": 13,
    "start_time": "2022-12-16T23:12:08.636Z"
   },
   {
    "duration": 23,
    "start_time": "2022-12-16T23:12:08.651Z"
   },
   {
    "duration": 13,
    "start_time": "2022-12-16T23:12:08.677Z"
   },
   {
    "duration": 10,
    "start_time": "2022-12-16T23:12:08.692Z"
   },
   {
    "duration": 15,
    "start_time": "2022-12-16T23:12:08.703Z"
   },
   {
    "duration": 9,
    "start_time": "2022-12-16T23:12:08.720Z"
   },
   {
    "duration": 12,
    "start_time": "2022-12-16T23:12:08.730Z"
   },
   {
    "duration": 10,
    "start_time": "2022-12-16T23:12:08.744Z"
   },
   {
    "duration": 21,
    "start_time": "2022-12-16T23:12:08.755Z"
   },
   {
    "duration": 35,
    "start_time": "2022-12-16T23:12:08.778Z"
   },
   {
    "duration": 18,
    "start_time": "2022-12-16T23:12:08.815Z"
   },
   {
    "duration": 4,
    "start_time": "2022-12-16T23:12:18.901Z"
   },
   {
    "duration": 19,
    "start_time": "2022-12-16T23:12:49.762Z"
   },
   {
    "duration": 5,
    "start_time": "2022-12-16T23:13:13.861Z"
   },
   {
    "duration": 8,
    "start_time": "2022-12-16T23:15:24.211Z"
   },
   {
    "duration": 4,
    "start_time": "2022-12-16T23:16:38.183Z"
   },
   {
    "duration": 0,
    "start_time": "2022-12-16T23:34:32.284Z"
   },
   {
    "duration": 54,
    "start_time": "2022-12-16T23:34:35.212Z"
   },
   {
    "duration": 7,
    "start_time": "2022-12-16T23:34:38.623Z"
   },
   {
    "duration": 23,
    "start_time": "2022-12-16T23:34:44.611Z"
   },
   {
    "duration": 17,
    "start_time": "2022-12-16T23:36:06.580Z"
   },
   {
    "duration": 13,
    "start_time": "2022-12-16T23:36:17.180Z"
   },
   {
    "duration": 16,
    "start_time": "2022-12-16T23:36:52.201Z"
   },
   {
    "duration": 16,
    "start_time": "2022-12-16T23:37:49.655Z"
   },
   {
    "duration": 9,
    "start_time": "2022-12-16T23:40:27.674Z"
   },
   {
    "duration": 21,
    "start_time": "2022-12-16T23:40:56.502Z"
   },
   {
    "duration": 36,
    "start_time": "2022-12-16T23:41:32.548Z"
   },
   {
    "duration": 28,
    "start_time": "2022-12-16T23:41:49.261Z"
   },
   {
    "duration": 30,
    "start_time": "2022-12-16T23:42:24.475Z"
   },
   {
    "duration": 30,
    "start_time": "2022-12-16T23:43:10.490Z"
   },
   {
    "duration": 20,
    "start_time": "2022-12-16T23:43:29.807Z"
   },
   {
    "duration": 20,
    "start_time": "2022-12-16T23:43:43.946Z"
   },
   {
    "duration": 22,
    "start_time": "2022-12-16T23:44:06.634Z"
   },
   {
    "duration": 19,
    "start_time": "2022-12-16T23:44:56.072Z"
   },
   {
    "duration": 15,
    "start_time": "2022-12-16T23:45:08.806Z"
   },
   {
    "duration": 9,
    "start_time": "2022-12-16T23:46:10.870Z"
   },
   {
    "duration": 5,
    "start_time": "2022-12-16T23:47:21.860Z"
   },
   {
    "duration": 6,
    "start_time": "2022-12-16T23:47:46.952Z"
   },
   {
    "duration": 45,
    "start_time": "2022-12-17T18:37:09.240Z"
   },
   {
    "duration": 382,
    "start_time": "2022-12-17T18:37:17.952Z"
   },
   {
    "duration": 146,
    "start_time": "2022-12-17T18:37:18.336Z"
   },
   {
    "duration": 22,
    "start_time": "2022-12-17T18:37:18.484Z"
   },
   {
    "duration": 22,
    "start_time": "2022-12-17T18:37:18.508Z"
   },
   {
    "duration": 34,
    "start_time": "2022-12-17T18:37:18.532Z"
   },
   {
    "duration": 21,
    "start_time": "2022-12-17T18:37:18.568Z"
   },
   {
    "duration": 19,
    "start_time": "2022-12-17T18:37:18.591Z"
   },
   {
    "duration": 12,
    "start_time": "2022-12-17T18:37:18.612Z"
   },
   {
    "duration": 14,
    "start_time": "2022-12-17T18:37:18.631Z"
   },
   {
    "duration": 6,
    "start_time": "2022-12-17T18:37:18.648Z"
   },
   {
    "duration": 5,
    "start_time": "2022-12-17T18:37:18.656Z"
   },
   {
    "duration": 22,
    "start_time": "2022-12-17T18:37:18.663Z"
   },
   {
    "duration": 15,
    "start_time": "2022-12-17T18:37:18.687Z"
   },
   {
    "duration": 35,
    "start_time": "2022-12-17T18:37:18.704Z"
   },
   {
    "duration": 6,
    "start_time": "2022-12-17T18:37:18.743Z"
   },
   {
    "duration": 8,
    "start_time": "2022-12-17T18:37:18.751Z"
   },
   {
    "duration": 9,
    "start_time": "2022-12-17T18:37:18.761Z"
   },
   {
    "duration": 6,
    "start_time": "2022-12-17T18:37:18.772Z"
   },
   {
    "duration": 8,
    "start_time": "2022-12-17T18:37:18.780Z"
   },
   {
    "duration": 5,
    "start_time": "2022-12-17T18:37:18.789Z"
   },
   {
    "duration": 5,
    "start_time": "2022-12-17T18:37:18.796Z"
   },
   {
    "duration": 5,
    "start_time": "2022-12-17T18:37:18.802Z"
   },
   {
    "duration": 78,
    "start_time": "2022-12-17T18:43:51.769Z"
   },
   {
    "duration": 11,
    "start_time": "2022-12-17T18:44:04.208Z"
   },
   {
    "duration": 11,
    "start_time": "2022-12-17T18:44:24.237Z"
   },
   {
    "duration": 1105,
    "start_time": "2022-12-17T18:46:51.239Z"
   },
   {
    "duration": 3,
    "start_time": "2022-12-17T18:47:05.976Z"
   },
   {
    "duration": 86,
    "start_time": "2022-12-17T18:47:05.983Z"
   },
   {
    "duration": 15,
    "start_time": "2022-12-17T18:47:06.071Z"
   },
   {
    "duration": 15,
    "start_time": "2022-12-17T18:47:06.088Z"
   },
   {
    "duration": 25,
    "start_time": "2022-12-17T18:47:06.105Z"
   },
   {
    "duration": 16,
    "start_time": "2022-12-17T18:47:06.131Z"
   },
   {
    "duration": 13,
    "start_time": "2022-12-17T18:47:06.149Z"
   },
   {
    "duration": 7,
    "start_time": "2022-12-17T18:47:06.163Z"
   },
   {
    "duration": 5,
    "start_time": "2022-12-17T18:47:06.171Z"
   },
   {
    "duration": 47,
    "start_time": "2022-12-17T18:47:06.178Z"
   },
   {
    "duration": 5,
    "start_time": "2022-12-17T18:47:06.227Z"
   },
   {
    "duration": 1090,
    "start_time": "2022-12-17T18:47:10.467Z"
   },
   {
    "duration": 3,
    "start_time": "2022-12-17T18:47:19.404Z"
   },
   {
    "duration": 77,
    "start_time": "2022-12-17T18:47:19.408Z"
   },
   {
    "duration": 16,
    "start_time": "2022-12-17T18:47:19.487Z"
   },
   {
    "duration": 22,
    "start_time": "2022-12-17T18:47:19.505Z"
   },
   {
    "duration": 13,
    "start_time": "2022-12-17T18:47:19.530Z"
   },
   {
    "duration": 24,
    "start_time": "2022-12-17T18:47:19.544Z"
   },
   {
    "duration": 17,
    "start_time": "2022-12-17T18:47:19.570Z"
   },
   {
    "duration": 34,
    "start_time": "2022-12-17T18:47:19.589Z"
   },
   {
    "duration": 9,
    "start_time": "2022-12-17T18:47:19.625Z"
   },
   {
    "duration": 8,
    "start_time": "2022-12-17T18:47:19.635Z"
   },
   {
    "duration": 8,
    "start_time": "2022-12-17T18:47:19.644Z"
   },
   {
    "duration": 1194,
    "start_time": "2022-12-17T18:47:19.653Z"
   },
   {
    "duration": 0,
    "start_time": "2022-12-17T18:47:20.849Z"
   },
   {
    "duration": 0,
    "start_time": "2022-12-17T18:47:20.851Z"
   },
   {
    "duration": 1,
    "start_time": "2022-12-17T18:47:20.852Z"
   },
   {
    "duration": 0,
    "start_time": "2022-12-17T18:47:20.854Z"
   },
   {
    "duration": 0,
    "start_time": "2022-12-17T18:47:20.855Z"
   },
   {
    "duration": 0,
    "start_time": "2022-12-17T18:47:20.856Z"
   },
   {
    "duration": 0,
    "start_time": "2022-12-17T18:47:20.858Z"
   },
   {
    "duration": 0,
    "start_time": "2022-12-17T18:47:20.859Z"
   },
   {
    "duration": 0,
    "start_time": "2022-12-17T18:47:20.861Z"
   },
   {
    "duration": 0,
    "start_time": "2022-12-17T18:47:20.862Z"
   },
   {
    "duration": 1098,
    "start_time": "2022-12-17T18:48:13.812Z"
   },
   {
    "duration": 11,
    "start_time": "2022-12-17T18:48:33.273Z"
   },
   {
    "duration": 11,
    "start_time": "2022-12-17T18:49:51.547Z"
   },
   {
    "duration": 67,
    "start_time": "2022-12-17T18:51:57.754Z"
   },
   {
    "duration": 10,
    "start_time": "2022-12-17T18:52:09.704Z"
   },
   {
    "duration": 6,
    "start_time": "2022-12-17T18:53:50.213Z"
   },
   {
    "duration": 7,
    "start_time": "2022-12-17T18:55:03.756Z"
   },
   {
    "duration": 10,
    "start_time": "2022-12-17T18:55:31.743Z"
   },
   {
    "duration": 5,
    "start_time": "2022-12-17T18:56:30.419Z"
   },
   {
    "duration": 13,
    "start_time": "2022-12-17T18:56:41.115Z"
   },
   {
    "duration": 11,
    "start_time": "2022-12-17T18:59:15.970Z"
   },
   {
    "duration": 74,
    "start_time": "2022-12-17T19:00:48.896Z"
   },
   {
    "duration": 10,
    "start_time": "2022-12-17T19:00:52.475Z"
   },
   {
    "duration": 13,
    "start_time": "2022-12-17T19:01:06.873Z"
   },
   {
    "duration": 7,
    "start_time": "2022-12-17T19:01:27.485Z"
   },
   {
    "duration": 69,
    "start_time": "2022-12-17T19:01:43.174Z"
   },
   {
    "duration": 71,
    "start_time": "2022-12-17T19:01:48.505Z"
   },
   {
    "duration": 14,
    "start_time": "2022-12-17T19:01:51.237Z"
   },
   {
    "duration": 11,
    "start_time": "2022-12-17T19:02:23.679Z"
   },
   {
    "duration": 11,
    "start_time": "2022-12-17T19:02:43.265Z"
   },
   {
    "duration": 10,
    "start_time": "2022-12-17T19:03:01.484Z"
   },
   {
    "duration": 10,
    "start_time": "2022-12-17T19:03:28.000Z"
   },
   {
    "duration": 3,
    "start_time": "2022-12-17T19:03:38.128Z"
   },
   {
    "duration": 86,
    "start_time": "2022-12-17T19:03:38.133Z"
   },
   {
    "duration": 16,
    "start_time": "2022-12-17T19:03:38.221Z"
   },
   {
    "duration": 15,
    "start_time": "2022-12-17T19:03:38.239Z"
   },
   {
    "duration": 13,
    "start_time": "2022-12-17T19:03:38.255Z"
   },
   {
    "duration": 17,
    "start_time": "2022-12-17T19:03:38.269Z"
   },
   {
    "duration": 35,
    "start_time": "2022-12-17T19:03:38.288Z"
   },
   {
    "duration": 13,
    "start_time": "2022-12-17T19:03:38.325Z"
   },
   {
    "duration": 4,
    "start_time": "2022-12-17T19:03:38.341Z"
   },
   {
    "duration": 9,
    "start_time": "2022-12-17T19:03:38.347Z"
   },
   {
    "duration": 7,
    "start_time": "2022-12-17T19:03:38.358Z"
   },
   {
    "duration": 12,
    "start_time": "2022-12-17T19:03:38.367Z"
   },
   {
    "duration": 10,
    "start_time": "2022-12-17T19:03:38.380Z"
   },
   {
    "duration": 42,
    "start_time": "2022-12-17T19:03:38.391Z"
   },
   {
    "duration": 12,
    "start_time": "2022-12-17T19:03:38.435Z"
   },
   {
    "duration": 7,
    "start_time": "2022-12-17T19:03:38.449Z"
   },
   {
    "duration": 7,
    "start_time": "2022-12-17T19:03:38.458Z"
   },
   {
    "duration": 6,
    "start_time": "2022-12-17T19:03:38.466Z"
   },
   {
    "duration": 11,
    "start_time": "2022-12-17T19:03:38.474Z"
   },
   {
    "duration": 8,
    "start_time": "2022-12-17T19:03:38.487Z"
   },
   {
    "duration": 9,
    "start_time": "2022-12-17T19:03:38.497Z"
   },
   {
    "duration": 11,
    "start_time": "2022-12-17T19:03:38.507Z"
   },
   {
    "duration": 12,
    "start_time": "2022-12-17T19:03:48.372Z"
   },
   {
    "duration": 8,
    "start_time": "2022-12-17T19:29:15.576Z"
   },
   {
    "duration": 8,
    "start_time": "2022-12-17T19:29:32.661Z"
   },
   {
    "duration": 3,
    "start_time": "2022-12-17T19:29:47.735Z"
   },
   {
    "duration": 68,
    "start_time": "2022-12-17T19:29:47.746Z"
   },
   {
    "duration": 23,
    "start_time": "2022-12-17T19:29:47.816Z"
   },
   {
    "duration": 19,
    "start_time": "2022-12-17T19:29:47.840Z"
   },
   {
    "duration": 9,
    "start_time": "2022-12-17T19:29:47.861Z"
   },
   {
    "duration": 17,
    "start_time": "2022-12-17T19:29:47.871Z"
   },
   {
    "duration": 12,
    "start_time": "2022-12-17T19:29:47.890Z"
   },
   {
    "duration": 16,
    "start_time": "2022-12-17T19:29:47.926Z"
   },
   {
    "duration": 4,
    "start_time": "2022-12-17T19:29:47.943Z"
   },
   {
    "duration": 8,
    "start_time": "2022-12-17T19:29:47.949Z"
   },
   {
    "duration": 5,
    "start_time": "2022-12-17T19:29:47.959Z"
   },
   {
    "duration": 9,
    "start_time": "2022-12-17T19:29:47.966Z"
   },
   {
    "duration": 10,
    "start_time": "2022-12-17T19:29:47.977Z"
   },
   {
    "duration": 39,
    "start_time": "2022-12-17T19:29:47.989Z"
   },
   {
    "duration": 14,
    "start_time": "2022-12-17T19:29:48.030Z"
   },
   {
    "duration": 10,
    "start_time": "2022-12-17T19:29:48.045Z"
   },
   {
    "duration": 0,
    "start_time": "2022-12-17T19:29:48.057Z"
   },
   {
    "duration": 0,
    "start_time": "2022-12-17T19:29:48.058Z"
   },
   {
    "duration": 0,
    "start_time": "2022-12-17T19:29:48.059Z"
   },
   {
    "duration": 0,
    "start_time": "2022-12-17T19:29:48.060Z"
   },
   {
    "duration": 0,
    "start_time": "2022-12-17T19:29:48.061Z"
   },
   {
    "duration": 0,
    "start_time": "2022-12-17T19:29:48.062Z"
   },
   {
    "duration": 8,
    "start_time": "2022-12-17T19:29:55.949Z"
   },
   {
    "duration": 9,
    "start_time": "2022-12-17T19:30:00.456Z"
   },
   {
    "duration": 8,
    "start_time": "2022-12-17T19:30:23.653Z"
   },
   {
    "duration": 7,
    "start_time": "2022-12-17T19:30:29.798Z"
   },
   {
    "duration": 20,
    "start_time": "2022-12-17T19:30:36.092Z"
   },
   {
    "duration": 41,
    "start_time": "2022-12-17T19:30:49.095Z"
   },
   {
    "duration": 34,
    "start_time": "2022-12-17T19:31:14.982Z"
   },
   {
    "duration": 32,
    "start_time": "2022-12-17T19:31:22.143Z"
   },
   {
    "duration": 20,
    "start_time": "2022-12-17T19:31:28.511Z"
   },
   {
    "duration": 34,
    "start_time": "2022-12-17T19:31:34.980Z"
   },
   {
    "duration": 27,
    "start_time": "2022-12-17T19:31:46.393Z"
   },
   {
    "duration": 29,
    "start_time": "2022-12-17T19:32:09.322Z"
   },
   {
    "duration": 3,
    "start_time": "2022-12-17T20:46:03.162Z"
   },
   {
    "duration": 102,
    "start_time": "2022-12-17T20:46:03.167Z"
   },
   {
    "duration": 15,
    "start_time": "2022-12-17T20:46:03.270Z"
   },
   {
    "duration": 33,
    "start_time": "2022-12-17T20:46:03.287Z"
   },
   {
    "duration": 33,
    "start_time": "2022-12-17T20:46:03.321Z"
   },
   {
    "duration": 33,
    "start_time": "2022-12-17T20:46:03.355Z"
   },
   {
    "duration": 26,
    "start_time": "2022-12-17T20:46:03.390Z"
   },
   {
    "duration": 31,
    "start_time": "2022-12-17T20:46:03.418Z"
   },
   {
    "duration": 27,
    "start_time": "2022-12-17T20:46:03.451Z"
   },
   {
    "duration": 22,
    "start_time": "2022-12-17T20:46:03.480Z"
   },
   {
    "duration": 38,
    "start_time": "2022-12-17T20:46:03.504Z"
   },
   {
    "duration": 25,
    "start_time": "2022-12-17T20:46:03.543Z"
   },
   {
    "duration": 22,
    "start_time": "2022-12-17T20:46:03.569Z"
   },
   {
    "duration": 29,
    "start_time": "2022-12-17T20:46:03.593Z"
   },
   {
    "duration": 43,
    "start_time": "2022-12-17T20:46:03.624Z"
   },
   {
    "duration": 41,
    "start_time": "2022-12-17T20:46:03.669Z"
   },
   {
    "duration": 40,
    "start_time": "2022-12-17T20:46:03.712Z"
   },
   {
    "duration": 15,
    "start_time": "2022-12-17T20:46:03.753Z"
   },
   {
    "duration": 41,
    "start_time": "2022-12-17T20:46:03.770Z"
   },
   {
    "duration": 42,
    "start_time": "2022-12-17T20:46:03.813Z"
   },
   {
    "duration": 54,
    "start_time": "2022-12-17T20:46:03.857Z"
   },
   {
    "duration": 60,
    "start_time": "2022-12-17T20:46:03.913Z"
   },
   {
    "duration": 10,
    "start_time": "2022-12-17T20:57:48.956Z"
   },
   {
    "duration": 11,
    "start_time": "2022-12-17T20:59:01.304Z"
   },
   {
    "duration": 10,
    "start_time": "2022-12-17T20:59:42.648Z"
   },
   {
    "duration": 1206,
    "start_time": "2022-12-17T21:02:27.568Z"
   },
   {
    "duration": 6,
    "start_time": "2022-12-17T21:03:34.109Z"
   },
   {
    "duration": 1225,
    "start_time": "2022-12-17T21:03:38.140Z"
   },
   {
    "duration": 3,
    "start_time": "2022-12-17T21:04:16.258Z"
   },
   {
    "duration": 134,
    "start_time": "2022-12-17T21:04:18.880Z"
   },
   {
    "duration": 10,
    "start_time": "2022-12-17T21:04:29.890Z"
   },
   {
    "duration": 3,
    "start_time": "2022-12-17T21:04:38.098Z"
   },
   {
    "duration": 85,
    "start_time": "2022-12-17T21:04:38.103Z"
   },
   {
    "duration": 19,
    "start_time": "2022-12-17T21:04:38.190Z"
   },
   {
    "duration": 18,
    "start_time": "2022-12-17T21:04:38.211Z"
   },
   {
    "duration": 10,
    "start_time": "2022-12-17T21:04:38.231Z"
   },
   {
    "duration": 16,
    "start_time": "2022-12-17T21:04:38.242Z"
   },
   {
    "duration": 13,
    "start_time": "2022-12-17T21:04:38.260Z"
   },
   {
    "duration": 15,
    "start_time": "2022-12-17T21:04:38.274Z"
   },
   {
    "duration": 5,
    "start_time": "2022-12-17T21:04:38.321Z"
   },
   {
    "duration": 10,
    "start_time": "2022-12-17T21:04:38.327Z"
   },
   {
    "duration": 5,
    "start_time": "2022-12-17T21:04:38.338Z"
   },
   {
    "duration": 9,
    "start_time": "2022-12-17T21:04:38.344Z"
   },
   {
    "duration": 15,
    "start_time": "2022-12-17T21:04:38.354Z"
   },
   {
    "duration": 16,
    "start_time": "2022-12-17T21:04:38.372Z"
   },
   {
    "duration": 39,
    "start_time": "2022-12-17T21:04:38.389Z"
   },
   {
    "duration": 25,
    "start_time": "2022-12-17T21:04:38.430Z"
   },
   {
    "duration": 18,
    "start_time": "2022-12-17T21:04:38.456Z"
   },
   {
    "duration": 4,
    "start_time": "2022-12-17T21:04:38.476Z"
   },
   {
    "duration": 143,
    "start_time": "2022-12-17T21:04:38.482Z"
   },
   {
    "duration": 2,
    "start_time": "2022-12-17T21:04:38.627Z"
   },
   {
    "duration": 6,
    "start_time": "2022-12-17T21:04:38.631Z"
   },
   {
    "duration": 7,
    "start_time": "2022-12-17T21:04:38.638Z"
   },
   {
    "duration": 139,
    "start_time": "2022-12-17T21:04:57.498Z"
   },
   {
    "duration": 4,
    "start_time": "2022-12-17T21:07:36.648Z"
   },
   {
    "duration": 4,
    "start_time": "2022-12-17T21:07:40.463Z"
   },
   {
    "duration": 192,
    "start_time": "2022-12-17T21:07:42.068Z"
   },
   {
    "duration": 13,
    "start_time": "2022-12-17T21:07:54.204Z"
   },
   {
    "duration": 13,
    "start_time": "2022-12-17T21:08:04.159Z"
   },
   {
    "duration": 4,
    "start_time": "2022-12-17T21:10:11.991Z"
   },
   {
    "duration": 4,
    "start_time": "2022-12-17T21:10:12.179Z"
   },
   {
    "duration": 183,
    "start_time": "2022-12-17T21:10:15.033Z"
   },
   {
    "duration": 184,
    "start_time": "2022-12-17T21:11:46.743Z"
   },
   {
    "duration": 318,
    "start_time": "2022-12-17T21:12:51.712Z"
   },
   {
    "duration": 290,
    "start_time": "2022-12-17T21:13:11.281Z"
   },
   {
    "duration": 2,
    "start_time": "2022-12-17T21:13:33.040Z"
   },
   {
    "duration": 71,
    "start_time": "2022-12-17T21:13:33.044Z"
   },
   {
    "duration": 24,
    "start_time": "2022-12-17T21:13:33.117Z"
   },
   {
    "duration": 16,
    "start_time": "2022-12-17T21:13:33.143Z"
   },
   {
    "duration": 8,
    "start_time": "2022-12-17T21:13:33.162Z"
   },
   {
    "duration": 18,
    "start_time": "2022-12-17T21:13:33.171Z"
   },
   {
    "duration": 35,
    "start_time": "2022-12-17T21:13:33.191Z"
   },
   {
    "duration": 24,
    "start_time": "2022-12-17T21:13:33.227Z"
   },
   {
    "duration": 9,
    "start_time": "2022-12-17T21:13:33.253Z"
   },
   {
    "duration": 10,
    "start_time": "2022-12-17T21:13:33.263Z"
   },
   {
    "duration": 9,
    "start_time": "2022-12-17T21:13:33.274Z"
   },
   {
    "duration": 10,
    "start_time": "2022-12-17T21:13:33.284Z"
   },
   {
    "duration": 10,
    "start_time": "2022-12-17T21:13:33.295Z"
   },
   {
    "duration": 27,
    "start_time": "2022-12-17T21:13:33.307Z"
   },
   {
    "duration": 11,
    "start_time": "2022-12-17T21:13:33.336Z"
   },
   {
    "duration": 21,
    "start_time": "2022-12-17T21:13:33.348Z"
   },
   {
    "duration": 16,
    "start_time": "2022-12-17T21:13:33.370Z"
   },
   {
    "duration": 4,
    "start_time": "2022-12-17T21:13:33.387Z"
   },
   {
    "duration": 294,
    "start_time": "2022-12-17T21:13:33.392Z"
   },
   {
    "duration": 0,
    "start_time": "2022-12-17T21:13:33.687Z"
   },
   {
    "duration": 0,
    "start_time": "2022-12-17T21:13:33.689Z"
   },
   {
    "duration": 0,
    "start_time": "2022-12-17T21:13:33.690Z"
   },
   {
    "duration": 4,
    "start_time": "2022-12-17T21:16:51.778Z"
   },
   {
    "duration": 887,
    "start_time": "2022-12-17T21:17:01.510Z"
   },
   {
    "duration": 4,
    "start_time": "2022-12-17T21:17:04.291Z"
   },
   {
    "duration": 4,
    "start_time": "2022-12-17T21:24:33.240Z"
   },
   {
    "duration": 3,
    "start_time": "2022-12-17T21:24:39.737Z"
   },
   {
    "duration": 44,
    "start_time": "2022-12-17T21:25:02.938Z"
   },
   {
    "duration": 6,
    "start_time": "2022-12-17T21:25:26.571Z"
   },
   {
    "duration": 5,
    "start_time": "2022-12-17T22:14:11.255Z"
   },
   {
    "duration": 7,
    "start_time": "2022-12-17T22:27:54.878Z"
   },
   {
    "duration": 3,
    "start_time": "2022-12-17T22:28:48.523Z"
   },
   {
    "duration": 15,
    "start_time": "2022-12-17T22:30:21.082Z"
   },
   {
    "duration": 3,
    "start_time": "2022-12-17T22:31:49.436Z"
   },
   {
    "duration": 3,
    "start_time": "2022-12-17T22:35:21.158Z"
   },
   {
    "duration": 72,
    "start_time": "2022-12-17T22:35:21.163Z"
   },
   {
    "duration": 20,
    "start_time": "2022-12-17T22:35:21.237Z"
   },
   {
    "duration": 21,
    "start_time": "2022-12-17T22:35:21.259Z"
   },
   {
    "duration": 13,
    "start_time": "2022-12-17T22:35:21.283Z"
   },
   {
    "duration": 35,
    "start_time": "2022-12-17T22:35:21.297Z"
   },
   {
    "duration": 17,
    "start_time": "2022-12-17T22:35:21.334Z"
   },
   {
    "duration": 12,
    "start_time": "2022-12-17T22:35:21.353Z"
   },
   {
    "duration": 4,
    "start_time": "2022-12-17T22:35:21.367Z"
   },
   {
    "duration": 6,
    "start_time": "2022-12-17T22:35:21.372Z"
   },
   {
    "duration": 5,
    "start_time": "2022-12-17T22:35:21.380Z"
   },
   {
    "duration": 8,
    "start_time": "2022-12-17T22:35:21.386Z"
   },
   {
    "duration": 10,
    "start_time": "2022-12-17T22:35:21.421Z"
   },
   {
    "duration": 21,
    "start_time": "2022-12-17T22:35:21.433Z"
   },
   {
    "duration": 12,
    "start_time": "2022-12-17T22:35:21.456Z"
   },
   {
    "duration": 22,
    "start_time": "2022-12-17T22:35:21.469Z"
   },
   {
    "duration": 39,
    "start_time": "2022-12-17T22:35:21.492Z"
   },
   {
    "duration": 5,
    "start_time": "2022-12-17T22:35:21.533Z"
   },
   {
    "duration": 172,
    "start_time": "2022-12-17T22:35:21.540Z"
   },
   {
    "duration": 10,
    "start_time": "2022-12-17T22:35:21.714Z"
   },
   {
    "duration": 4,
    "start_time": "2022-12-17T22:35:21.725Z"
   },
   {
    "duration": 162,
    "start_time": "2022-12-17T22:35:21.731Z"
   },
   {
    "duration": 292,
    "start_time": "2022-12-17T22:35:56.198Z"
   },
   {
    "duration": 138,
    "start_time": "2022-12-17T22:41:19.892Z"
   }
  ],
  "colab": {
   "provenance": []
  },
  "kernelspec": {
   "display_name": "Python 3 (ipykernel)",
   "language": "python",
   "name": "python3"
  },
  "language_info": {
   "codemirror_mode": {
    "name": "ipython",
    "version": 3
   },
   "file_extension": ".py",
   "mimetype": "text/x-python",
   "name": "python",
   "nbconvert_exporter": "python",
   "pygments_lexer": "ipython3",
   "version": "3.9.5"
  },
  "toc": {
   "base_numbering": 1,
   "nav_menu": {},
   "number_sections": true,
   "sideBar": true,
   "skip_h1_title": true,
   "title_cell": "Table of Contents",
   "title_sidebar": "Contents",
   "toc_cell": false,
   "toc_position": {},
   "toc_section_display": true,
   "toc_window_display": false
  }
 },
 "nbformat": 4,
 "nbformat_minor": 5
}
