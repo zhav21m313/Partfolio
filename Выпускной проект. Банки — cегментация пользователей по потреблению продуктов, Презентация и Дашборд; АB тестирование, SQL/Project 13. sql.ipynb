{
 "cells": [
  {
   "cell_type": "markdown",
   "id": "28b4ede4",
   "metadata": {},
   "source": [
    "# Анализ базы данных"
   ]
  },
  {
   "cell_type": "markdown",
   "id": "7bbb7110",
   "metadata": {},
   "source": [
    "**Постановка цели:**\n",
    "* проанализировать базу данных, связанную с крупным сервисом для чтения книг по подписке"
   ]
  },
  {
   "cell_type": "markdown",
   "id": "02088ea5",
   "metadata": {},
   "source": [
    "**Постановка плана работы:**\n",
    "* выгрузить данные\n",
    "* выполненить поставленные задачи\n",
    "* составить общий вывод"
   ]
  },
  {
   "cell_type": "markdown",
   "id": "e26927a6",
   "metadata": {},
   "source": [
    "**Описание данных:**\n",
    "\n",
    "таблица books - данные о книгах:\n",
    "\n",
    "* book_id — идентификатор книги\n",
    "* author_id — идентификатор автора\n",
    "* title — название книги\n",
    "* num_pages — количество страниц\n",
    "* publication_date — дата публикации книги\n",
    "* publisher_id — идентификатор издателя\n",
    "\n",
    "таблица authors -  данные об авторах:\n",
    "\n",
    "* author_id — идентификатор автора\n",
    "* author — имя автора\n",
    "\n",
    "таблица publishers - данные об издательствах:\n",
    "\n",
    "* publisher_id — идентификатор издательства\n",
    "* publisher — название издательства\n",
    "\n",
    "таблица ratings - данные о пользовательских оценках книг:\n",
    "\n",
    "* rating_id — идентификатор оценки\n",
    "* book_id — идентификатор книги\n",
    "* username — имя пользователя, оставившего оценку\n",
    "* rating — оценка книги\n",
    "\n",
    "таблица reviews - данные о пользовательских обзорах на книги:\n",
    "\n",
    "* review_id — идентификатор обзора\n",
    "* book_id — идентификатор книги\n",
    "* username — имя пользователя, написавшего обзор\n",
    "* text — текст обзора"
   ]
  },
  {
   "cell_type": "markdown",
   "id": "db179bc1",
   "metadata": {},
   "source": [
    "**Постановка задач, которые необходимо выполнить:**\n",
    "* Посчитать, сколько книг вышло после 1 января 2000 года\n",
    "* Для каждой книги посчитать количество обзоров и среднюю оценку\n",
    "* Определить издательство, которое выпустило наибольшее число книг толще 50 страниц — так мы исключим из анализа брошюры\n",
    "* Определить автора с самой высокой средней оценкой книг — учитывать только книги с 50 и более оценками\n",
    "* Посчитать среднее количество обзоров от пользователей, которые поставили больше 48 оценок"
   ]
  },
  {
   "cell_type": "markdown",
   "id": "88172ad3",
   "metadata": {},
   "source": [
    "# Выгрузка данных "
   ]
  },
  {
   "cell_type": "code",
   "execution_count": 2,
   "id": "4ba4a8a1",
   "metadata": {},
   "outputs": [],
   "source": [
    "import pandas as pd\n",
    "from sqlalchemy import create_engine"
   ]
  },
  {
   "cell_type": "code",
   "execution_count": 3,
   "id": "f4e78098",
   "metadata": {},
   "outputs": [],
   "source": [
    "db_config = {'user': 'praktikum_student', \n",
    "'pwd': 'Sdf4$2;d-d30pp',\n",
    "'host': 'rc1b-wcoijxj3yxfsf3fs.mdb.yandexcloud.net',\n",
    "'port': 6432, \n",
    "'db': 'data-analyst-final-project-db'} \n",
    "connection_string = 'postgresql://{}:{}@{}:{}/{}'.format(db_config['user'],\n",
    "db_config['pwd'],\n",
    "db_config['host'],\n",
    "db_config['port'],\n",
    "db_config['db'])\n",
    "\n",
    "engine = create_engine(connection_string, connect_args={'sslmode':'require'})"
   ]
  },
  {
   "cell_type": "code",
   "execution_count": 4,
   "id": "554adc98",
   "metadata": {
    "scrolled": true
   },
   "outputs": [
    {
     "data": {
      "text/html": [
       "<div>\n",
       "<style scoped>\n",
       "    .dataframe tbody tr th:only-of-type {\n",
       "        vertical-align: middle;\n",
       "    }\n",
       "\n",
       "    .dataframe tbody tr th {\n",
       "        vertical-align: top;\n",
       "    }\n",
       "\n",
       "    .dataframe thead th {\n",
       "        text-align: right;\n",
       "    }\n",
       "</style>\n",
       "<table border=\"1\" class=\"dataframe\">\n",
       "  <thead>\n",
       "    <tr style=\"text-align: right;\">\n",
       "      <th></th>\n",
       "      <th>book_id</th>\n",
       "      <th>author_id</th>\n",
       "      <th>title</th>\n",
       "      <th>num_pages</th>\n",
       "      <th>publication_date</th>\n",
       "      <th>publisher_id</th>\n",
       "    </tr>\n",
       "  </thead>\n",
       "  <tbody>\n",
       "    <tr>\n",
       "      <th>0</th>\n",
       "      <td>1</td>\n",
       "      <td>546</td>\n",
       "      <td>'Salem's Lot</td>\n",
       "      <td>594</td>\n",
       "      <td>2005-11-01</td>\n",
       "      <td>93</td>\n",
       "    </tr>\n",
       "    <tr>\n",
       "      <th>1</th>\n",
       "      <td>2</td>\n",
       "      <td>465</td>\n",
       "      <td>1 000 Places to See Before You Die</td>\n",
       "      <td>992</td>\n",
       "      <td>2003-05-22</td>\n",
       "      <td>336</td>\n",
       "    </tr>\n",
       "    <tr>\n",
       "      <th>2</th>\n",
       "      <td>3</td>\n",
       "      <td>407</td>\n",
       "      <td>13 Little Blue Envelopes (Little Blue Envelope...</td>\n",
       "      <td>322</td>\n",
       "      <td>2010-12-21</td>\n",
       "      <td>135</td>\n",
       "    </tr>\n",
       "    <tr>\n",
       "      <th>3</th>\n",
       "      <td>4</td>\n",
       "      <td>82</td>\n",
       "      <td>1491: New Revelations of the Americas Before C...</td>\n",
       "      <td>541</td>\n",
       "      <td>2006-10-10</td>\n",
       "      <td>309</td>\n",
       "    </tr>\n",
       "    <tr>\n",
       "      <th>4</th>\n",
       "      <td>5</td>\n",
       "      <td>125</td>\n",
       "      <td>1776</td>\n",
       "      <td>386</td>\n",
       "      <td>2006-07-04</td>\n",
       "      <td>268</td>\n",
       "    </tr>\n",
       "  </tbody>\n",
       "</table>\n",
       "</div>"
      ],
      "text/plain": [
       "   book_id  author_id                                              title  \\\n",
       "0        1        546                                       'Salem's Lot   \n",
       "1        2        465                 1 000 Places to See Before You Die   \n",
       "2        3        407  13 Little Blue Envelopes (Little Blue Envelope...   \n",
       "3        4         82  1491: New Revelations of the Americas Before C...   \n",
       "4        5        125                                               1776   \n",
       "\n",
       "   num_pages publication_date  publisher_id  \n",
       "0        594       2005-11-01            93  \n",
       "1        992       2003-05-22           336  \n",
       "2        322       2010-12-21           135  \n",
       "3        541       2006-10-10           309  \n",
       "4        386       2006-07-04           268  "
      ]
     },
     "execution_count": 4,
     "metadata": {},
     "output_type": "execute_result"
    }
   ],
   "source": [
    "query = ''' SELECT *\n",
    "            FROM books\n",
    "            LIMIT 5\n",
    "        '''\n",
    "pd.io.sql.read_sql(query, con = engine)"
   ]
  },
  {
   "cell_type": "code",
   "execution_count": 5,
   "id": "58e06867",
   "metadata": {},
   "outputs": [
    {
     "data": {
      "text/html": [
       "<div>\n",
       "<style scoped>\n",
       "    .dataframe tbody tr th:only-of-type {\n",
       "        vertical-align: middle;\n",
       "    }\n",
       "\n",
       "    .dataframe tbody tr th {\n",
       "        vertical-align: top;\n",
       "    }\n",
       "\n",
       "    .dataframe thead th {\n",
       "        text-align: right;\n",
       "    }\n",
       "</style>\n",
       "<table border=\"1\" class=\"dataframe\">\n",
       "  <thead>\n",
       "    <tr style=\"text-align: right;\">\n",
       "      <th></th>\n",
       "      <th>author_id</th>\n",
       "      <th>author</th>\n",
       "    </tr>\n",
       "  </thead>\n",
       "  <tbody>\n",
       "    <tr>\n",
       "      <th>0</th>\n",
       "      <td>1</td>\n",
       "      <td>A.S. Byatt</td>\n",
       "    </tr>\n",
       "    <tr>\n",
       "      <th>1</th>\n",
       "      <td>2</td>\n",
       "      <td>Aesop/Laura Harris/Laura Gibbs</td>\n",
       "    </tr>\n",
       "    <tr>\n",
       "      <th>2</th>\n",
       "      <td>3</td>\n",
       "      <td>Agatha Christie</td>\n",
       "    </tr>\n",
       "    <tr>\n",
       "      <th>3</th>\n",
       "      <td>4</td>\n",
       "      <td>Alan Brennert</td>\n",
       "    </tr>\n",
       "    <tr>\n",
       "      <th>4</th>\n",
       "      <td>5</td>\n",
       "      <td>Alan Moore/David   Lloyd</td>\n",
       "    </tr>\n",
       "  </tbody>\n",
       "</table>\n",
       "</div>"
      ],
      "text/plain": [
       "   author_id                          author\n",
       "0          1                      A.S. Byatt\n",
       "1          2  Aesop/Laura Harris/Laura Gibbs\n",
       "2          3                 Agatha Christie\n",
       "3          4                   Alan Brennert\n",
       "4          5        Alan Moore/David   Lloyd"
      ]
     },
     "execution_count": 5,
     "metadata": {},
     "output_type": "execute_result"
    }
   ],
   "source": [
    "query = ''' SELECT *\n",
    "            FROM authors\n",
    "            LIMIT 5\n",
    "        '''\n",
    "pd.io.sql.read_sql(query, con = engine)"
   ]
  },
  {
   "cell_type": "code",
   "execution_count": 6,
   "id": "61c9f8a1",
   "metadata": {},
   "outputs": [
    {
     "data": {
      "text/html": [
       "<div>\n",
       "<style scoped>\n",
       "    .dataframe tbody tr th:only-of-type {\n",
       "        vertical-align: middle;\n",
       "    }\n",
       "\n",
       "    .dataframe tbody tr th {\n",
       "        vertical-align: top;\n",
       "    }\n",
       "\n",
       "    .dataframe thead th {\n",
       "        text-align: right;\n",
       "    }\n",
       "</style>\n",
       "<table border=\"1\" class=\"dataframe\">\n",
       "  <thead>\n",
       "    <tr style=\"text-align: right;\">\n",
       "      <th></th>\n",
       "      <th>publisher_id</th>\n",
       "      <th>publisher</th>\n",
       "    </tr>\n",
       "  </thead>\n",
       "  <tbody>\n",
       "    <tr>\n",
       "      <th>0</th>\n",
       "      <td>1</td>\n",
       "      <td>Ace</td>\n",
       "    </tr>\n",
       "    <tr>\n",
       "      <th>1</th>\n",
       "      <td>2</td>\n",
       "      <td>Ace Book</td>\n",
       "    </tr>\n",
       "    <tr>\n",
       "      <th>2</th>\n",
       "      <td>3</td>\n",
       "      <td>Ace Books</td>\n",
       "    </tr>\n",
       "    <tr>\n",
       "      <th>3</th>\n",
       "      <td>4</td>\n",
       "      <td>Ace Hardcover</td>\n",
       "    </tr>\n",
       "    <tr>\n",
       "      <th>4</th>\n",
       "      <td>5</td>\n",
       "      <td>Addison Wesley Publishing Company</td>\n",
       "    </tr>\n",
       "  </tbody>\n",
       "</table>\n",
       "</div>"
      ],
      "text/plain": [
       "   publisher_id                          publisher\n",
       "0             1                                Ace\n",
       "1             2                           Ace Book\n",
       "2             3                          Ace Books\n",
       "3             4                      Ace Hardcover\n",
       "4             5  Addison Wesley Publishing Company"
      ]
     },
     "execution_count": 6,
     "metadata": {},
     "output_type": "execute_result"
    }
   ],
   "source": [
    "query = ''' SELECT *\n",
    "            FROM publishers\n",
    "            LIMIT 5\n",
    "        '''\n",
    "pd.io.sql.read_sql(query, con = engine)"
   ]
  },
  {
   "cell_type": "code",
   "execution_count": 7,
   "id": "0e100241",
   "metadata": {},
   "outputs": [
    {
     "data": {
      "text/html": [
       "<div>\n",
       "<style scoped>\n",
       "    .dataframe tbody tr th:only-of-type {\n",
       "        vertical-align: middle;\n",
       "    }\n",
       "\n",
       "    .dataframe tbody tr th {\n",
       "        vertical-align: top;\n",
       "    }\n",
       "\n",
       "    .dataframe thead th {\n",
       "        text-align: right;\n",
       "    }\n",
       "</style>\n",
       "<table border=\"1\" class=\"dataframe\">\n",
       "  <thead>\n",
       "    <tr style=\"text-align: right;\">\n",
       "      <th></th>\n",
       "      <th>rating_id</th>\n",
       "      <th>book_id</th>\n",
       "      <th>username</th>\n",
       "      <th>rating</th>\n",
       "    </tr>\n",
       "  </thead>\n",
       "  <tbody>\n",
       "    <tr>\n",
       "      <th>0</th>\n",
       "      <td>1</td>\n",
       "      <td>1</td>\n",
       "      <td>ryanfranco</td>\n",
       "      <td>4</td>\n",
       "    </tr>\n",
       "    <tr>\n",
       "      <th>1</th>\n",
       "      <td>2</td>\n",
       "      <td>1</td>\n",
       "      <td>grantpatricia</td>\n",
       "      <td>2</td>\n",
       "    </tr>\n",
       "    <tr>\n",
       "      <th>2</th>\n",
       "      <td>3</td>\n",
       "      <td>1</td>\n",
       "      <td>brandtandrea</td>\n",
       "      <td>5</td>\n",
       "    </tr>\n",
       "    <tr>\n",
       "      <th>3</th>\n",
       "      <td>4</td>\n",
       "      <td>2</td>\n",
       "      <td>lorichen</td>\n",
       "      <td>3</td>\n",
       "    </tr>\n",
       "    <tr>\n",
       "      <th>4</th>\n",
       "      <td>5</td>\n",
       "      <td>2</td>\n",
       "      <td>mariokeller</td>\n",
       "      <td>2</td>\n",
       "    </tr>\n",
       "  </tbody>\n",
       "</table>\n",
       "</div>"
      ],
      "text/plain": [
       "   rating_id  book_id       username  rating\n",
       "0          1        1     ryanfranco       4\n",
       "1          2        1  grantpatricia       2\n",
       "2          3        1   brandtandrea       5\n",
       "3          4        2       lorichen       3\n",
       "4          5        2    mariokeller       2"
      ]
     },
     "execution_count": 7,
     "metadata": {},
     "output_type": "execute_result"
    }
   ],
   "source": [
    "query = ''' SELECT *\n",
    "            FROM ratings\n",
    "            LIMIT 5\n",
    "        '''\n",
    "pd.io.sql.read_sql(query, con = engine)"
   ]
  },
  {
   "cell_type": "code",
   "execution_count": 8,
   "id": "78ab1a1c",
   "metadata": {
    "scrolled": true
   },
   "outputs": [
    {
     "data": {
      "text/html": [
       "<div>\n",
       "<style scoped>\n",
       "    .dataframe tbody tr th:only-of-type {\n",
       "        vertical-align: middle;\n",
       "    }\n",
       "\n",
       "    .dataframe tbody tr th {\n",
       "        vertical-align: top;\n",
       "    }\n",
       "\n",
       "    .dataframe thead th {\n",
       "        text-align: right;\n",
       "    }\n",
       "</style>\n",
       "<table border=\"1\" class=\"dataframe\">\n",
       "  <thead>\n",
       "    <tr style=\"text-align: right;\">\n",
       "      <th></th>\n",
       "      <th>review_id</th>\n",
       "      <th>book_id</th>\n",
       "      <th>username</th>\n",
       "      <th>text</th>\n",
       "    </tr>\n",
       "  </thead>\n",
       "  <tbody>\n",
       "    <tr>\n",
       "      <th>0</th>\n",
       "      <td>1</td>\n",
       "      <td>1</td>\n",
       "      <td>brandtandrea</td>\n",
       "      <td>Mention society tell send professor analysis. ...</td>\n",
       "    </tr>\n",
       "    <tr>\n",
       "      <th>1</th>\n",
       "      <td>2</td>\n",
       "      <td>1</td>\n",
       "      <td>ryanfranco</td>\n",
       "      <td>Foot glass pretty audience hit themselves. Amo...</td>\n",
       "    </tr>\n",
       "    <tr>\n",
       "      <th>2</th>\n",
       "      <td>3</td>\n",
       "      <td>2</td>\n",
       "      <td>lorichen</td>\n",
       "      <td>Listen treat keep worry. Miss husband tax but ...</td>\n",
       "    </tr>\n",
       "    <tr>\n",
       "      <th>3</th>\n",
       "      <td>4</td>\n",
       "      <td>3</td>\n",
       "      <td>johnsonamanda</td>\n",
       "      <td>Finally month interesting blue could nature cu...</td>\n",
       "    </tr>\n",
       "    <tr>\n",
       "      <th>4</th>\n",
       "      <td>5</td>\n",
       "      <td>3</td>\n",
       "      <td>scotttamara</td>\n",
       "      <td>Nation purpose heavy give wait song will. List...</td>\n",
       "    </tr>\n",
       "  </tbody>\n",
       "</table>\n",
       "</div>"
      ],
      "text/plain": [
       "   review_id  book_id       username  \\\n",
       "0          1        1   brandtandrea   \n",
       "1          2        1     ryanfranco   \n",
       "2          3        2       lorichen   \n",
       "3          4        3  johnsonamanda   \n",
       "4          5        3    scotttamara   \n",
       "\n",
       "                                                text  \n",
       "0  Mention society tell send professor analysis. ...  \n",
       "1  Foot glass pretty audience hit themselves. Amo...  \n",
       "2  Listen treat keep worry. Miss husband tax but ...  \n",
       "3  Finally month interesting blue could nature cu...  \n",
       "4  Nation purpose heavy give wait song will. List...  "
      ]
     },
     "execution_count": 8,
     "metadata": {},
     "output_type": "execute_result"
    }
   ],
   "source": [
    "query = ''' SELECT *\n",
    "            FROM reviews\n",
    "            LIMIT 5\n",
    "        '''\n",
    "pd.io.sql.read_sql(query, con = engine)"
   ]
  },
  {
   "cell_type": "markdown",
   "id": "bb241c1f",
   "metadata": {},
   "source": [
    "# Выполнение заданий"
   ]
  },
  {
   "cell_type": "markdown",
   "id": "82166fef",
   "metadata": {},
   "source": [
    "## Задача 1. Посчитать, сколько книг вышло после 1 января 2000 года"
   ]
  },
  {
   "cell_type": "code",
   "execution_count": 9,
   "id": "04dd3701",
   "metadata": {},
   "outputs": [
    {
     "data": {
      "text/html": [
       "<div>\n",
       "<style scoped>\n",
       "    .dataframe tbody tr th:only-of-type {\n",
       "        vertical-align: middle;\n",
       "    }\n",
       "\n",
       "    .dataframe tbody tr th {\n",
       "        vertical-align: top;\n",
       "    }\n",
       "\n",
       "    .dataframe thead th {\n",
       "        text-align: right;\n",
       "    }\n",
       "</style>\n",
       "<table border=\"1\" class=\"dataframe\">\n",
       "  <thead>\n",
       "    <tr style=\"text-align: right;\">\n",
       "      <th></th>\n",
       "      <th>count</th>\n",
       "    </tr>\n",
       "  </thead>\n",
       "  <tbody>\n",
       "    <tr>\n",
       "      <th>0</th>\n",
       "      <td>819</td>\n",
       "    </tr>\n",
       "  </tbody>\n",
       "</table>\n",
       "</div>"
      ],
      "text/plain": [
       "   count\n",
       "0    819"
      ]
     },
     "execution_count": 9,
     "metadata": {},
     "output_type": "execute_result"
    }
   ],
   "source": [
    "query = '''\n",
    "    SELECT COUNT(book_id)\n",
    "    FROM books\n",
    "    WHERE publication_date > '2000-01-01'\n",
    "    '''\n",
    "pd.io.sql.read_sql(query, con = engine)"
   ]
  },
  {
   "cell_type": "markdown",
   "id": "f45adffe",
   "metadata": {},
   "source": [
    "**Вывод:**\n",
    "* значит 819 книг вышло после 1 января 2000 года"
   ]
  },
  {
   "cell_type": "markdown",
   "id": "2b2380fe",
   "metadata": {},
   "source": [
    "## Задача 2. Для каждой книги посчитать количество обзоров и среднюю оценку"
   ]
  },
  {
   "cell_type": "code",
   "execution_count": 10,
   "id": "df283912",
   "metadata": {},
   "outputs": [
    {
     "data": {
      "text/html": [
       "<div>\n",
       "<style scoped>\n",
       "    .dataframe tbody tr th:only-of-type {\n",
       "        vertical-align: middle;\n",
       "    }\n",
       "\n",
       "    .dataframe tbody tr th {\n",
       "        vertical-align: top;\n",
       "    }\n",
       "\n",
       "    .dataframe thead th {\n",
       "        text-align: right;\n",
       "    }\n",
       "</style>\n",
       "<table border=\"1\" class=\"dataframe\">\n",
       "  <thead>\n",
       "    <tr style=\"text-align: right;\">\n",
       "      <th></th>\n",
       "      <th>title</th>\n",
       "      <th>count</th>\n",
       "      <th>avg</th>\n",
       "    </tr>\n",
       "  </thead>\n",
       "  <tbody>\n",
       "    <tr>\n",
       "      <th>0</th>\n",
       "      <td>A Dirty Job (Grim Reaper  #1)</td>\n",
       "      <td>4</td>\n",
       "      <td>5.00</td>\n",
       "    </tr>\n",
       "    <tr>\n",
       "      <th>1</th>\n",
       "      <td>School's Out—Forever (Maximum Ride  #2)</td>\n",
       "      <td>3</td>\n",
       "      <td>5.00</td>\n",
       "    </tr>\n",
       "    <tr>\n",
       "      <th>2</th>\n",
       "      <td>Moneyball: The Art of Winning an Unfair Game</td>\n",
       "      <td>3</td>\n",
       "      <td>5.00</td>\n",
       "    </tr>\n",
       "    <tr>\n",
       "      <th>3</th>\n",
       "      <td>Arrows of the Queen (Heralds of Valdemar  #1)</td>\n",
       "      <td>2</td>\n",
       "      <td>5.00</td>\n",
       "    </tr>\n",
       "    <tr>\n",
       "      <th>4</th>\n",
       "      <td>Wherever You Go  There You Are: Mindfulness Me...</td>\n",
       "      <td>2</td>\n",
       "      <td>5.00</td>\n",
       "    </tr>\n",
       "    <tr>\n",
       "      <th>...</th>\n",
       "      <td>...</td>\n",
       "      <td>...</td>\n",
       "      <td>...</td>\n",
       "    </tr>\n",
       "    <tr>\n",
       "      <th>995</th>\n",
       "      <td>The World Is Flat: A Brief History of the Twen...</td>\n",
       "      <td>3</td>\n",
       "      <td>2.25</td>\n",
       "    </tr>\n",
       "    <tr>\n",
       "      <th>996</th>\n",
       "      <td>Drowning Ruth</td>\n",
       "      <td>3</td>\n",
       "      <td>2.00</td>\n",
       "    </tr>\n",
       "    <tr>\n",
       "      <th>997</th>\n",
       "      <td>His Excellency: George Washington</td>\n",
       "      <td>2</td>\n",
       "      <td>2.00</td>\n",
       "    </tr>\n",
       "    <tr>\n",
       "      <th>998</th>\n",
       "      <td>Junky</td>\n",
       "      <td>2</td>\n",
       "      <td>2.00</td>\n",
       "    </tr>\n",
       "    <tr>\n",
       "      <th>999</th>\n",
       "      <td>Harvesting the Heart</td>\n",
       "      <td>2</td>\n",
       "      <td>1.50</td>\n",
       "    </tr>\n",
       "  </tbody>\n",
       "</table>\n",
       "<p>1000 rows × 3 columns</p>\n",
       "</div>"
      ],
      "text/plain": [
       "                                                 title  count   avg\n",
       "0                        A Dirty Job (Grim Reaper  #1)      4  5.00\n",
       "1              School's Out—Forever (Maximum Ride  #2)      3  5.00\n",
       "2         Moneyball: The Art of Winning an Unfair Game      3  5.00\n",
       "3        Arrows of the Queen (Heralds of Valdemar  #1)      2  5.00\n",
       "4    Wherever You Go  There You Are: Mindfulness Me...      2  5.00\n",
       "..                                                 ...    ...   ...\n",
       "995  The World Is Flat: A Brief History of the Twen...      3  2.25\n",
       "996                                      Drowning Ruth      3  2.00\n",
       "997                  His Excellency: George Washington      2  2.00\n",
       "998                                              Junky      2  2.00\n",
       "999                               Harvesting the Heart      2  1.50\n",
       "\n",
       "[1000 rows x 3 columns]"
      ]
     },
     "execution_count": 10,
     "metadata": {},
     "output_type": "execute_result"
    }
   ],
   "source": [
    "query = '''\n",
    "        SELECT t.title,\n",
    "        COUNT(DISTINCT rev.review_id),\n",
    "        AVG(rat.rating)\n",
    "        FROM books AS t\n",
    "        LEFT JOIN reviews AS rev ON t.book_id = rev.book_id\n",
    "        LEFT JOIN ratings AS rat ON t.book_id = rat.book_id\n",
    "        GROUP BY t.book_id\n",
    "        ORDER BY avg DESC,\n",
    "        count DESC;\n",
    "        '''\n",
    "pd.io.sql.read_sql(query, con = engine)"
   ]
  },
  {
   "cell_type": "markdown",
   "id": "1c28a2eb",
   "metadata": {},
   "source": [
    "**Вывод:**\n",
    "* высокие показатели у книги \"A Dirty Job\" (Grim Reaper ): 4 обзора и средняя оценка, равная 5\n",
    "* низкие показатели у книги \"The Cat in the Hat and Other Dr. Seuss Favorites\": 0 обзоров и средняя оценка, равная 5"
   ]
  },
  {
   "cell_type": "markdown",
   "id": "e65bf1e4",
   "metadata": {},
   "source": [
    "## Задача 3. Определить издательство, которое выпустило наибольшее число книг толще 50 страниц — так мы исключим из анализа брошюры"
   ]
  },
  {
   "cell_type": "code",
   "execution_count": 11,
   "id": "82c62268",
   "metadata": {},
   "outputs": [
    {
     "data": {
      "text/html": [
       "<div>\n",
       "<style scoped>\n",
       "    .dataframe tbody tr th:only-of-type {\n",
       "        vertical-align: middle;\n",
       "    }\n",
       "\n",
       "    .dataframe tbody tr th {\n",
       "        vertical-align: top;\n",
       "    }\n",
       "\n",
       "    .dataframe thead th {\n",
       "        text-align: right;\n",
       "    }\n",
       "</style>\n",
       "<table border=\"1\" class=\"dataframe\">\n",
       "  <thead>\n",
       "    <tr style=\"text-align: right;\">\n",
       "      <th></th>\n",
       "      <th>publisher</th>\n",
       "      <th>books_number</th>\n",
       "    </tr>\n",
       "  </thead>\n",
       "  <tbody>\n",
       "    <tr>\n",
       "      <th>0</th>\n",
       "      <td>Penguin Books</td>\n",
       "      <td>42</td>\n",
       "    </tr>\n",
       "    <tr>\n",
       "      <th>1</th>\n",
       "      <td>Vintage</td>\n",
       "      <td>31</td>\n",
       "    </tr>\n",
       "    <tr>\n",
       "      <th>2</th>\n",
       "      <td>Grand Central Publishing</td>\n",
       "      <td>25</td>\n",
       "    </tr>\n",
       "    <tr>\n",
       "      <th>3</th>\n",
       "      <td>Penguin Classics</td>\n",
       "      <td>24</td>\n",
       "    </tr>\n",
       "    <tr>\n",
       "      <th>4</th>\n",
       "      <td>Bantam</td>\n",
       "      <td>19</td>\n",
       "    </tr>\n",
       "  </tbody>\n",
       "</table>\n",
       "</div>"
      ],
      "text/plain": [
       "                  publisher  books_number\n",
       "0             Penguin Books            42\n",
       "1                   Vintage            31\n",
       "2  Grand Central Publishing            25\n",
       "3          Penguin Classics            24\n",
       "4                    Bantam            19"
      ]
     },
     "execution_count": 11,
     "metadata": {},
     "output_type": "execute_result"
    }
   ],
   "source": [
    "query = ''' SELECT p.publisher,\n",
    "                   COUNT(p.publisher_id) AS books_number  \n",
    "            FROM books AS b\n",
    "            LEFT OUTER JOIN publishers AS p ON b.publisher_id = p.publisher_id\n",
    "            WHERE b.num_pages > 50\n",
    "            GROUP BY p.publisher_id\n",
    "            ORDER BY COUNT(p.publisher_id) DESC\n",
    "            LIMIT 5;\n",
    "        '''\n",
    "\n",
    "pd.io.sql.read_sql(query, con = engine)"
   ]
  },
  {
   "cell_type": "markdown",
   "id": "10caa028",
   "metadata": {},
   "source": [
    "**Вывод:**\n",
    "* Penguin Books\t -  издательство, которое выпустило наибольшее число книг толще 50 страниц"
   ]
  },
  {
   "cell_type": "markdown",
   "id": "40ac69c2",
   "metadata": {},
   "source": [
    "## Задача 4. Определить автора с самой высокой средней оценкой книг — учитывать только книги с 50 и более оценками"
   ]
  },
  {
   "cell_type": "code",
   "execution_count": 12,
   "id": "572a2c75",
   "metadata": {},
   "outputs": [
    {
     "data": {
      "text/html": [
       "<div>\n",
       "<style scoped>\n",
       "    .dataframe tbody tr th:only-of-type {\n",
       "        vertical-align: middle;\n",
       "    }\n",
       "\n",
       "    .dataframe tbody tr th {\n",
       "        vertical-align: top;\n",
       "    }\n",
       "\n",
       "    .dataframe thead th {\n",
       "        text-align: right;\n",
       "    }\n",
       "</style>\n",
       "<table border=\"1\" class=\"dataframe\">\n",
       "  <thead>\n",
       "    <tr style=\"text-align: right;\">\n",
       "      <th></th>\n",
       "      <th>author</th>\n",
       "      <th>avg</th>\n",
       "    </tr>\n",
       "  </thead>\n",
       "  <tbody>\n",
       "    <tr>\n",
       "      <th>0</th>\n",
       "      <td>J.K. Rowling/Mary GrandPré</td>\n",
       "      <td>4.287097</td>\n",
       "    </tr>\n",
       "    <tr>\n",
       "      <th>1</th>\n",
       "      <td>Markus Zusak/Cao Xuân Việt Khương</td>\n",
       "      <td>4.264151</td>\n",
       "    </tr>\n",
       "    <tr>\n",
       "      <th>2</th>\n",
       "      <td>J.R.R. Tolkien</td>\n",
       "      <td>4.246914</td>\n",
       "    </tr>\n",
       "    <tr>\n",
       "      <th>3</th>\n",
       "      <td>Louisa May Alcott</td>\n",
       "      <td>4.192308</td>\n",
       "    </tr>\n",
       "    <tr>\n",
       "      <th>4</th>\n",
       "      <td>Rick Riordan</td>\n",
       "      <td>4.080645</td>\n",
       "    </tr>\n",
       "  </tbody>\n",
       "</table>\n",
       "</div>"
      ],
      "text/plain": [
       "                              author       avg\n",
       "0         J.K. Rowling/Mary GrandPré  4.287097\n",
       "1  Markus Zusak/Cao Xuân Việt Khương  4.264151\n",
       "2                     J.R.R. Tolkien  4.246914\n",
       "3                  Louisa May Alcott  4.192308\n",
       "4                       Rick Riordan  4.080645"
      ]
     },
     "execution_count": 12,
     "metadata": {},
     "output_type": "execute_result"
    }
   ],
   "source": [
    "query = '''\n",
    "        SELECT author, AVG(rating)\n",
    "        FROM authors AS a\n",
    "        \n",
    "        JOIN books AS b ON a.author_id = b.author_id\n",
    "\n",
    "        JOIN ratings AS r ON b.book_id = r.book_id\n",
    "\n",
    "        WHERE b.book_id IN (\n",
    "                            SELECT book_id\n",
    "                            FROM ratings \n",
    "                            GROUP BY book_id\n",
    "                            HAVING COUNT(rating_id) >= 50\n",
    "                            ORDER BY COUNT(rating_id) DESC\n",
    "                            )\n",
    "        GROUP BY author\n",
    "        ORDER BY avg DESC\n",
    "        LIMIT 5\n",
    "\n",
    "        '''\n",
    "pd.io.sql.read_sql(query, con = engine)"
   ]
  },
  {
   "cell_type": "markdown",
   "id": "20b22637",
   "metadata": {},
   "source": [
    "**Вывод:**\n",
    "* J.K. Rowling/Mary GrandPré -  автор с самой высокой средней оценкой книг"
   ]
  },
  {
   "cell_type": "markdown",
   "id": "dac265b0",
   "metadata": {},
   "source": [
    "## Задача 5. Посчитать среднее количество обзоров от пользователей, которые поставили больше 48 оценок"
   ]
  },
  {
   "cell_type": "code",
   "execution_count": 13,
   "id": "65b2435e",
   "metadata": {},
   "outputs": [
    {
     "data": {
      "text/html": [
       "<div>\n",
       "<style scoped>\n",
       "    .dataframe tbody tr th:only-of-type {\n",
       "        vertical-align: middle;\n",
       "    }\n",
       "\n",
       "    .dataframe tbody tr th {\n",
       "        vertical-align: top;\n",
       "    }\n",
       "\n",
       "    .dataframe thead th {\n",
       "        text-align: right;\n",
       "    }\n",
       "</style>\n",
       "<table border=\"1\" class=\"dataframe\">\n",
       "  <thead>\n",
       "    <tr style=\"text-align: right;\">\n",
       "      <th></th>\n",
       "      <th>mean</th>\n",
       "    </tr>\n",
       "  </thead>\n",
       "  <tbody>\n",
       "    <tr>\n",
       "      <th>0</th>\n",
       "      <td>24.0</td>\n",
       "    </tr>\n",
       "  </tbody>\n",
       "</table>\n",
       "</div>"
      ],
      "text/plain": [
       "   mean\n",
       "0  24.0"
      ]
     },
     "execution_count": 13,
     "metadata": {},
     "output_type": "execute_result"
    }
   ],
   "source": [
    "query = ''' WITH  new_rating AS ( SELECT username\n",
    "                                  FROM ratings \n",
    "                                  GROUP BY username\n",
    "                                  HAVING COUNT(book_id) > 48\n",
    "                               ),\n",
    "                               \n",
    "                 new_review AS ( SELECT username,\n",
    "                                 COUNT(book_id) AS reviews_number\n",
    "                                 FROM reviews\n",
    "                                 GROUP BY username\n",
    "                               )\n",
    "                              \n",
    "            SELECT AVG(rev.reviews_number) AS mean\n",
    "            FROM new_review AS rev\n",
    "            INNER JOIN new_rating AS rat ON rat.username = rev.username; \n",
    "        '''\n",
    "pd.io.sql.read_sql(query, con = engine)"
   ]
  },
  {
   "cell_type": "markdown",
   "id": "3156167d",
   "metadata": {},
   "source": [
    "**Вывод:**\n",
    "* 24,3 - среднее количество обзоров от пользователей, которые поставили больше 48 оценок"
   ]
  },
  {
   "cell_type": "markdown",
   "id": "b95e4609",
   "metadata": {},
   "source": [
    "<div class=\"alert alert-info\">Дополнительные задачи:</div>"
   ]
  },
  {
   "cell_type": "markdown",
   "id": "d31d6c77",
   "metadata": {},
   "source": [
    "## Дополнителная задача 1"
   ]
  },
  {
   "cell_type": "markdown",
   "id": "41067bbc",
   "metadata": {},
   "source": [
    "**Выведите таблицу, которая будет содержать по году публикации:**\n",
    "- количество издательств,\n",
    "- количество выпущенных книг \n",
    "- сколько всего тысяч страниц было в изданных книгах\n",
    "\n",
    "*(отобразить только те года, в которых издано более 30 книг)*"
   ]
  },
  {
   "cell_type": "code",
   "execution_count": 14,
   "id": "dd17b2dc",
   "metadata": {
    "scrolled": false
   },
   "outputs": [
    {
     "data": {
      "text/html": [
       "<div>\n",
       "<style scoped>\n",
       "    .dataframe tbody tr th:only-of-type {\n",
       "        vertical-align: middle;\n",
       "    }\n",
       "\n",
       "    .dataframe tbody tr th {\n",
       "        vertical-align: top;\n",
       "    }\n",
       "\n",
       "    .dataframe thead th {\n",
       "        text-align: right;\n",
       "    }\n",
       "</style>\n",
       "<table border=\"1\" class=\"dataframe\">\n",
       "  <thead>\n",
       "    <tr style=\"text-align: right;\">\n",
       "      <th></th>\n",
       "      <th>publ_year</th>\n",
       "      <th>count_publishers</th>\n",
       "      <th>count_books</th>\n",
       "      <th>num_pages_kilo</th>\n",
       "    </tr>\n",
       "  </thead>\n",
       "  <tbody>\n",
       "    <tr>\n",
       "      <th>0</th>\n",
       "      <td>1999.0</td>\n",
       "      <td>26</td>\n",
       "      <td>41</td>\n",
       "      <td>15</td>\n",
       "    </tr>\n",
       "    <tr>\n",
       "      <th>1</th>\n",
       "      <td>2000.0</td>\n",
       "      <td>35</td>\n",
       "      <td>38</td>\n",
       "      <td>13</td>\n",
       "    </tr>\n",
       "    <tr>\n",
       "      <th>2</th>\n",
       "      <td>2001.0</td>\n",
       "      <td>41</td>\n",
       "      <td>60</td>\n",
       "      <td>21</td>\n",
       "    </tr>\n",
       "    <tr>\n",
       "      <th>3</th>\n",
       "      <td>2002.0</td>\n",
       "      <td>62</td>\n",
       "      <td>94</td>\n",
       "      <td>38</td>\n",
       "    </tr>\n",
       "    <tr>\n",
       "      <th>4</th>\n",
       "      <td>2003.0</td>\n",
       "      <td>65</td>\n",
       "      <td>105</td>\n",
       "      <td>41</td>\n",
       "    </tr>\n",
       "    <tr>\n",
       "      <th>5</th>\n",
       "      <td>2004.0</td>\n",
       "      <td>88</td>\n",
       "      <td>124</td>\n",
       "      <td>46</td>\n",
       "    </tr>\n",
       "    <tr>\n",
       "      <th>6</th>\n",
       "      <td>2005.0</td>\n",
       "      <td>89</td>\n",
       "      <td>139</td>\n",
       "      <td>55</td>\n",
       "    </tr>\n",
       "    <tr>\n",
       "      <th>7</th>\n",
       "      <td>2006.0</td>\n",
       "      <td>109</td>\n",
       "      <td>184</td>\n",
       "      <td>68</td>\n",
       "    </tr>\n",
       "    <tr>\n",
       "      <th>8</th>\n",
       "      <td>2007.0</td>\n",
       "      <td>38</td>\n",
       "      <td>50</td>\n",
       "      <td>18</td>\n",
       "    </tr>\n",
       "  </tbody>\n",
       "</table>\n",
       "</div>"
      ],
      "text/plain": [
       "   publ_year  count_publishers  count_books  num_pages_kilo\n",
       "0     1999.0                26           41              15\n",
       "1     2000.0                35           38              13\n",
       "2     2001.0                41           60              21\n",
       "3     2002.0                62           94              38\n",
       "4     2003.0                65          105              41\n",
       "5     2004.0                88          124              46\n",
       "6     2005.0                89          139              55\n",
       "7     2006.0               109          184              68\n",
       "8     2007.0                38           50              18"
      ]
     },
     "execution_count": 14,
     "metadata": {},
     "output_type": "execute_result"
    }
   ],
   "source": [
    "query = ''' SELECT EXTRACT (YEAR FROM publication_date) AS publ_year,\n",
    "                COUNT(DISTINCT publisher_id) AS count_publishers,\n",
    "                COUNT(book_id) AS count_books,\n",
    "                (SUM(num_pages)/1000)AS num_pages_kilo\n",
    "            FROM books\n",
    "            GROUP BY publ_year\n",
    "            HAVING COUNT(book_id) > 30\n",
    "            ORDER BY publ_year,COUNT(book_id) DESC\n",
    "            \n",
    "        '''\n",
    "pd.io.sql.read_sql(query, con = engine)"
   ]
  },
  {
   "cell_type": "markdown",
   "id": "7edddd94",
   "metadata": {},
   "source": [
    "**Вывод:**\n",
    "* самая \"старая\" дата : 1999 насчитывает :\n",
    "    * 26 издательств\n",
    "    * 41 выпущенных книг\n",
    "    * 15 тыс. станиц в книгах\n",
    "* самая \"молодая\" дата : 2006-09-26 насчитывает:\n",
    "    * 38 издательств\n",
    "    * 50 выпущенных книг\n",
    "    * 18 тыс. станиц в книгах"
   ]
  },
  {
   "cell_type": "markdown",
   "id": "60ac423a",
   "metadata": {},
   "source": [
    "## Дополнителная задача 2"
   ]
  },
  {
   "cell_type": "markdown",
   "id": "1761fb55",
   "metadata": {},
   "source": [
    "* Выведите в одной таблице два числа — среднюю оценку тех книг, на которые написало отзывов более 3 человек и отдельно среднюю оценку остальных книг, сделайте выводы какой рейтинг больше"
   ]
  },
  {
   "cell_type": "code",
   "execution_count": 15,
   "id": "b5807bbc",
   "metadata": {},
   "outputs": [
    {
     "data": {
      "text/html": [
       "<div>\n",
       "<style scoped>\n",
       "    .dataframe tbody tr th:only-of-type {\n",
       "        vertical-align: middle;\n",
       "    }\n",
       "\n",
       "    .dataframe tbody tr th {\n",
       "        vertical-align: top;\n",
       "    }\n",
       "\n",
       "    .dataframe thead th {\n",
       "        text-align: right;\n",
       "    }\n",
       "</style>\n",
       "<table border=\"1\" class=\"dataframe\">\n",
       "  <thead>\n",
       "    <tr style=\"text-align: right;\">\n",
       "      <th></th>\n",
       "      <th>avg</th>\n",
       "      <th>avg</th>\n",
       "    </tr>\n",
       "  </thead>\n",
       "  <tbody>\n",
       "    <tr>\n",
       "      <th>0</th>\n",
       "      <td>3.949505</td>\n",
       "      <td>3.890375</td>\n",
       "    </tr>\n",
       "  </tbody>\n",
       "</table>\n",
       "</div>"
      ],
      "text/plain": [
       "        avg       avg\n",
       "0  3.949505  3.890375"
      ]
     },
     "execution_count": 15,
     "metadata": {},
     "output_type": "execute_result"
    }
   ],
   "source": [
    "query = ''' WITH books_with_b3_rating AS \n",
    "              (SELECT book_id\n",
    "                 FROM reviews\n",
    "                 GROUP BY book_id\n",
    "                 HAVING COUNT(DISTINCT review_id )>3),\n",
    "            rating_b3 AS \n",
    "            (SELECT AVG(rating) \n",
    "               FROM ratings AS r INNER JOIN books_with_b3_rating AS b ON b.book_id = r.book_id),\n",
    "            rating_l3 AS \n",
    "            (SELECT AVG(rating) \n",
    "               FROM ratings AS r LEFT JOIN books_with_b3_rating AS b ON b.book_id = r.book_id\n",
    "               WHERE b.book_id IS NULL)\n",
    "            SELECT * FROM rating_b3,rating_l3\n",
    "                    \n",
    "        '''\n",
    "\n",
    "pd.io.sql.read_sql(query, con = engine)"
   ]
  },
  {
   "cell_type": "markdown",
   "id": "5f570759",
   "metadata": {},
   "source": [
    "**Вывод:**\n",
    "* средняя оценка книг, на которые написало отзывов более 3 человек : 3.95\n",
    "* cредняя оценка остальных книг: 3.89\n",
    "* наблюдаем, что средняя оценка книг, на которые написало отзывов более 3 человек, больше той оценки,cредняя оценка которых не более 3 "
   ]
  },
  {
   "cell_type": "markdown",
   "id": "38c044c2",
   "metadata": {},
   "source": [
    "## Дополнителная задача 3"
   ]
  },
  {
   "cell_type": "markdown",
   "id": "85d579ea",
   "metadata": {},
   "source": [
    "* Выведите топ пять пользователей по суммарному показателю написанных ревью и поставленных оценок"
   ]
  },
  {
   "cell_type": "code",
   "execution_count": 16,
   "id": "29bdddda",
   "metadata": {},
   "outputs": [
    {
     "data": {
      "text/html": [
       "<div>\n",
       "<style scoped>\n",
       "    .dataframe tbody tr th:only-of-type {\n",
       "        vertical-align: middle;\n",
       "    }\n",
       "\n",
       "    .dataframe tbody tr th {\n",
       "        vertical-align: top;\n",
       "    }\n",
       "\n",
       "    .dataframe thead th {\n",
       "        text-align: right;\n",
       "    }\n",
       "</style>\n",
       "<table border=\"1\" class=\"dataframe\">\n",
       "  <thead>\n",
       "    <tr style=\"text-align: right;\">\n",
       "      <th></th>\n",
       "      <th>username</th>\n",
       "      <th>sum_rt_rv</th>\n",
       "    </tr>\n",
       "  </thead>\n",
       "  <tbody>\n",
       "    <tr>\n",
       "      <th>0</th>\n",
       "      <td>martinadam</td>\n",
       "      <td>83</td>\n",
       "    </tr>\n",
       "    <tr>\n",
       "      <th>1</th>\n",
       "      <td>sfitzgerald</td>\n",
       "      <td>83</td>\n",
       "    </tr>\n",
       "    <tr>\n",
       "      <th>2</th>\n",
       "      <td>richard89</td>\n",
       "      <td>81</td>\n",
       "    </tr>\n",
       "    <tr>\n",
       "      <th>3</th>\n",
       "      <td>susan85</td>\n",
       "      <td>78</td>\n",
       "    </tr>\n",
       "    <tr>\n",
       "      <th>4</th>\n",
       "      <td>jennifermiller</td>\n",
       "      <td>78</td>\n",
       "    </tr>\n",
       "  </tbody>\n",
       "</table>\n",
       "</div>"
      ],
      "text/plain": [
       "         username  sum_rt_rv\n",
       "0      martinadam         83\n",
       "1     sfitzgerald         83\n",
       "2       richard89         81\n",
       "3         susan85         78\n",
       "4  jennifermiller         78"
      ]
     },
     "execution_count": 16,
     "metadata": {},
     "output_type": "execute_result"
    }
   ],
   "source": [
    "query = ''' WITH review_count AS \n",
    "              (SELECT username,count(*) count_rv\n",
    "                 FROM reviews\n",
    "                 GROUP BY username),\n",
    "            rating_count AS \n",
    "              (SELECT username,count(*) count_rt\n",
    "                 FROM ratings\n",
    "                 GROUP BY username)\n",
    "            \n",
    "            SELECT rv.username,count_rv + count_rt AS sum_rt_rv \n",
    "            FROM review_count rv INNER JOIN rating_count rt ON rv.username = rt.username \n",
    "            ORDER BY count_rv + count_rt DESC\n",
    "            LIMIT 5\n",
    "                    \n",
    "        '''\n",
    "\n",
    "pd.io.sql.read_sql(query, con = engine)"
   ]
  },
  {
   "cell_type": "markdown",
   "id": "b761ff23",
   "metadata": {},
   "source": [
    "**Вывод:**\n",
    "* martinadam и sfitzgerald имеют в топе наибольшую сумму написанных ревью и поставленных оценок : 83\n",
    "* susan85 и jennifermiller имеют в топе наименьшую сумму написанных ревью и поставленных оценок : 78"
   ]
  },
  {
   "cell_type": "markdown",
   "id": "2444ecad",
   "metadata": {},
   "source": [
    "# Общий вывод"
   ]
  },
  {
   "cell_type": "markdown",
   "id": "a73274db",
   "metadata": {},
   "source": [
    "**Обобщим полученные данные:**\n",
    "* значит 819 книг вышло после 1 января 2000 года\n",
    "* высокие показатели у книги \"A Dirty Job\" (Grim Reaper ): 4 обзора и средняя оценка, равная 5\n",
    "* низкие показатели у книги \"The Cat in the Hat and Other Dr. Seuss Favorites\": 0 обзоров и средняя оценка, равная 5\n",
    "* Penguin Books\t -  издательство, которое выпустило наибольшее число книг толще 50 страниц\n",
    "* J.K. Rowling/Mary GrandPré -  автор с самой высокой средней оценкой книг"
   ]
  },
  {
   "cell_type": "markdown",
   "id": "62ac9c27",
   "metadata": {},
   "source": [
    "# Вывод после дополнительного задания"
   ]
  },
  {
   "cell_type": "markdown",
   "id": "a98252ca",
   "metadata": {},
   "source": [
    "**Обобщим полученные данные:**\n",
    "* самая \"старая\" дата : 1999 насчитывает :\n",
    "    * 26 издательств\n",
    "    * 41 выпущенных книг\n",
    "    * 15 тыс. станиц в книгах\n",
    "* самая \"молодая\" дата : 2006-09-26 насчитывает:\n",
    "    * 38 издательств\n",
    "    * 50 выпущенных книг\n",
    "    * 18 тыс. станиц в книгах\n",
    "* средняя оценка книг, на которые написало отзывов более 3 человек : 3.95\n",
    "* cредняя оценка остальных книг: 3.89\n",
    "* наблюдаем, что средняя оценка книг, на которые написало отзывов более 3 человек, больше той оценки,cредняя оценка которых не более 3 \n",
    "* martinadam и sfitzgerald имеют в топе наибольшую сумму написанных ревью и поставленных оценок : 83\n",
    "* susan85 и jennifermiller имеют в топе наименьшую сумму написанных ревью и поставленных оценок : 78"
   ]
  }
 ],
 "metadata": {
  "ExecuteTimeLog": [
   {
    "duration": 713,
    "start_time": "2023-06-23T20:10:05.687Z"
   },
   {
    "duration": 17777,
    "start_time": "2023-06-23T20:10:06.402Z"
   },
   {
    "duration": 220,
    "start_time": "2023-06-23T20:10:24.182Z"
   },
   {
    "duration": 52,
    "start_time": "2023-06-23T20:10:24.413Z"
   },
   {
    "duration": 100,
    "start_time": "2023-06-23T20:10:24.468Z"
   },
   {
    "duration": 67,
    "start_time": "2023-06-23T20:10:24.579Z"
   },
   {
    "duration": 36,
    "start_time": "2023-06-23T20:10:24.650Z"
   },
   {
    "duration": 53,
    "start_time": "2023-06-23T20:10:24.688Z"
   },
   {
    "duration": 114,
    "start_time": "2023-06-23T20:10:24.743Z"
   },
   {
    "duration": 89,
    "start_time": "2023-06-23T20:10:24.860Z"
   },
   {
    "duration": 75,
    "start_time": "2023-06-23T20:10:24.952Z"
   },
   {
    "duration": 26,
    "start_time": "2023-06-23T20:10:25.029Z"
   },
   {
    "duration": 495,
    "start_time": "2023-06-25T07:07:33.699Z"
   },
   {
    "duration": 9467,
    "start_time": "2023-06-25T07:07:34.196Z"
   },
   {
    "duration": 258,
    "start_time": "2023-06-25T07:07:43.665Z"
   },
   {
    "duration": 73,
    "start_time": "2023-06-25T07:07:43.925Z"
   },
   {
    "duration": 73,
    "start_time": "2023-06-25T07:07:44.000Z"
   },
   {
    "duration": 74,
    "start_time": "2023-06-25T07:07:44.075Z"
   },
   {
    "duration": 75,
    "start_time": "2023-06-25T07:07:44.151Z"
   },
   {
    "duration": 168,
    "start_time": "2023-06-25T07:07:44.227Z"
   },
   {
    "duration": 130,
    "start_time": "2023-06-25T07:07:44.396Z"
   },
   {
    "duration": 75,
    "start_time": "2023-06-25T07:07:44.529Z"
   },
   {
    "duration": 79,
    "start_time": "2023-06-25T07:07:44.606Z"
   },
   {
    "duration": 77,
    "start_time": "2023-06-25T07:07:44.686Z"
   },
   {
    "duration": 77,
    "start_time": "2023-06-25T07:07:44.766Z"
   },
   {
    "duration": 82,
    "start_time": "2023-06-25T07:07:44.845Z"
   },
   {
    "duration": 76,
    "start_time": "2023-06-25T07:07:44.928Z"
   },
   {
    "duration": 535,
    "start_time": "2023-06-26T20:18:51.100Z"
   },
   {
    "duration": 9140,
    "start_time": "2023-06-26T20:18:51.638Z"
   },
   {
    "duration": 299,
    "start_time": "2023-06-26T20:19:00.780Z"
   },
   {
    "duration": 78,
    "start_time": "2023-06-26T20:19:01.082Z"
   },
   {
    "duration": 77,
    "start_time": "2023-06-26T20:19:01.163Z"
   },
   {
    "duration": 77,
    "start_time": "2023-06-26T20:19:01.242Z"
   },
   {
    "duration": 78,
    "start_time": "2023-06-26T20:19:01.321Z"
   },
   {
    "duration": 78,
    "start_time": "2023-06-26T20:19:01.400Z"
   },
   {
    "duration": 116,
    "start_time": "2023-06-26T20:19:01.479Z"
   },
   {
    "duration": 78,
    "start_time": "2023-06-26T20:19:01.597Z"
   },
   {
    "duration": 85,
    "start_time": "2023-06-26T20:19:01.677Z"
   },
   {
    "duration": 79,
    "start_time": "2023-06-26T20:19:01.764Z"
   },
   {
    "duration": 78,
    "start_time": "2023-06-26T20:19:01.845Z"
   },
   {
    "duration": 81,
    "start_time": "2023-06-26T20:19:01.926Z"
   },
   {
    "duration": 80,
    "start_time": "2023-06-26T20:19:02.009Z"
   }
  ],
  "kernelspec": {
   "display_name": "Python 3 (ipykernel)",
   "language": "python",
   "name": "python3"
  },
  "language_info": {
   "codemirror_mode": {
    "name": "ipython",
    "version": 3
   },
   "file_extension": ".py",
   "mimetype": "text/x-python",
   "name": "python",
   "nbconvert_exporter": "python",
   "pygments_lexer": "ipython3",
   "version": "3.9.7"
  },
  "toc": {
   "base_numbering": 1,
   "nav_menu": {},
   "number_sections": true,
   "sideBar": true,
   "skip_h1_title": false,
   "title_cell": "Table of Contents",
   "title_sidebar": "Содержание",
   "toc_cell": false,
   "toc_position": {
    "height": "calc(100% - 180px)",
    "left": "10px",
    "top": "150px",
    "width": "369px"
   },
   "toc_section_display": true,
   "toc_window_display": true
  }
 },
 "nbformat": 4,
 "nbformat_minor": 5
}
